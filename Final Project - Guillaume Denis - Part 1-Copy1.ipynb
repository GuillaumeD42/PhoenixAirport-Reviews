{
 "cells": [
  {
   "cell_type": "markdown",
   "metadata": {},
   "source": [
    "<h1><center>Final Project - Phoenix Sky Harbor International Airport - <i> Part 1 </i></center></h1>"
   ]
  },
  {
   "cell_type": "markdown",
   "metadata": {},
   "source": [
    "<h3><center><i>Guillaume Denis<i></center></h3>\n"
   ]
  },
  {
   "cell_type": "code",
   "execution_count": 1,
   "metadata": {},
   "outputs": [
    {
     "ename": "ModuleNotFoundError",
     "evalue": "No module named 'pymysql'",
     "output_type": "error",
     "traceback": [
      "\u001b[1;31m---------------------------------------------------------------------------\u001b[0m",
      "\u001b[1;31mModuleNotFoundError\u001b[0m                       Traceback (most recent call last)",
      "\u001b[1;32m<ipython-input-1-6d045b5424c8>\u001b[0m in \u001b[0;36m<module>\u001b[1;34m()\u001b[0m\n\u001b[0;32m     10\u001b[0m \u001b[1;32mfrom\u001b[0m \u001b[0mnltk\u001b[0m\u001b[1;33m.\u001b[0m\u001b[0mtext\u001b[0m \u001b[1;32mimport\u001b[0m \u001b[0mText\u001b[0m\u001b[1;33m\u001b[0m\u001b[0m\n\u001b[0;32m     11\u001b[0m \u001b[1;32mfrom\u001b[0m \u001b[0mmatplotlib\u001b[0m \u001b[1;32mimport\u001b[0m \u001b[0mpyplot\u001b[0m\u001b[1;33m\u001b[0m\u001b[0m\n\u001b[1;32m---> 12\u001b[1;33m \u001b[1;32mimport\u001b[0m \u001b[0mpymysql\u001b[0m\u001b[1;33m\u001b[0m\u001b[0m\n\u001b[0m",
      "\u001b[1;31mModuleNotFoundError\u001b[0m: No module named 'pymysql'"
     ]
    }
   ],
   "source": [
    "%matplotlib inline\n",
    "import pandas as pd\n",
    "import numpy as np\n",
    "import matplotlib.pyplot as plt\n",
    "import seaborn as sns\n",
    "import itertools\n",
    "import nltk\n",
    "import string\n",
    "import nlp_utilities as nlp\n",
    "from nltk.text import Text\n",
    "from matplotlib import pyplot\n",
    "import pymysql"
   ]
  },
  {
   "cell_type": "code",
   "execution_count": null,
   "metadata": {},
   "outputs": [
    {
     "name": "stdout",
     "output_type": "stream",
     "text": [
      "showing info https://raw.githubusercontent.com/nltk/nltk_data/gh-pages/index.xml\n"
     ]
    }
   ],
   "source": [
    "nltk.download()"
   ]
  },
  {
   "cell_type": "code",
   "execution_count": 6,
   "metadata": {
    "collapsed": true
   },
   "outputs": [],
   "source": [
    "server = \"analyst-toolbelt.cn119w37trlg.eu-west-1.rds.amazonaws.com\"\n",
    "username = \"emlyon1\"\n",
    "password = \"student1\""
   ]
  },
  {
   "cell_type": "code",
   "execution_count": 7,
   "metadata": {},
   "outputs": [],
   "source": [
    "connection = pymysql.connect(host=server,\n",
    "                             user=username,\n",
    "                             password=password,\n",
    "                             db='yelp',\n",
    "                             charset='utf8')"
   ]
  },
  {
   "cell_type": "code",
   "execution_count": 8,
   "metadata": {
    "collapsed": true
   },
   "outputs": [],
   "source": [
    "QUERY = \"\"\"\n",
    "select * from review\n",
    "where business_id = 'hW0Ne_HTHEAgGF1rAdmR-g';\n",
    "\"\"\""
   ]
  },
  {
   "cell_type": "code",
   "execution_count": 9,
   "metadata": {
    "collapsed": true
   },
   "outputs": [],
   "source": [
    "myreviews = pd.read_sql(QUERY, connection)"
   ]
  },
  {
   "cell_type": "code",
   "execution_count": 10,
   "metadata": {},
   "outputs": [
    {
     "data": {
      "text/html": [
       "<div>\n",
       "<table border=\"1\" class=\"dataframe\">\n",
       "  <thead>\n",
       "    <tr style=\"text-align: right;\">\n",
       "      <th></th>\n",
       "      <th>rid</th>\n",
       "      <th>business_id</th>\n",
       "      <th>user_id</th>\n",
       "      <th>stars</th>\n",
       "      <th>text</th>\n",
       "      <th>date</th>\n",
       "      <th>useful_votes</th>\n",
       "      <th>funny_votes</th>\n",
       "      <th>cool_votes</th>\n",
       "    </tr>\n",
       "  </thead>\n",
       "  <tbody>\n",
       "    <tr>\n",
       "      <th>0</th>\n",
       "      <td>8</td>\n",
       "      <td>hW0Ne_HTHEAgGF1rAdmR-g</td>\n",
       "      <td>1ieuYcKS7zeAv_U15AB13A</td>\n",
       "      <td>4</td>\n",
       "      <td>Luckily, I didn't have to travel far to make m...</td>\n",
       "      <td>2012-07-12</td>\n",
       "      <td>1</td>\n",
       "      <td>0</td>\n",
       "      <td>0</td>\n",
       "    </tr>\n",
       "    <tr>\n",
       "      <th>1</th>\n",
       "      <td>91</td>\n",
       "      <td>hW0Ne_HTHEAgGF1rAdmR-g</td>\n",
       "      <td>8tbXmjYGsYFZXk6ppuwRWQ</td>\n",
       "      <td>1</td>\n",
       "      <td>The beach paradise of Ixtapa-Zihuatenejo await...</td>\n",
       "      <td>2010-07-06</td>\n",
       "      <td>7</td>\n",
       "      <td>9</td>\n",
       "      <td>7</td>\n",
       "    </tr>\n",
       "    <tr>\n",
       "      <th>2</th>\n",
       "      <td>147</td>\n",
       "      <td>hW0Ne_HTHEAgGF1rAdmR-g</td>\n",
       "      <td>gYIHSsoa260H544x9guLOg</td>\n",
       "      <td>3</td>\n",
       "      <td>I have been through plenty of airports around ...</td>\n",
       "      <td>2010-09-09</td>\n",
       "      <td>2</td>\n",
       "      <td>3</td>\n",
       "      <td>2</td>\n",
       "    </tr>\n",
       "    <tr>\n",
       "      <th>3</th>\n",
       "      <td>541</td>\n",
       "      <td>hW0Ne_HTHEAgGF1rAdmR-g</td>\n",
       "      <td>2FiNCj5rM3nF0qgaWf86Gg</td>\n",
       "      <td>2</td>\n",
       "      <td>A pain to get in and out of. I dread each trip...</td>\n",
       "      <td>2009-07-04</td>\n",
       "      <td>2</td>\n",
       "      <td>2</td>\n",
       "      <td>2</td>\n",
       "    </tr>\n",
       "    <tr>\n",
       "      <th>4</th>\n",
       "      <td>1126</td>\n",
       "      <td>hW0Ne_HTHEAgGF1rAdmR-g</td>\n",
       "      <td>A99dyhEqcd_yXKPfBWeZHA</td>\n",
       "      <td>4</td>\n",
       "      <td>My home airport, so with work travel, I'm pass...</td>\n",
       "      <td>2012-05-30</td>\n",
       "      <td>3</td>\n",
       "      <td>0</td>\n",
       "      <td>1</td>\n",
       "    </tr>\n",
       "  </tbody>\n",
       "</table>\n",
       "</div>"
      ],
      "text/plain": [
       "    rid             business_id                 user_id  stars  \\\n",
       "0     8  hW0Ne_HTHEAgGF1rAdmR-g  1ieuYcKS7zeAv_U15AB13A      4   \n",
       "1    91  hW0Ne_HTHEAgGF1rAdmR-g  8tbXmjYGsYFZXk6ppuwRWQ      1   \n",
       "2   147  hW0Ne_HTHEAgGF1rAdmR-g  gYIHSsoa260H544x9guLOg      3   \n",
       "3   541  hW0Ne_HTHEAgGF1rAdmR-g  2FiNCj5rM3nF0qgaWf86Gg      2   \n",
       "4  1126  hW0Ne_HTHEAgGF1rAdmR-g  A99dyhEqcd_yXKPfBWeZHA      4   \n",
       "\n",
       "                                                text        date  \\\n",
       "0  Luckily, I didn't have to travel far to make m...  2012-07-12   \n",
       "1  The beach paradise of Ixtapa-Zihuatenejo await...  2010-07-06   \n",
       "2  I have been through plenty of airports around ...  2010-09-09   \n",
       "3  A pain to get in and out of. I dread each trip...  2009-07-04   \n",
       "4  My home airport, so with work travel, I'm pass...  2012-05-30   \n",
       "\n",
       "   useful_votes  funny_votes  cool_votes  \n",
       "0             1            0           0  \n",
       "1             7            9           7  \n",
       "2             2            3           2  \n",
       "3             2            2           2  \n",
       "4             3            0           1  "
      ]
     },
     "execution_count": 10,
     "metadata": {},
     "output_type": "execute_result"
    }
   ],
   "source": [
    "myreviews.head()"
   ]
  },
  {
   "cell_type": "markdown",
   "metadata": {},
   "source": [
    "<h3><center>Analysis of the DataSet</center></h3>"
   ]
  },
  {
   "cell_type": "markdown",
   "metadata": {},
   "source": [
    "<center>Length of the DataSet</center>"
   ]
  },
  {
   "cell_type": "code",
   "execution_count": 11,
   "metadata": {},
   "outputs": [
    {
     "data": {
      "text/plain": [
       "77"
      ]
     },
     "execution_count": 11,
     "metadata": {},
     "output_type": "execute_result"
    }
   ],
   "source": [
    "len(myreviews)"
   ]
  },
  {
   "cell_type": "markdown",
   "metadata": {},
   "source": [
    "There are 77 reviews about the Phoenix Sky Harbor International Airport in this DataFrame"
   ]
  },
  {
   "cell_type": "markdown",
   "metadata": {},
   "source": [
    "<center>Types of the columns</center>"
   ]
  },
  {
   "cell_type": "code",
   "execution_count": 12,
   "metadata": {},
   "outputs": [
    {
     "data": {
      "text/plain": [
       "rid              int64\n",
       "business_id     object\n",
       "user_id         object\n",
       "stars            int64\n",
       "text            object\n",
       "date            object\n",
       "useful_votes     int64\n",
       "funny_votes      int64\n",
       "cool_votes       int64\n",
       "dtype: object"
      ]
     },
     "execution_count": 12,
     "metadata": {},
     "output_type": "execute_result"
    }
   ],
   "source": [
    "myreviews.dtypes"
   ]
  },
  {
   "cell_type": "markdown",
   "metadata": {},
   "source": [
    "<center>Analysis of the Time Period</center>"
   ]
  },
  {
   "cell_type": "code",
   "execution_count": 13,
   "metadata": {
    "collapsed": true
   },
   "outputs": [],
   "source": [
    "SQL1 = \"SELECT b.name, a.business_id, a.date, user_id, a.stars, useful_votes, funny_votes, cool_votes, text FROM review a INNER JOIN business b on a.business_id = b.business_id WHERE a.business_id = 'hW0Ne_HTHEAgGF1rAdmR-g' ORDER BY a.date ASC\""
   ]
  },
  {
   "cell_type": "code",
   "execution_count": 14,
   "metadata": {
    "collapsed": true
   },
   "outputs": [],
   "source": [
    "firstreview = pd.read_sql(SQL1, connection)"
   ]
  },
  {
   "cell_type": "code",
   "execution_count": 15,
   "metadata": {},
   "outputs": [
    {
     "data": {
      "text/html": [
       "<div>\n",
       "<table border=\"1\" class=\"dataframe\">\n",
       "  <thead>\n",
       "    <tr style=\"text-align: right;\">\n",
       "      <th></th>\n",
       "      <th>name</th>\n",
       "      <th>business_id</th>\n",
       "      <th>date</th>\n",
       "      <th>user_id</th>\n",
       "      <th>stars</th>\n",
       "      <th>useful_votes</th>\n",
       "      <th>funny_votes</th>\n",
       "      <th>cool_votes</th>\n",
       "      <th>text</th>\n",
       "    </tr>\n",
       "  </thead>\n",
       "  <tbody>\n",
       "    <tr>\n",
       "      <th>0</th>\n",
       "      <td>Phoenix Sky Harbor International Airport</td>\n",
       "      <td>hW0Ne_HTHEAgGF1rAdmR-g</td>\n",
       "      <td>2007-02-11</td>\n",
       "      <td>OwcvQW8hbLjcU8eW-1xCIw</td>\n",
       "      <td>5</td>\n",
       "      <td>1</td>\n",
       "      <td>2</td>\n",
       "      <td>2</td>\n",
       "      <td>Stuck here for 3hrs on a layover.  What to do,...</td>\n",
       "    </tr>\n",
       "  </tbody>\n",
       "</table>\n",
       "</div>"
      ],
      "text/plain": [
       "                                       name             business_id  \\\n",
       "0  Phoenix Sky Harbor International Airport  hW0Ne_HTHEAgGF1rAdmR-g   \n",
       "\n",
       "         date                 user_id  stars  useful_votes  funny_votes  \\\n",
       "0  2007-02-11  OwcvQW8hbLjcU8eW-1xCIw      5             1            2   \n",
       "\n",
       "   cool_votes                                               text  \n",
       "0           2  Stuck here for 3hrs on a layover.  What to do,...  "
      ]
     },
     "execution_count": 15,
     "metadata": {},
     "output_type": "execute_result"
    }
   ],
   "source": [
    "firstreview[:1]"
   ]
  },
  {
   "cell_type": "markdown",
   "metadata": {},
   "source": [
    "As we can see, the first review is from 2007-02-11."
   ]
  },
  {
   "cell_type": "code",
   "execution_count": 16,
   "metadata": {
    "collapsed": true
   },
   "outputs": [],
   "source": [
    "SQL2 = \"SELECT b.name, a.business_id, a.date, user_id, a.stars, useful_votes, funny_votes, cool_votes, text FROM review a INNER JOIN business b on a.business_id = b.business_id WHERE a.business_id = 'hW0Ne_HTHEAgGF1rAdmR-g' ORDER BY a.date DESC\""
   ]
  },
  {
   "cell_type": "code",
   "execution_count": 17,
   "metadata": {
    "collapsed": true
   },
   "outputs": [],
   "source": [
    "lastreview = pd.read_sql(SQL2, connection)"
   ]
  },
  {
   "cell_type": "code",
   "execution_count": 18,
   "metadata": {},
   "outputs": [
    {
     "data": {
      "text/html": [
       "<div>\n",
       "<table border=\"1\" class=\"dataframe\">\n",
       "  <thead>\n",
       "    <tr style=\"text-align: right;\">\n",
       "      <th></th>\n",
       "      <th>name</th>\n",
       "      <th>business_id</th>\n",
       "      <th>date</th>\n",
       "      <th>user_id</th>\n",
       "      <th>stars</th>\n",
       "      <th>useful_votes</th>\n",
       "      <th>funny_votes</th>\n",
       "      <th>cool_votes</th>\n",
       "      <th>text</th>\n",
       "    </tr>\n",
       "  </thead>\n",
       "  <tbody>\n",
       "    <tr>\n",
       "      <th>0</th>\n",
       "      <td>Phoenix Sky Harbor International Airport</td>\n",
       "      <td>hW0Ne_HTHEAgGF1rAdmR-g</td>\n",
       "      <td>2012-12-30</td>\n",
       "      <td>igkkcYRh6VY5i15H6ocgfA</td>\n",
       "      <td>4</td>\n",
       "      <td>0</td>\n",
       "      <td>0</td>\n",
       "      <td>0</td>\n",
       "      <td>It's a pretty big airport! Beware if flying in...</td>\n",
       "    </tr>\n",
       "  </tbody>\n",
       "</table>\n",
       "</div>"
      ],
      "text/plain": [
       "                                       name             business_id  \\\n",
       "0  Phoenix Sky Harbor International Airport  hW0Ne_HTHEAgGF1rAdmR-g   \n",
       "\n",
       "         date                 user_id  stars  useful_votes  funny_votes  \\\n",
       "0  2012-12-30  igkkcYRh6VY5i15H6ocgfA      4             0            0   \n",
       "\n",
       "   cool_votes                                               text  \n",
       "0           0  It's a pretty big airport! Beware if flying in...  "
      ]
     },
     "execution_count": 18,
     "metadata": {},
     "output_type": "execute_result"
    }
   ],
   "source": [
    "lastreview[:1]"
   ]
  },
  {
   "cell_type": "markdown",
   "metadata": {},
   "source": [
    "As we can see, the last review is from 2012-12-30."
   ]
  },
  {
   "cell_type": "code",
   "execution_count": 19,
   "metadata": {
    "collapsed": true
   },
   "outputs": [],
   "source": [
    "SQL3 = \"SELECT a.stars, count(user_id) FROM review a INNER JOIN business b on a.business_id = b.business_id WHERE a.business_id = 'hW0Ne_HTHEAgGF1rAdmR-g' GROUP BY a.stars\""
   ]
  },
  {
   "cell_type": "code",
   "execution_count": 20,
   "metadata": {},
   "outputs": [],
   "source": [
    "stars = pd.read_sql(SQL3, connection)"
   ]
  },
  {
   "cell_type": "code",
   "execution_count": 21,
   "metadata": {},
   "outputs": [
    {
     "data": {
      "text/html": [
       "<div>\n",
       "<table border=\"1\" class=\"dataframe\">\n",
       "  <thead>\n",
       "    <tr style=\"text-align: right;\">\n",
       "      <th></th>\n",
       "      <th>stars</th>\n",
       "      <th>count(user_id)</th>\n",
       "    </tr>\n",
       "  </thead>\n",
       "  <tbody>\n",
       "    <tr>\n",
       "      <th>0</th>\n",
       "      <td>1</td>\n",
       "      <td>7</td>\n",
       "    </tr>\n",
       "    <tr>\n",
       "      <th>1</th>\n",
       "      <td>2</td>\n",
       "      <td>10</td>\n",
       "    </tr>\n",
       "    <tr>\n",
       "      <th>2</th>\n",
       "      <td>3</td>\n",
       "      <td>22</td>\n",
       "    </tr>\n",
       "    <tr>\n",
       "      <th>3</th>\n",
       "      <td>4</td>\n",
       "      <td>28</td>\n",
       "    </tr>\n",
       "    <tr>\n",
       "      <th>4</th>\n",
       "      <td>5</td>\n",
       "      <td>10</td>\n",
       "    </tr>\n",
       "  </tbody>\n",
       "</table>\n",
       "</div>"
      ],
      "text/plain": [
       "   stars  count(user_id)\n",
       "0      1               7\n",
       "1      2              10\n",
       "2      3              22\n",
       "3      4              28\n",
       "4      5              10"
      ]
     },
     "execution_count": 21,
     "metadata": {},
     "output_type": "execute_result"
    }
   ],
   "source": [
    "stars"
   ]
  },
  {
   "cell_type": "code",
   "execution_count": 23,
   "metadata": {
    "scrolled": true
   },
   "outputs": [
    {
     "data": {
      "text/plain": [
       "<matplotlib.axes._subplots.AxesSubplot at 0x26838e1bdd8>"
      ]
     },
     "execution_count": 23,
     "metadata": {},
     "output_type": "execute_result"
    },
    {
     "data": {
      "image/png": "[encoded data removed]",
      "text/plain": [
       "<matplotlib.figure.Figure at 0x26838dc87b8>"
      ]
     },
     "metadata": {},
     "output_type": "display_data"
    }
   ],
   "source": [
    "stars.plot.bar(x='stars', rot=0, title='Ratings', figsize=(7,3), fontsize=12)"
   ]
  },
  {
   "cell_type": "markdown",
   "metadata": {},
   "source": [
    "<center> Let's check the time period of these ratings </center>"
   ]
  },
  {
   "cell_type": "code",
   "execution_count": 23,
   "metadata": {
    "collapsed": true
   },
   "outputs": [],
   "source": [
    "SQL4 = \"SELECT a.date, user_id, a.stars, useful_votes, funny_votes, cool_votes, text FROM review a INNER JOIN business b on a.business_id = b.business_id WHERE a.business_id = 'hW0Ne_HTHEAgGF1rAdmR-g' AND a.stars = '5' ORDER BY 1 ASC\""
   ]
  },
  {
   "cell_type": "code",
   "execution_count": 24,
   "metadata": {
    "collapsed": true
   },
   "outputs": [],
   "source": [
    "five_stars = pd.read_sql(SQL4, connection)"
   ]
  },
  {
   "cell_type": "code",
   "execution_count": 25,
   "metadata": {},
   "outputs": [
    {
     "data": {
      "text/plain": [
       "10"
      ]
     },
     "execution_count": 25,
     "metadata": {},
     "output_type": "execute_result"
    }
   ],
   "source": [
    "len(five_stars)"
   ]
  },
  {
   "cell_type": "code",
   "execution_count": 26,
   "metadata": {},
   "outputs": [
    {
     "data": {
      "text/html": [
       "<div>\n",
       "<table border=\"1\" class=\"dataframe\">\n",
       "  <thead>\n",
       "    <tr style=\"text-align: right;\">\n",
       "      <th></th>\n",
       "      <th>date</th>\n",
       "      <th>user_id</th>\n",
       "      <th>stars</th>\n",
       "      <th>useful_votes</th>\n",
       "      <th>funny_votes</th>\n",
       "      <th>cool_votes</th>\n",
       "      <th>text</th>\n",
       "    </tr>\n",
       "  </thead>\n",
       "  <tbody>\n",
       "    <tr>\n",
       "      <th>0</th>\n",
       "      <td>2007-02-11</td>\n",
       "      <td>OwcvQW8hbLjcU8eW-1xCIw</td>\n",
       "      <td>5</td>\n",
       "      <td>1</td>\n",
       "      <td>2</td>\n",
       "      <td>2</td>\n",
       "      <td>Stuck here for 3hrs on a layover.  What to do,...</td>\n",
       "    </tr>\n",
       "  </tbody>\n",
       "</table>\n",
       "</div>"
      ],
      "text/plain": [
       "         date                 user_id  stars  useful_votes  funny_votes  \\\n",
       "0  2007-02-11  OwcvQW8hbLjcU8eW-1xCIw      5             1            2   \n",
       "\n",
       "   cool_votes                                               text  \n",
       "0           2  Stuck here for 3hrs on a layover.  What to do,...  "
      ]
     },
     "execution_count": 26,
     "metadata": {},
     "output_type": "execute_result"
    }
   ],
   "source": [
    "five_stars[:1]"
   ]
  },
  {
   "cell_type": "code",
   "execution_count": 27,
   "metadata": {},
   "outputs": [
    {
     "data": {
      "text/html": [
       "<div>\n",
       "<table border=\"1\" class=\"dataframe\">\n",
       "  <thead>\n",
       "    <tr style=\"text-align: right;\">\n",
       "      <th></th>\n",
       "      <th>date</th>\n",
       "      <th>user_id</th>\n",
       "      <th>stars</th>\n",
       "      <th>useful_votes</th>\n",
       "      <th>funny_votes</th>\n",
       "      <th>cool_votes</th>\n",
       "      <th>text</th>\n",
       "    </tr>\n",
       "  </thead>\n",
       "  <tbody>\n",
       "    <tr>\n",
       "      <th>9</th>\n",
       "      <td>2012-06-14</td>\n",
       "      <td>Ac_4U3LDCrNgf6Z9OP3kXA</td>\n",
       "      <td>5</td>\n",
       "      <td>1</td>\n",
       "      <td>0</td>\n",
       "      <td>1</td>\n",
       "      <td>I like PHX airport.\\n\\nI find it easy to get t...</td>\n",
       "    </tr>\n",
       "  </tbody>\n",
       "</table>\n",
       "</div>"
      ],
      "text/plain": [
       "         date                 user_id  stars  useful_votes  funny_votes  \\\n",
       "9  2012-06-14  Ac_4U3LDCrNgf6Z9OP3kXA      5             1            0   \n",
       "\n",
       "   cool_votes                                               text  \n",
       "9           1  I like PHX airport.\\n\\nI find it easy to get t...  "
      ]
     },
     "execution_count": 27,
     "metadata": {},
     "output_type": "execute_result"
    }
   ],
   "source": [
    "five_stars[9:10]"
   ]
  },
  {
   "cell_type": "markdown",
   "metadata": {},
   "source": [
    "As we can see (and I checked for every other ratings), the time lapse is not very relevant"
   ]
  },
  {
   "cell_type": "markdown",
   "metadata": {},
   "source": [
    "Let's look at the distribution of stars over time. There are no real trends, especially for the last 2 years of reviews. "
   ]
  },
  {
   "cell_type": "code",
   "execution_count": 31,
   "metadata": {},
   "outputs": [
    {
     "data": {
      "text/plain": [
       "<matplotlib.axes._subplots.AxesSubplot at 0x26630e88358>"
      ]
     },
     "execution_count": 31,
     "metadata": {},
     "output_type": "execute_result"
    },
    {
     "data": {
      "image/png": "[encoded data removed]",
      "text/plain": [
       "<matplotlib.figure.Figure at 0x26630e96320>"
      ]
     },
     "metadata": {},
     "output_type": "display_data"
    }
   ],
   "source": [
    "% matplotlib inline\n",
    "myreviews.sort_values(by=\"date\", ascending=True).plot(x=\"date\", y=\"stars\")"
   ]
  },
  {
   "cell_type": "markdown",
   "metadata": {},
   "source": [
    "<center><b> Reviews per user </b></center>"
   ]
  },
  {
   "cell_type": "code",
   "execution_count": 28,
   "metadata": {
    "collapsed": true
   },
   "outputs": [],
   "source": [
    "SQL5 = \"SELECT user_id, count(text) FROM review a INNER JOIN business b on a.business_id = b.business_id WHERE a.business_id = 'hW0Ne_HTHEAgGF1rAdmR-g' GROUP BY user_id\""
   ]
  },
  {
   "cell_type": "code",
   "execution_count": 29,
   "metadata": {
    "collapsed": true
   },
   "outputs": [],
   "source": [
    "review_per_user = pd.read_sql(SQL5, connection)"
   ]
  },
  {
   "cell_type": "code",
   "execution_count": 30,
   "metadata": {},
   "outputs": [
    {
     "data": {
      "text/html": [
       "<div>\n",
       "<table border=\"1\" class=\"dataframe\">\n",
       "  <thead>\n",
       "    <tr style=\"text-align: right;\">\n",
       "      <th></th>\n",
       "      <th>user_id</th>\n",
       "      <th>count(text)</th>\n",
       "    </tr>\n",
       "  </thead>\n",
       "  <tbody>\n",
       "    <tr>\n",
       "      <th>0</th>\n",
       "      <td>-24tMru5bOEJG7MeFwkdmw</td>\n",
       "      <td>1</td>\n",
       "    </tr>\n",
       "    <tr>\n",
       "      <th>1</th>\n",
       "      <td>-vRFUY8ixuNniCCNVvmkRQ</td>\n",
       "      <td>1</td>\n",
       "    </tr>\n",
       "    <tr>\n",
       "      <th>2</th>\n",
       "      <td>0EtZMnRQF2YsXvWBQ7FauQ</td>\n",
       "      <td>1</td>\n",
       "    </tr>\n",
       "    <tr>\n",
       "      <th>3</th>\n",
       "      <td>0mqHhdKEdak_A1FBhFNXqA</td>\n",
       "      <td>1</td>\n",
       "    </tr>\n",
       "    <tr>\n",
       "      <th>4</th>\n",
       "      <td>0q87nf1yJFv0GML2J64Ttg</td>\n",
       "      <td>1</td>\n",
       "    </tr>\n",
       "    <tr>\n",
       "      <th>5</th>\n",
       "      <td>1ieuYcKS7zeAv_U15AB13A</td>\n",
       "      <td>1</td>\n",
       "    </tr>\n",
       "    <tr>\n",
       "      <th>6</th>\n",
       "      <td>1IuiysbKKeaYtE2jRMgL6w</td>\n",
       "      <td>1</td>\n",
       "    </tr>\n",
       "    <tr>\n",
       "      <th>7</th>\n",
       "      <td>2FiNCj5rM3nF0qgaWf86Gg</td>\n",
       "      <td>1</td>\n",
       "    </tr>\n",
       "    <tr>\n",
       "      <th>8</th>\n",
       "      <td>2lFL7UtU5E_njKRU9DxiaA</td>\n",
       "      <td>1</td>\n",
       "    </tr>\n",
       "    <tr>\n",
       "      <th>9</th>\n",
       "      <td>2rlBbFPHyZjXSFSE8r551w</td>\n",
       "      <td>1</td>\n",
       "    </tr>\n",
       "    <tr>\n",
       "      <th>10</th>\n",
       "      <td>3Jw-rYwJEz6jSqPgVVmmhA</td>\n",
       "      <td>1</td>\n",
       "    </tr>\n",
       "    <tr>\n",
       "      <th>11</th>\n",
       "      <td>4qHDTXscBB8zrz5wXaoXfw</td>\n",
       "      <td>1</td>\n",
       "    </tr>\n",
       "    <tr>\n",
       "      <th>12</th>\n",
       "      <td>4_YfcfHkCem1onJFkItxjA</td>\n",
       "      <td>1</td>\n",
       "    </tr>\n",
       "    <tr>\n",
       "      <th>13</th>\n",
       "      <td>5RJ2Zycslp8cLyAJl4pUNQ</td>\n",
       "      <td>1</td>\n",
       "    </tr>\n",
       "    <tr>\n",
       "      <th>14</th>\n",
       "      <td>70ZgchHDOLaTGR109j6SIA</td>\n",
       "      <td>1</td>\n",
       "    </tr>\n",
       "    <tr>\n",
       "      <th>15</th>\n",
       "      <td>740We6l5ENHvwTbUPX-g5A</td>\n",
       "      <td>1</td>\n",
       "    </tr>\n",
       "    <tr>\n",
       "      <th>16</th>\n",
       "      <td>8tbXmjYGsYFZXk6ppuwRWQ</td>\n",
       "      <td>1</td>\n",
       "    </tr>\n",
       "    <tr>\n",
       "      <th>17</th>\n",
       "      <td>8xuvjSMwb1gZfR-YJVcqKQ</td>\n",
       "      <td>1</td>\n",
       "    </tr>\n",
       "    <tr>\n",
       "      <th>18</th>\n",
       "      <td>A99dyhEqcd_yXKPfBWeZHA</td>\n",
       "      <td>1</td>\n",
       "    </tr>\n",
       "    <tr>\n",
       "      <th>19</th>\n",
       "      <td>abal82kJXIfQjdXVGSIVZA</td>\n",
       "      <td>1</td>\n",
       "    </tr>\n",
       "    <tr>\n",
       "      <th>20</th>\n",
       "      <td>Ac_4U3LDCrNgf6Z9OP3kXA</td>\n",
       "      <td>1</td>\n",
       "    </tr>\n",
       "    <tr>\n",
       "      <th>21</th>\n",
       "      <td>ast7yCfvhIwaD53OFSXoag</td>\n",
       "      <td>1</td>\n",
       "    </tr>\n",
       "    <tr>\n",
       "      <th>22</th>\n",
       "      <td>ATTZIoznhbRhmrwjubid3Q</td>\n",
       "      <td>1</td>\n",
       "    </tr>\n",
       "    <tr>\n",
       "      <th>23</th>\n",
       "      <td>Aw3EMRqdSJ2DtqoI_NpgWA</td>\n",
       "      <td>1</td>\n",
       "    </tr>\n",
       "    <tr>\n",
       "      <th>24</th>\n",
       "      <td>aYpO4xX9yWRGfF09Co4SXw</td>\n",
       "      <td>1</td>\n",
       "    </tr>\n",
       "    <tr>\n",
       "      <th>25</th>\n",
       "      <td>BDQjq30H2gFncFvaapvm6A</td>\n",
       "      <td>1</td>\n",
       "    </tr>\n",
       "    <tr>\n",
       "      <th>26</th>\n",
       "      <td>bgy1PPzEqklRtMq-9ssTkQ</td>\n",
       "      <td>1</td>\n",
       "    </tr>\n",
       "    <tr>\n",
       "      <th>27</th>\n",
       "      <td>bJgt3IZajlpo_rpPtJ7tWg</td>\n",
       "      <td>1</td>\n",
       "    </tr>\n",
       "    <tr>\n",
       "      <th>28</th>\n",
       "      <td>bM2OTIopnFoaQGLxK2PxPg</td>\n",
       "      <td>1</td>\n",
       "    </tr>\n",
       "    <tr>\n",
       "      <th>29</th>\n",
       "      <td>btlLxxNXWA6WQUezOfpW7w</td>\n",
       "      <td>1</td>\n",
       "    </tr>\n",
       "    <tr>\n",
       "      <th>...</th>\n",
       "      <td>...</td>\n",
       "      <td>...</td>\n",
       "    </tr>\n",
       "    <tr>\n",
       "      <th>47</th>\n",
       "      <td>jfXT_8J_EQnJVa4sJ3z6hg</td>\n",
       "      <td>1</td>\n",
       "    </tr>\n",
       "    <tr>\n",
       "      <th>48</th>\n",
       "      <td>jlqitJm0_9H_RPnoWTjNYg</td>\n",
       "      <td>1</td>\n",
       "    </tr>\n",
       "    <tr>\n",
       "      <th>49</th>\n",
       "      <td>lxWwi3-EW9meZ_vOAP9JoQ</td>\n",
       "      <td>1</td>\n",
       "    </tr>\n",
       "    <tr>\n",
       "      <th>50</th>\n",
       "      <td>mFOZOsPQOacWIMVSyXbEbg</td>\n",
       "      <td>1</td>\n",
       "    </tr>\n",
       "    <tr>\n",
       "      <th>51</th>\n",
       "      <td>MVHHKyxfGWCnxNmW9tf35g</td>\n",
       "      <td>1</td>\n",
       "    </tr>\n",
       "    <tr>\n",
       "      <th>52</th>\n",
       "      <td>n4RPA0Cuem4ygQxPIdLBLQ</td>\n",
       "      <td>1</td>\n",
       "    </tr>\n",
       "    <tr>\n",
       "      <th>53</th>\n",
       "      <td>NlvWKd0eF3QEpgd9mlcOaw</td>\n",
       "      <td>1</td>\n",
       "    </tr>\n",
       "    <tr>\n",
       "      <th>54</th>\n",
       "      <td>nrOCJCQUgXwdUIwg8QHirw</td>\n",
       "      <td>1</td>\n",
       "    </tr>\n",
       "    <tr>\n",
       "      <th>55</th>\n",
       "      <td>NvDR3SPVPXrDB_dbKuGoWA</td>\n",
       "      <td>1</td>\n",
       "    </tr>\n",
       "    <tr>\n",
       "      <th>56</th>\n",
       "      <td>OwcvQW8hbLjcU8eW-1xCIw</td>\n",
       "      <td>1</td>\n",
       "    </tr>\n",
       "    <tr>\n",
       "      <th>57</th>\n",
       "      <td>q0ggzEwTx2QgNiQm4vObrA</td>\n",
       "      <td>1</td>\n",
       "    </tr>\n",
       "    <tr>\n",
       "      <th>58</th>\n",
       "      <td>q0SIbZZ8hMFtVP9G6S5Dpw</td>\n",
       "      <td>1</td>\n",
       "    </tr>\n",
       "    <tr>\n",
       "      <th>59</th>\n",
       "      <td>qDODC_9fKsPQNsmYM6PkJQ</td>\n",
       "      <td>1</td>\n",
       "    </tr>\n",
       "    <tr>\n",
       "      <th>60</th>\n",
       "      <td>qFyloElEsowN_5zW_IYAOQ</td>\n",
       "      <td>1</td>\n",
       "    </tr>\n",
       "    <tr>\n",
       "      <th>61</th>\n",
       "      <td>s1Ir3usIcswwq9JyFo9UqQ</td>\n",
       "      <td>1</td>\n",
       "    </tr>\n",
       "    <tr>\n",
       "      <th>62</th>\n",
       "      <td>SUKqNp6mBuqPaeg4UjhegA</td>\n",
       "      <td>1</td>\n",
       "    </tr>\n",
       "    <tr>\n",
       "      <th>63</th>\n",
       "      <td>TTP7l5g4QUVCpQZ9NTAWqw</td>\n",
       "      <td>1</td>\n",
       "    </tr>\n",
       "    <tr>\n",
       "      <th>64</th>\n",
       "      <td>tVdp2HWbzP-5E06e1MveoA</td>\n",
       "      <td>1</td>\n",
       "    </tr>\n",
       "    <tr>\n",
       "      <th>65</th>\n",
       "      <td>uZbTb-u-GVjTa2gtQfry5g</td>\n",
       "      <td>1</td>\n",
       "    </tr>\n",
       "    <tr>\n",
       "      <th>66</th>\n",
       "      <td>vPGFlXX0bw0zvDveUR4FOQ</td>\n",
       "      <td>1</td>\n",
       "    </tr>\n",
       "    <tr>\n",
       "      <th>67</th>\n",
       "      <td>WavzQE_0yoy05hF-637EoA</td>\n",
       "      <td>1</td>\n",
       "    </tr>\n",
       "    <tr>\n",
       "      <th>68</th>\n",
       "      <td>WZgoM8UuzxjZf1AaWx3qZQ</td>\n",
       "      <td>1</td>\n",
       "    </tr>\n",
       "    <tr>\n",
       "      <th>69</th>\n",
       "      <td>XLah_ynCwwYshCY9jc13tw</td>\n",
       "      <td>1</td>\n",
       "    </tr>\n",
       "    <tr>\n",
       "      <th>70</th>\n",
       "      <td>xMI1nr1RTAdxPoHqm5fuHQ</td>\n",
       "      <td>1</td>\n",
       "    </tr>\n",
       "    <tr>\n",
       "      <th>71</th>\n",
       "      <td>y7sq26EXGz7XG7DSo8TOuQ</td>\n",
       "      <td>1</td>\n",
       "    </tr>\n",
       "    <tr>\n",
       "      <th>72</th>\n",
       "      <td>YgucNL2tibnjEmDLqHPqow</td>\n",
       "      <td>1</td>\n",
       "    </tr>\n",
       "    <tr>\n",
       "      <th>73</th>\n",
       "      <td>z7PkDGuW38Evhw3uVEfT0w</td>\n",
       "      <td>1</td>\n",
       "    </tr>\n",
       "    <tr>\n",
       "      <th>74</th>\n",
       "      <td>znJZPwdZOliFbhllS9A15w</td>\n",
       "      <td>1</td>\n",
       "    </tr>\n",
       "    <tr>\n",
       "      <th>75</th>\n",
       "      <td>zxnoE5IjuWoI9mF1gwyg5w</td>\n",
       "      <td>1</td>\n",
       "    </tr>\n",
       "    <tr>\n",
       "      <th>76</th>\n",
       "      <td>_PzSNcfrCjeBxSLXRoMmgQ</td>\n",
       "      <td>1</td>\n",
       "    </tr>\n",
       "  </tbody>\n",
       "</table>\n",
       "<p>77 rows × 2 columns</p>\n",
       "</div>"
      ],
      "text/plain": [
       "                   user_id  count(text)\n",
       "0   -24tMru5bOEJG7MeFwkdmw            1\n",
       "1   -vRFUY8ixuNniCCNVvmkRQ            1\n",
       "2   0EtZMnRQF2YsXvWBQ7FauQ            1\n",
       "3   0mqHhdKEdak_A1FBhFNXqA            1\n",
       "4   0q87nf1yJFv0GML2J64Ttg            1\n",
       "5   1ieuYcKS7zeAv_U15AB13A            1\n",
       "6   1IuiysbKKeaYtE2jRMgL6w            1\n",
       "7   2FiNCj5rM3nF0qgaWf86Gg            1\n",
       "8   2lFL7UtU5E_njKRU9DxiaA            1\n",
       "9   2rlBbFPHyZjXSFSE8r551w            1\n",
       "10  3Jw-rYwJEz6jSqPgVVmmhA            1\n",
       "11  4qHDTXscBB8zrz5wXaoXfw            1\n",
       "12  4_YfcfHkCem1onJFkItxjA            1\n",
       "13  5RJ2Zycslp8cLyAJl4pUNQ            1\n",
       "14  70ZgchHDOLaTGR109j6SIA            1\n",
       "15  740We6l5ENHvwTbUPX-g5A            1\n",
       "16  8tbXmjYGsYFZXk6ppuwRWQ            1\n",
       "17  8xuvjSMwb1gZfR-YJVcqKQ            1\n",
       "18  A99dyhEqcd_yXKPfBWeZHA            1\n",
       "19  abal82kJXIfQjdXVGSIVZA            1\n",
       "20  Ac_4U3LDCrNgf6Z9OP3kXA            1\n",
       "21  ast7yCfvhIwaD53OFSXoag            1\n",
       "22  ATTZIoznhbRhmrwjubid3Q            1\n",
       "23  Aw3EMRqdSJ2DtqoI_NpgWA            1\n",
       "24  aYpO4xX9yWRGfF09Co4SXw            1\n",
       "25  BDQjq30H2gFncFvaapvm6A            1\n",
       "26  bgy1PPzEqklRtMq-9ssTkQ            1\n",
       "27  bJgt3IZajlpo_rpPtJ7tWg            1\n",
       "28  bM2OTIopnFoaQGLxK2PxPg            1\n",
       "29  btlLxxNXWA6WQUezOfpW7w            1\n",
       "..                     ...          ...\n",
       "47  jfXT_8J_EQnJVa4sJ3z6hg            1\n",
       "48  jlqitJm0_9H_RPnoWTjNYg            1\n",
       "49  lxWwi3-EW9meZ_vOAP9JoQ            1\n",
       "50  mFOZOsPQOacWIMVSyXbEbg            1\n",
       "51  MVHHKyxfGWCnxNmW9tf35g            1\n",
       "52  n4RPA0Cuem4ygQxPIdLBLQ            1\n",
       "53  NlvWKd0eF3QEpgd9mlcOaw            1\n",
       "54  nrOCJCQUgXwdUIwg8QHirw            1\n",
       "55  NvDR3SPVPXrDB_dbKuGoWA            1\n",
       "56  OwcvQW8hbLjcU8eW-1xCIw            1\n",
       "57  q0ggzEwTx2QgNiQm4vObrA            1\n",
       "58  q0SIbZZ8hMFtVP9G6S5Dpw            1\n",
       "59  qDODC_9fKsPQNsmYM6PkJQ            1\n",
       "60  qFyloElEsowN_5zW_IYAOQ            1\n",
       "61  s1Ir3usIcswwq9JyFo9UqQ            1\n",
       "62  SUKqNp6mBuqPaeg4UjhegA            1\n",
       "63  TTP7l5g4QUVCpQZ9NTAWqw            1\n",
       "64  tVdp2HWbzP-5E06e1MveoA            1\n",
       "65  uZbTb-u-GVjTa2gtQfry5g            1\n",
       "66  vPGFlXX0bw0zvDveUR4FOQ            1\n",
       "67  WavzQE_0yoy05hF-637EoA            1\n",
       "68  WZgoM8UuzxjZf1AaWx3qZQ            1\n",
       "69  XLah_ynCwwYshCY9jc13tw            1\n",
       "70  xMI1nr1RTAdxPoHqm5fuHQ            1\n",
       "71  y7sq26EXGz7XG7DSo8TOuQ            1\n",
       "72  YgucNL2tibnjEmDLqHPqow            1\n",
       "73  z7PkDGuW38Evhw3uVEfT0w            1\n",
       "74  znJZPwdZOliFbhllS9A15w            1\n",
       "75  zxnoE5IjuWoI9mF1gwyg5w            1\n",
       "76  _PzSNcfrCjeBxSLXRoMmgQ            1\n",
       "\n",
       "[77 rows x 2 columns]"
      ]
     },
     "execution_count": 30,
     "metadata": {},
     "output_type": "execute_result"
    }
   ],
   "source": [
    "review_per_user"
   ]
  },
  {
   "cell_type": "markdown",
   "metadata": {},
   "source": [
    "No user has posted twice"
   ]
  },
  {
   "cell_type": "code",
   "execution_count": 39,
   "metadata": {
    "collapsed": true
   },
   "outputs": [],
   "source": [
    "SQL6 = \"SELECT b.name, a.business_id, a.date, user_id, a.stars, useful_votes, funny_votes, cool_votes, text FROM review a INNER JOIN business b on a.business_id = b.business_id WHERE a.business_id = 'hW0Ne_HTHEAgGF1rAdmR-g' AND funny_votes > '5' ORDER BY funny_votes DESC\""
   ]
  },
  {
   "cell_type": "code",
   "execution_count": 40,
   "metadata": {
    "collapsed": true
   },
   "outputs": [],
   "source": [
    "funny_votes = pd.read_sql(SQL6, connection)"
   ]
  },
  {
   "cell_type": "code",
   "execution_count": 41,
   "metadata": {},
   "outputs": [
    {
     "data": {
      "text/html": [
       "<div>\n",
       "<table border=\"1\" class=\"dataframe\">\n",
       "  <thead>\n",
       "    <tr style=\"text-align: right;\">\n",
       "      <th></th>\n",
       "      <th>name</th>\n",
       "      <th>business_id</th>\n",
       "      <th>date</th>\n",
       "      <th>user_id</th>\n",
       "      <th>stars</th>\n",
       "      <th>useful_votes</th>\n",
       "      <th>funny_votes</th>\n",
       "      <th>cool_votes</th>\n",
       "      <th>text</th>\n",
       "    </tr>\n",
       "  </thead>\n",
       "  <tbody>\n",
       "    <tr>\n",
       "      <th>0</th>\n",
       "      <td>Phoenix Sky Harbor International Airport</td>\n",
       "      <td>hW0Ne_HTHEAgGF1rAdmR-g</td>\n",
       "      <td>2011-01-29</td>\n",
       "      <td>J3rNWRLRuZJ_0xsJalIhlA</td>\n",
       "      <td>3</td>\n",
       "      <td>19</td>\n",
       "      <td>24</td>\n",
       "      <td>16</td>\n",
       "      <td>In the age old debate of length v. girth, Sky ...</td>\n",
       "    </tr>\n",
       "    <tr>\n",
       "      <th>1</th>\n",
       "      <td>Phoenix Sky Harbor International Airport</td>\n",
       "      <td>hW0Ne_HTHEAgGF1rAdmR-g</td>\n",
       "      <td>2010-07-06</td>\n",
       "      <td>8tbXmjYGsYFZXk6ppuwRWQ</td>\n",
       "      <td>1</td>\n",
       "      <td>7</td>\n",
       "      <td>9</td>\n",
       "      <td>7</td>\n",
       "      <td>The beach paradise of Ixtapa-Zihuatenejo await...</td>\n",
       "    </tr>\n",
       "    <tr>\n",
       "      <th>2</th>\n",
       "      <td>Phoenix Sky Harbor International Airport</td>\n",
       "      <td>hW0Ne_HTHEAgGF1rAdmR-g</td>\n",
       "      <td>2010-02-27</td>\n",
       "      <td>mFOZOsPQOacWIMVSyXbEbg</td>\n",
       "      <td>3</td>\n",
       "      <td>11</td>\n",
       "      <td>7</td>\n",
       "      <td>5</td>\n",
       "      <td>\"America's friendliest airport\"? \\n\\nReally?\\n...</td>\n",
       "    </tr>\n",
       "    <tr>\n",
       "      <th>3</th>\n",
       "      <td>Phoenix Sky Harbor International Airport</td>\n",
       "      <td>hW0Ne_HTHEAgGF1rAdmR-g</td>\n",
       "      <td>2012-12-24</td>\n",
       "      <td>D6UanNuYWpQzZhLTDBmqJg</td>\n",
       "      <td>4</td>\n",
       "      <td>10</td>\n",
       "      <td>7</td>\n",
       "      <td>9</td>\n",
       "      <td>My girlfriend and I were sprinting from one si...</td>\n",
       "    </tr>\n",
       "    <tr>\n",
       "      <th>4</th>\n",
       "      <td>Phoenix Sky Harbor International Airport</td>\n",
       "      <td>hW0Ne_HTHEAgGF1rAdmR-g</td>\n",
       "      <td>2011-01-30</td>\n",
       "      <td>bM2OTIopnFoaQGLxK2PxPg</td>\n",
       "      <td>4</td>\n",
       "      <td>7</td>\n",
       "      <td>6</td>\n",
       "      <td>5</td>\n",
       "      <td>The following is a few reasons why I dig Sky H...</td>\n",
       "    </tr>\n",
       "  </tbody>\n",
       "</table>\n",
       "</div>"
      ],
      "text/plain": [
       "                                       name             business_id  \\\n",
       "0  Phoenix Sky Harbor International Airport  hW0Ne_HTHEAgGF1rAdmR-g   \n",
       "1  Phoenix Sky Harbor International Airport  hW0Ne_HTHEAgGF1rAdmR-g   \n",
       "2  Phoenix Sky Harbor International Airport  hW0Ne_HTHEAgGF1rAdmR-g   \n",
       "3  Phoenix Sky Harbor International Airport  hW0Ne_HTHEAgGF1rAdmR-g   \n",
       "4  Phoenix Sky Harbor International Airport  hW0Ne_HTHEAgGF1rAdmR-g   \n",
       "\n",
       "         date                 user_id  stars  useful_votes  funny_votes  \\\n",
       "0  2011-01-29  J3rNWRLRuZJ_0xsJalIhlA      3            19           24   \n",
       "1  2010-07-06  8tbXmjYGsYFZXk6ppuwRWQ      1             7            9   \n",
       "2  2010-02-27  mFOZOsPQOacWIMVSyXbEbg      3            11            7   \n",
       "3  2012-12-24  D6UanNuYWpQzZhLTDBmqJg      4            10            7   \n",
       "4  2011-01-30  bM2OTIopnFoaQGLxK2PxPg      4             7            6   \n",
       "\n",
       "   cool_votes                                               text  \n",
       "0          16  In the age old debate of length v. girth, Sky ...  \n",
       "1           7  The beach paradise of Ixtapa-Zihuatenejo await...  \n",
       "2           5  \"America's friendliest airport\"? \\n\\nReally?\\n...  \n",
       "3           9  My girlfriend and I were sprinting from one si...  \n",
       "4           5  The following is a few reasons why I dig Sky H...  "
      ]
     },
     "execution_count": 41,
     "metadata": {},
     "output_type": "execute_result"
    }
   ],
   "source": [
    "funny_votes"
   ]
  },
  {
   "cell_type": "code",
   "execution_count": 45,
   "metadata": {},
   "outputs": [],
   "source": [
    "funniest = funny_votes[0:1]"
   ]
  },
  {
   "cell_type": "code",
   "execution_count": 46,
   "metadata": {},
   "outputs": [
    {
     "data": {
      "text/plain": [
       "0    In the age old debate of length v. girth, Sky ...\n",
       "Name: text, dtype: object"
      ]
     },
     "execution_count": 46,
     "metadata": {},
     "output_type": "execute_result"
    }
   ],
   "source": [
    "funniest['text']"
   ]
  },
  {
   "cell_type": "code",
   "execution_count": 48,
   "metadata": {
    "collapsed": true
   },
   "outputs": [],
   "source": [
    "def write_review_files(path, reviewlist):\n",
    "    \"\"\" Takes a directory path to write files into, and a list of review text.\"\"\"\n",
    "    if not path.endswith(\"/\"):\n",
    "        path = path + \"/\"\n",
    "    try:\n",
    "        for i, row in enumerate(reviewlist):\n",
    "            filename = \"review\" + str(i) + \".txt\"\n",
    "            with open(path + filename, \"w\") as handle:\n",
    "                handle.write(row)\n",
    "    except:\n",
    "        print(\"Something wrong with the path or file list. Does the directory exist?\")\n",
    "    print(\"Wrote %s files to %s.\" % (len(reviewlist), path))"
   ]
  },
  {
   "cell_type": "code",
   "execution_count": 49,
   "metadata": {},
   "outputs": [
    {
     "name": "stdout",
     "output_type": "stream",
     "text": [
      "Wrote 1 files to data/funnyreview/.\n"
     ]
    }
   ],
   "source": [
    "write_review_files(\"data/funnyreview\", funniest['text'])"
   ]
  },
  {
   "cell_type": "markdown",
   "metadata": {
    "collapsed": true
   },
   "source": [
    "<u><b>Note</b></u>: This is also the file judged as the most useful review, it might be important to look at what is said"
   ]
  }
 ],
 "metadata": {
  "anaconda-cloud": {},
  "kernelspec": {
   "display_name": "Python 3",
   "language": "python",
   "name": "python3"
  },
  "language_info": {
   "codemirror_mode": {
    "name": "ipython",
    "version": 3
   },
   "file_extension": ".py",
   "mimetype": "text/x-python",
   "name": "python",
   "nbconvert_exporter": "python",
   "pygments_lexer": "ipython3",
   "version": "3.6.1"
  }
 },
 "nbformat": 4,
 "nbformat_minor": 1
}
