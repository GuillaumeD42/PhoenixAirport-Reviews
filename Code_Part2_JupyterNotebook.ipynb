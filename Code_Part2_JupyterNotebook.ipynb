{
 "cells": [
  {
   "cell_type": "markdown",
   "metadata": {},
   "source": [
    "<h1><center>Final Project - Phoenix Sky Harbor International Airport - <i> Part 2 </i></center></h1>"
   ]
  },
  {
   "cell_type": "markdown",
   "metadata": {},
   "source": [
    "<h2><center> Text Analysis </center></h2>"
   ]
  },
  {
   "cell_type": "markdown",
   "metadata": {},
   "source": [
    "<h3><center><i> Cleaning of the DataSet </i></center></h3>"
   ]
  },
  {
   "cell_type": "code",
   "execution_count": 1,
   "metadata": {},
   "outputs": [
    {
     "name": "stderr",
     "output_type": "stream",
     "text": [
      "C:\\ProgramData\\Anaconda3\\lib\\site-packages\\nltk\\twitter\\__init__.py:20: UserWarning: The twython library has not been installed. Some functionality from the twitter package will not be available.\n",
      "  warnings.warn(\"The twython library has not been installed. \"\n"
     ]
    }
   ],
   "source": [
    "%matplotlib inline\n",
    "import pandas as pd\n",
    "import numpy as np\n",
    "import matplotlib.pyplot as plt\n",
    "import seaborn as sns\n",
    "import itertools\n",
    "import nltk\n",
    "import string\n",
    "from nltk.text import Text\n",
    "from matplotlib import pyplot\n",
    "import string\n",
    "punctuation = string.punctuation\n",
    "from collections import Counter\n",
    "from nltk.collocations import *\n",
    "import re\n",
    "import nlp_utilities as nlp\n",
    "from sklearn.feature_extraction.text import TfidfVectorizer\n",
    "from scipy.spatial.distance import pdist, squareform\n",
    "from scipy.cluster.hierarchy import linkage, dendrogram\n",
    "import math\n",
    "from sklearn.cluster import KMeans\n",
    "from sklearn.metrics.pairwise import cosine_similarity\n",
    "import matplotlib as mpl\n",
    "from sklearn.manifold import MDS\n",
    "from nltk.sentiment.vader import SentimentIntensityAnalyzer\n",
    "import csv\n",
    "import json"
   ]
  },
  {
   "cell_type": "code",
   "execution_count": 5,
   "metadata": {
    "collapsed": true
   },
   "outputs": [],
   "source": [
    "server = \"analyst-toolbelt.cn119w37trlg.eu-west-1.rds.amazonaws.com\"\n",
    "username = \"*****\"\n",
    "password = \"*****\""
   ]
  },
  {
   "cell_type": "code",
   "execution_count": 6,
   "metadata": {
    "collapsed": true
   },
   "outputs": [],
   "source": [
    "connection = pymysql.connect(host=server,\n",
    "                             user=username,\n",
    "                             password=password,\n",
    "                             db='yelp',\n",
    "                             charset='utf8')"
   ]
  },
  {
   "cell_type": "code",
   "execution_count": 7,
   "metadata": {
    "collapsed": true
   },
   "outputs": [],
   "source": [
    "QUERY = \"\"\"\n",
    "select * from review\n",
    "where business_id = 'hW0Ne_HTHEAgGF1rAdmR-g';\n",
    "\"\"\""
   ]
  },
  {
   "cell_type": "code",
   "execution_count": 8,
   "metadata": {
    "collapsed": true
   },
   "outputs": [],
   "source": [
    "mydata = pd.read_sql(QUERY, connection)"
   ]
  },
  {
   "cell_type": "code",
   "execution_count": 9,
   "metadata": {},
   "outputs": [
    {
     "data": {
      "text/html": [
       "<div>\n",
       "<table border=\"1\" class=\"dataframe\">\n",
       "  <thead>\n",
       "    <tr style=\"text-align: right;\">\n",
       "      <th></th>\n",
       "      <th>rid</th>\n",
       "      <th>business_id</th>\n",
       "      <th>user_id</th>\n",
       "      <th>stars</th>\n",
       "      <th>text</th>\n",
       "      <th>date</th>\n",
       "      <th>useful_votes</th>\n",
       "      <th>funny_votes</th>\n",
       "      <th>cool_votes</th>\n",
       "    </tr>\n",
       "  </thead>\n",
       "  <tbody>\n",
       "    <tr>\n",
       "      <th>0</th>\n",
       "      <td>8</td>\n",
       "      <td>hW0Ne_HTHEAgGF1rAdmR-g</td>\n",
       "      <td>1ieuYcKS7zeAv_U15AB13A</td>\n",
       "      <td>4</td>\n",
       "      <td>Luckily, I didn't have to travel far to make m...</td>\n",
       "      <td>2012-07-12</td>\n",
       "      <td>1</td>\n",
       "      <td>0</td>\n",
       "      <td>0</td>\n",
       "    </tr>\n",
       "    <tr>\n",
       "      <th>1</th>\n",
       "      <td>91</td>\n",
       "      <td>hW0Ne_HTHEAgGF1rAdmR-g</td>\n",
       "      <td>8tbXmjYGsYFZXk6ppuwRWQ</td>\n",
       "      <td>1</td>\n",
       "      <td>The beach paradise of Ixtapa-Zihuatenejo await...</td>\n",
       "      <td>2010-07-06</td>\n",
       "      <td>7</td>\n",
       "      <td>9</td>\n",
       "      <td>7</td>\n",
       "    </tr>\n",
       "    <tr>\n",
       "      <th>2</th>\n",
       "      <td>147</td>\n",
       "      <td>hW0Ne_HTHEAgGF1rAdmR-g</td>\n",
       "      <td>gYIHSsoa260H544x9guLOg</td>\n",
       "      <td>3</td>\n",
       "      <td>I have been through plenty of airports around ...</td>\n",
       "      <td>2010-09-09</td>\n",
       "      <td>2</td>\n",
       "      <td>3</td>\n",
       "      <td>2</td>\n",
       "    </tr>\n",
       "    <tr>\n",
       "      <th>3</th>\n",
       "      <td>541</td>\n",
       "      <td>hW0Ne_HTHEAgGF1rAdmR-g</td>\n",
       "      <td>2FiNCj5rM3nF0qgaWf86Gg</td>\n",
       "      <td>2</td>\n",
       "      <td>A pain to get in and out of. I dread each trip...</td>\n",
       "      <td>2009-07-04</td>\n",
       "      <td>2</td>\n",
       "      <td>2</td>\n",
       "      <td>2</td>\n",
       "    </tr>\n",
       "    <tr>\n",
       "      <th>4</th>\n",
       "      <td>1126</td>\n",
       "      <td>hW0Ne_HTHEAgGF1rAdmR-g</td>\n",
       "      <td>A99dyhEqcd_yXKPfBWeZHA</td>\n",
       "      <td>4</td>\n",
       "      <td>My home airport, so with work travel, I'm pass...</td>\n",
       "      <td>2012-05-30</td>\n",
       "      <td>3</td>\n",
       "      <td>0</td>\n",
       "      <td>1</td>\n",
       "    </tr>\n",
       "  </tbody>\n",
       "</table>\n",
       "</div>"
      ],
      "text/plain": [
       "    rid             business_id                 user_id  stars  \\\n",
       "0     8  hW0Ne_HTHEAgGF1rAdmR-g  1ieuYcKS7zeAv_U15AB13A      4   \n",
       "1    91  hW0Ne_HTHEAgGF1rAdmR-g  8tbXmjYGsYFZXk6ppuwRWQ      1   \n",
       "2   147  hW0Ne_HTHEAgGF1rAdmR-g  gYIHSsoa260H544x9guLOg      3   \n",
       "3   541  hW0Ne_HTHEAgGF1rAdmR-g  2FiNCj5rM3nF0qgaWf86Gg      2   \n",
       "4  1126  hW0Ne_HTHEAgGF1rAdmR-g  A99dyhEqcd_yXKPfBWeZHA      4   \n",
       "\n",
       "                                                text        date  \\\n",
       "0  Luckily, I didn't have to travel far to make m...  2012-07-12   \n",
       "1  The beach paradise of Ixtapa-Zihuatenejo await...  2010-07-06   \n",
       "2  I have been through plenty of airports around ...  2010-09-09   \n",
       "3  A pain to get in and out of. I dread each trip...  2009-07-04   \n",
       "4  My home airport, so with work travel, I'm pass...  2012-05-30   \n",
       "\n",
       "   useful_votes  funny_votes  cool_votes  \n",
       "0             1            0           0  \n",
       "1             7            9           7  \n",
       "2             2            3           2  \n",
       "3             2            2           2  \n",
       "4             3            0           1  "
      ]
     },
     "execution_count": 9,
     "metadata": {},
     "output_type": "execute_result"
    }
   ],
   "source": [
    "mydata.head()"
   ]
  },
  {
   "cell_type": "code",
   "execution_count": 10,
   "metadata": {},
   "outputs": [
    {
     "data": {
      "text/plain": [
       "0     Luckily, I didn't have to travel far to make m...\n",
       "1     The beach paradise of Ixtapa-Zihuatenejo await...\n",
       "2     I have been through plenty of airports around ...\n",
       "3     A pain to get in and out of. I dread each trip...\n",
       "4     My home airport, so with work travel, I'm pass...\n",
       "5     Sky Harbor is one poor gateway to the city of ...\n",
       "6     I only did layovers in this airport to and fro...\n",
       "7     You are so clean, Sky Harbor. \\nI don't mind f...\n",
       "8     Rental car review.\\n\\n118 degrees.  Standing o...\n",
       "9     It's called America's friendliest airport for ...\n",
       "10    Decent airport with a limited variety of food ...\n",
       "11    It's an airport, and what exactly does one loo...\n",
       "12    It is absolutely no fun to have a connection a...\n",
       "13    This airport is the most confusing airport I'v...\n",
       "14    Nice clean airport with lots of places to shop...\n",
       "15    My review is based on Terminal 3, Delta!  Gett...\n",
       "16                             such a confusing airport\n",
       "17    I flew out of (and into) this airport for the ...\n",
       "18    I've only flown in and out of Pheonix Airport ...\n",
       "19    You want good food? You'd be better off smuggl...\n",
       "20    \"America's friendliest airport\"? \\n\\nReally?\\n...\n",
       "21    My home airport and one of the nicest terminal...\n",
       "22    Haven't been here since 1997! Man, now all the...\n",
       "23    Average airport. \\n\\nI wish gate Marques liste...\n",
       "24    Great place, well maintained. It's big airport...\n",
       "25    Nice place...Need more restaurants..! Pretty h...\n",
       "26    Mid size American airport with very good organ...\n",
       "27    I've known my way around Sky Harbor Airport si...\n",
       "28    Busy place, but everyone is nice and I keep ha...\n",
       "29    In the age old debate of length v. girth, Sky ...\n",
       "                            ...                        \n",
       "47    It has been interesting seeing Sky Harbor airp...\n",
       "48    It's a pretty airport. But it's pretty spread ...\n",
       "49    The airport itself is a fine smaller airport, ...\n",
       "50    This place is chaotic, confusing, and the peop...\n",
       "51     The TSA was extremely friendly and understanding\n",
       "52    I've only had one arrival and departure at the...\n",
       "53    It seems as if my experience was not the norm....\n",
       "54    I have a huge crush on Phoenix Sky Harbor!\\n\\n...\n",
       "55    I've never really had a problem at Sky Harbor....\n",
       "56    I love this airport. Seriously people. My home...\n",
       "57    Phoenix - do you ever turn on the air conditio...\n",
       "58    This airport has the nice walkway that have th...\n",
       "59    The following is a few reasons why I dig Sky H...\n",
       "60    I am retracting my 4 stars for this airport.  ...\n",
       "61    It's an airport. Got it. And given that fact, ...\n",
       "62    A little confusing but I got where I needed to...\n",
       "63    I don't mind the airport itself but the wait f...\n",
       "64    I like Sky Harbor a lot. This could be because...\n",
       "65    Good airport, easy to navigate.  The food leav...\n",
       "66    I like PHX airport.\\n\\nI find it easy to get t...\n",
       "67    This is an average airport. From my brief visi...\n",
       "68    Overall it's a really good airport for a city ...\n",
       "69    Wow, what can I say that hasn't been said?\\n\\n...\n",
       "70    I flew into the Phoenix airport on a Southwest...\n",
       "71    BAD\\n\\n* rental car bus to terminal\\n\\n* delay...\n",
       "72    Standard airport, nothing special. If possible...\n",
       "73    VERY SLOW SECURITY CHECKPOINT\\n\\nThis airport ...\n",
       "74    I like this airport, it's huge. I usually disl...\n",
       "75    Last time I was hereof was sooooo hot IN the t...\n",
       "76    It's a pretty big airport! Beware if flying in...\n",
       "Name: text, dtype: object"
      ]
     },
     "execution_count": 10,
     "metadata": {},
     "output_type": "execute_result"
    }
   ],
   "source": [
    "mydata['text']"
   ]
  },
  {
   "cell_type": "code",
   "execution_count": 11,
   "metadata": {
    "collapsed": true
   },
   "outputs": [],
   "source": [
    "def write_review_files(path, reviewlist):\n",
    "    \"\"\" Takes a directory path to write files into, and a list of review text.\"\"\"\n",
    "    if not path.endswith(\"/\"):\n",
    "        path = path + \"/\"\n",
    "    try:\n",
    "        for i, row in enumerate(reviewlist):\n",
    "            filename = \"review\" + str(i) + \".txt\"\n",
    "            with open(path + filename, \"w\") as handle:\n",
    "                handle.write(row)\n",
    "    except:\n",
    "        print(\"Something wrong with the path or file list. Does the directory exist?\")\n",
    "    print(\"Wrote %s files to %s.\" % (len(reviewlist), path))"
   ]
  },
  {
   "cell_type": "code",
   "execution_count": 12,
   "metadata": {},
   "outputs": [
    {
     "name": "stdout",
     "output_type": "stream",
     "text": [
      "Wrote 77 files to data/myreviews/.\n"
     ]
    }
   ],
   "source": [
    "write_review_files(\"data/myreviews\", mydata['text'])"
   ]
  },
  {
   "cell_type": "code",
   "execution_count": 13,
   "metadata": {
    "collapsed": true
   },
   "outputs": [],
   "source": [
    "def get_filenames(folder):\n",
    "    \"\"\" Pass in a folder name, with or without the / at end.\n",
    "    Returns a list of the files & paths inside it (no folders).\n",
    "    \"\"\"\n",
    "    from os import listdir\n",
    "    from os.path import isfile, join\n",
    "    # because we want to return full paths, we need to make sure there is\n",
    "    # a / at the end.\n",
    "    # If this doesn't work on Windows, change the slash direction.\n",
    "    if folder[-1:] != \"/\":\n",
    "        folder = folder + \"/\"\n",
    "    # this will return only the filenames, not folders inside the path\n",
    "    # also filter out .DS_Store which is on Macs.\n",
    "    return [folder + f for f in listdir(folder) if isfile(join(folder, f)) and f != \".DS_Store\"]"
   ]
  },
  {
   "cell_type": "code",
   "execution_count": 14,
   "metadata": {
    "collapsed": true
   },
   "outputs": [],
   "source": [
    "filenames = get_filenames(\"data/myreviews\")"
   ]
  },
  {
   "cell_type": "code",
   "execution_count": 15,
   "metadata": {
    "collapsed": true
   },
   "outputs": [],
   "source": [
    "def load_texts_as_string(filenames):\n",
    "    \"\"\" Takes a list of filenames as arg.\n",
    "    Returns a dictionary with filename as key, string as value.\n",
    "    \"\"\"\n",
    "    from collections import defaultdict\n",
    "    loaded_text = defaultdict(str)  # each value is a string, the text\n",
    "    for filename in filenames:\n",
    "        with open(filename, errors=\"ignore\") as handle:\n",
    "            loaded_text[filename] = handle.read()\n",
    "    return loaded_text"
   ]
  },
  {
   "cell_type": "code",
   "execution_count": 16,
   "metadata": {
    "collapsed": true
   },
   "outputs": [],
   "source": [
    "texts = load_texts_as_string(filenames)"
   ]
  },
  {
   "cell_type": "code",
   "execution_count": 17,
   "metadata": {},
   "outputs": [
    {
     "name": "stdout",
     "output_type": "stream",
     "text": [
      "Searching the string 12: None\n",
      "Searching the string time12 <_sre.SRE_Match object; span=(0, 1), match='t'>\n",
      "Searching the string 3rd <_sre.SRE_Match object; span=(1, 2), match='r'>\n"
     ]
    }
   ],
   "source": [
    "print(\"Searching the string 12:\", re.search('[a-zA-Z]', '12'))\n",
    "print(\"Searching the string time12\", re.search('[a-zA-Z]', 'time12'))\n",
    "print(\"Searching the string 3rd\", re.search('[a-zA-Z]', '3rd'))"
   ]
  },
  {
   "cell_type": "code",
   "execution_count": 18,
   "metadata": {},
   "outputs": [
    {
     "data": {
      "text/plain": [
       "defaultdict(str,\n",
       "            {'data/myreviews/review0.txt': \"Luckily, I didn't have to travel far to make my connecting flight. And for this, I thank you, Phoenix.\\n\\nMy brief layover was pleasant as the employees were kind and the flight was on time.  Hopefully, next time I can grace Phoenix with my presence for a little while longer.\",\n",
       "             'data/myreviews/review1.txt': \"The beach paradise of Ixtapa-Zihuatenejo awaited us....unfortunately, so did a connecting flight in ARIZONA of all places...\\n\\nLong story short....1/3 of our luggage did not arrive at our final destination, various articles of our clothing are still missing as well as my cell phone charger...not to mention security forcing us to open sealed containers of my son's baby food and milk for litmus tests...\\n\\nI looked on the bright side....at least we didn't get deported =)\",\n",
       "             'data/myreviews/review10.txt': 'Decent airport with a limited variety of food choices and a strange layout. It feels a little outdated but I was only at the airport for a quick layover.',\n",
       "             'data/myreviews/review11.txt': 'It\\'s an airport, and what exactly does one look for/expect from such an establishment? Currently I want free wi-fi most. Free wi-fi at Sky Harbor... Check. Secondly, convenient economy parking is a must. Convenient economy parking at Sky Harbor... Check. Not to mention the shuttle drivers are always friendly and small talk-ready.\\n\\nThe TSA folks here also seem to smile and playfully banter with travelers more readily than at other airports. Perhaps this is due in part to Sky Harbor\\'s \"America\\'s Friendliest Airport\" marketing ploy, but in any case it\\'s certainly something to remark about.\\n\\nI doubt Phoenix will turn into any sort of true travel hub in the near future, but more non-stop international flights would certainly be welcomed. But until the demand is clearly defined we\\'ll have to be content with a few flights to Europe, Canada, Mexico, and the lone wolf to Costa Rica.\\n\\nI am very excited to see the Sky Train completed and operational with Stage One scheduled to be up and running in 2013. This will allow connections from the light rail and offer a new mode of transportation from the east economy lot to terminal 4.\\n\\nI\\'ve seen previous reviews complaining about having to go back through security when changing terminals, which is actually the case in many airports throughout the world. The terminal is the secure area so whenever you leave it you naturally have to be screened again. There are a few exceptions, but the easiest way to circumvent this is to fly the same airline from point A all the way to point B. If you\\'re connecting at Sky Harbor you should only be flying US Airways/United or Southwest so as to avoid a terminal change. If you\\'re not flying these carriers then you\\'re over-complicating things for yourself and you should look for different routing.\\n\\nThe central location of Sky Harbor makes it extremely accessible for people living in most parts of the valley, which is a huge plus considering the location of other airports outside of their corresponding metropolitan areas. All in all, there\\'s really nothing significant to complain about Sky Harbor.\\n\\nP.S. The Fox Sports Grill at Sky Harbor is a true embarrassment, not that one should expect a great deal from airport restaurants, but if Kraft Mac-N-Cheese (this is probably a poor example as KMNC provides a perfect vehicle for some truly delicious creations) is far superior to what you\\'re serving, then you should just end it all. Fact.',\n",
       "             'data/myreviews/review12.txt': 'It is absolutely no fun to have a connection at this airport! It was definitely  not designed to be \"post-911\" friendly. Let me give you an example so that you will know what I mean: \\n\\nWe fly in from San Francisco and are told that we will have to go to another building via a bus. We get off the plane and walk...and walk...and then walk some more, looking around trying to find where to go to in order to catch this bus. Finally, we found someone who told us where to go. We walked and walked, and then walked some more until we finally caught the bus. We then had to find the correct gate and go through security again... \\n\\nFlash forward 8 days. We fly in and go through customs. (This, BTW, was a great experience because we were the only international flight going through customs.) We rechecked our luggage and are told that we have to go to another building. Yep, you know what I am about to say...we floundered around, having to ask where to go several times. Finally, we found the right place and got on the bus. It then proceeded to go to various parking lots, dropping off and picking up other passengers. My husband and I looked at each other, worried that we were on the wrong bus. Since it was already 4 p.m. and we had not had lunch, we were getting very worried that we would not have time to grab lunch. \\n\\nFinally, my husband asked the driver and he indicated that we were indeed on the right bus. We continued going around parking lots until we came upon another bus. The driver told everyone on our bus that we could sit around and wait for 10-15 minutes, or we could get on the next bus and get there quicker. Of course, we all grabbed our suitcases and boarded the next bus, which proceeded to take us to the correct stop (after picking up additional passengers along the way.) \\n\\nNext ,we entered the terminal and jumped on an elevator to take us to the security line. There were only 2 lines and of course, we got in the line with the family who had to go back 6 or 7 times because they kept trying to go through the security line with belts on, shoes on, liquids in  their suitcases...you get the picture! \\n\\nAnyway, we finally got to our gate and were able to grab a slice of pizza before boarding our plane (not before enduring the antics of a 70-year-old United Airlines power-hungry granny who couldn\\'t seem to get her act together, but was determined to show everyone who was boss...)',\n",
       "             'data/myreviews/review13.txt': \"This airport is the most confusing airport I've ever been to.  Obviously it was meant to be small and was originally probably very efficient, but since they have added terminals it makes no sense and you will see the sign you need as you are passing it, instead of having a sign a mile or so ahead telling you were to go.\",\n",
       "             'data/myreviews/review14.txt': \"Nice clean airport with lots of places to shop and lots of food options.  Terminal 4 is nice.\\n\\nTwo things:  \\n\\n1.  The marathon walk from the Southwest ticket counter to the D gates...good God, they need a tram or moving walkway.\\n\\n2.  The Security bag screening machines are old and tiny; my bag got stuck; it's NEVER been a problem at any other airport I've been through (SMF, LAS, SNA, ONT, SAN, BUR, SEA, LAX...)\\n\\nOh, and if you rent a car, be sure to allow extra time because the shuttle ride to/from the airport itself is at least 10 minutes.  But it's a nice rental car area...\",\n",
       "             'data/myreviews/review15.txt': \"My review is based on Terminal 3, Delta!  Getting checked in at Delta was quick, security line was quick, and returning picking up my bags was quick too!  The signs are easy to read and easy to understand.  I was in Nassau, Bahamas' airport, the signs pointed everywhere!  Crazy!!\",\n",
       "             'data/myreviews/review16.txt': 'such a confusing airport',\n",
       "             'data/myreviews/review17.txt': \"I flew out of (and into) this airport for the holidays. The process was painless once inside the airport, but their setup with the roads, ramps, and terminals is so absolutely convoluted. I've never been to a more confusing airport with regards to traffic.\\n\\nThat being said, once inside, it was quick to check-in and get my bags checked. I also was traveling with my puppy who was so warmly welcomed by everyone, staff and otherwise. They had no issue with him being out, unlike other airports.\\n\\nA huge perk is a dog park they have outside Terminal 4 to walk dogs before/after flying. Made me feel a lot less nervous about the 5+ hour trip across the country, and I'm sure it made my dachshund a lot happier too!\",\n",
       "             'data/myreviews/review18.txt': \"I've only flown in and out of Pheonix Airport through Southwest, so i've only been in one section of this airport- but it isn't that great. THe food choices are slim and none are fab- I mean, really what airport had fab food- wait DFW does! Anyway- the Sky Harbor does have is a great view and decently clean restrooms.\",\n",
       "             'data/myreviews/review19.txt': \"You want good food? You'd be better off smuggling goat cheese in your boot and risking an anal cavity search for doing so than eating at this airport.\\n\\nYou want scenery? Try desert.\\n\\n\\nYou want a comfortable seat to wait for your delayed flight?  Well you are in the desert so you'd probably better off finding a cactus and straddling it face first.\\n\\nYou want a relatively close connection for your flight? Well tough shit.  Oh yeah, they've got people movers but somehow they have this magical ability to disengage people's legs.  Yeah I know it sounds crazy but as soon as people step on to these things their legs stop moving and they plant their fat ass right in the middle of the walk way.  Whats wrong with your legs you mammoth!?\",\n",
       "             'data/myreviews/review2.txt': 'I have been through plenty of airports around the world and I have to say that this one is on the better end. It is easy to navigate, clean (from what I have experienced), and makes getting to and returning rental cars a breeze. \\n\\nAs in most airports, those who are not used to recent travel REALLY hold up the security check line. I would think they would want to be prepared and get through that check as quickly as possible and I held my breath when one young lady came back out in search of a 1 quart zip lock bag, fearing that we would have to evacuate the terminal for her breech, but we were all able to make our flights. \\n\\nA word to pet lovers who insist on traveling with their four-legged friends: allergies and asthma plague a large number of people and difficulty breathing caused by YOUR pet presents an unexpected glitch in their travel day. \\n\\nPLEASE CONSIDER LEAVING YOUR PETS AT HOME. An unplanned trip to the ER as a result of YOUR inconsideration should be YOUR responsibility. What do you say about that, health care providers??? \\n\\nIn all my travels, this has been the only time I have been stuck behind the hairiest cat I have ever seen in my life because its owners had more baggage than humanly possible to manage. Clueless to others distress as the owners, their pet left wheezing, sneezing, itching, gasping travelers in its wake. Are you from Naperville?',\n",
       "             'data/myreviews/review20.txt': '\"America\\'s friendliest airport\"? \\n\\nReally?\\n\\nI disagree. I didn\\'t particularly notice anyone being overly nice or particularly friendly to anyone else here. \\n\\nWhat I did notice is that they have the same selection of mediocre, overpriced \"we have a captive audience so we\\'re going to offer them crap and charge an arm and a leg for it\" bars and restaurants.\\n\\nI hate to be provincial, but come by PDX some time and check out the local restaurants and bars and see how it\\'s done. \\n\\nPlus a star for free wifi! Woot! Every airport should have free wifi! (I\\'m looking at you, SFO!)',\n",
       "             'data/myreviews/review21.txt': \"My home airport and one of the nicest terminals in the USA! Great food, cool things to see and do, you just can't get bored here!\",\n",
       "             'data/myreviews/review22.txt': \"Haven't been here since 1997! Man, now all the memories are back and can't wait to get situated in AZ for a couple days! ;-)\",\n",
       "             'data/myreviews/review23.txt': 'Average airport. \\n\\nI wish gate Marques listed which zone was boarding. There were three airplanes loading at the same time and it was near impossible to tell which gate was loading which zone. We just waited a few minutes and rolled the dice that our zone was loading.',\n",
       "             'data/myreviews/review24.txt': \"Great place, well maintained. It's big airport with some long walks.\",\n",
       "             'data/myreviews/review25.txt': 'Nice place...Need more restaurants..! Pretty huge airport...so long walks..!',\n",
       "             'data/myreviews/review26.txt': 'Mid size American airport with very good organization, very straight forward, no hassle. \\n\\nSecurity is a little slow and priority lane isn\\'t really priority, it\\'s more of \"let\\'s make fun of first class flyers getting pissed\" lane, so let\\'s welcome first class flyers with big giggle!! \\n\\nMany stores and food quality is okay. Seating areas are limited, at least for the Terminal 3 before security, so be aware. \\n\\nLots of volunteers working here to guide you to the right place, there may be more volunteers than passengers. Haha.',\n",
       "             'data/myreviews/review27.txt': 'I\\'ve known my way around Sky Harbor Airport since I was 4 years old and Terminal 1 was an actual terminal. In the time since then, their attempts to improve the airport, transportation and parking, and terminals have made it extremely confusing. Get in the wrong lane and you\\'ll end up in the parking garage, when all you wanted was to drop off someone at the Departures curb. \\n\\nTerminal 2 remains the most accessible, with a parking lot located across the street and few airlines stationed there. Because only a couple airlines now use this terminal, security is a breeze. However, it\\'s the oldest terminal, smells bad (like rotten pizza) and doesn\\'t appear clean. \\n\\nTerminal 3 a little more of a hassle, although they have a parking garage attached to the terminal allowing you to enter any level through the elevator. More airlines use this terminal and it\\'s much smaller than Terminal 4, making it easier to navigate.\\n\\nOh, Terminal 4. You\\'re so nice, new and clean. You have access to great restaurants like Flo\\'s Shanghai Cafe, Einstein\\'s, Quizno\\'s and more. I love Taberna del Tequila for a drink just prior to my flight inside security access (I don\\'t like to fly, I prefer a bloody mary prior to boarding). You have tons of shops from Borders Books to local AZ tourist junk. I would like to love you, but you are just a mess. It\\'s way to difficult to navigate your lanes to get where you\\'re going, pick up and drop off is dangerous due to the people who pull away from the curb into lanes without looking, and security is painful- not only is there always a LONG line, but TSA agents regularly yell at people to \"pay attention!\" I dread flying out of Terminal 4 because I have to leave extra early for all the BS.\\n\\nThere are much easier airports to navigate and use, but we\\'re stuck with Sky Harbor. I can only hope the light rail access once complete will help in making it a more user friendly airport.',\n",
       "             'data/myreviews/review28.txt': 'Busy place, but everyone is nice and I keep having to go to the cell lot because of late baggage from my original destination. They charge a lot to deliver so better get your bags checked 45 mn early...',\n",
       "             'data/myreviews/review29.txt': \"In the age old debate of length v. girth, Sky Harbor is clearly a proponent of length. I swear this airport is three miles long. And if you have a connection... well, good luck running across the entire airport from people mover to people mover. It's one long, long, long, long, line of hallways and people movers. \\n\\nOver and over and over and over again. But... they've got free wifi! ...oh, that only works about 60% of the time. Well, it'll do. They do have clean-ish bathrooms and loads of options as far as airport eateries go. \\n\\nBut if you take one thing away from this review, let it be this: Length isn't always the answer.\",\n",
       "             'data/myreviews/review3.txt': 'A pain to get in and out of. I dread each trip I have to take to this place.',\n",
       "             'data/myreviews/review30.txt': \"I don't know why it is that all these airports have such a major lack of seating.  The staff here are friendly, and security is quick, but I just wish they'd work on the gate areas and add more seats.  Need an example?  Sacramento International's new terminal.\",\n",
       "             'data/myreviews/review31.txt': 'When you walk into Sky Harbor, you are bombarded with declarations that it\\'s the country\\'s \"friendliest airport\". Huh. What does this mean? User-friendly? Friendly in a \"you\\'ll always feel at home here\" way? Didn\\'t really know, but it seems extremely important to their PR group, since when you sign on for the wi-fi, you can\\'t change pages until you rate how friendly the airport is from a drop down menu. \\n\\nIt might be doing a disservice by proclaiming it as the superlative of congeniality. Expectations run high -- at least by me. I found the free wi-fi extremely friendly. Yeah!! Star for that. I found the den-like check in area (at least in Terminal 3), not so friendly as it left me feeling a little depressed. The TSA officer who confiscated my 4 oz (apparenly it\\'s 3.4 oz in PHX) Neutrogena sun screen not so friendly...but not malicious, and I guess I wouldnt be so friendly if I were charged with monitoring tenths of ounces hour after hour. The spoke-security system I found to be not so friendly to both users and retail. I never like seeing a plethora of places to purchase items BEFORE security, leaving you with only a few outlets for you to browse in your little concourse. I hate wondering, what do gates 1-14 get to purchase? Is my concourse more vacant than the others? Just put security before ALL the retail and let us wander a bit. \\n\\nOverall, not a bad airport. at all. the friendliest? i don\\'t know, but the free wi-fi certainly made me leave with a smile on my face!',\n",
       "             'data/myreviews/review32.txt': \"Unlike other airports I've been in where your options for food are your massive conglomerate chain restaurants like McDonald's and Burger King, Sky Harbor has a nice array of more local, higher quality restaurants for you to choose from (e.g., La Grande Orange, Olive and Ivy, Barrio Cafe), as well as some healthier choices compared to eating a greasy burger and fries (e.g., Paradise Bakery).  There are a lot of good parking options, whether you choose the airport's own parking lot or private lots that provide shuttle service.  I also appreciate the free wi-fi, it definitely helps whittle the time away while you are waiting for your flight!\",\n",
       "             'data/myreviews/review33.txt': \"I always connect here because I fly US Airways from Las Vegas.  But everytime I have a stop over here, other than a major back track to the Bay Area, I don't really mind coming here because it's a well maintained airport. It might look old but it is always clean. \\n\\nI'm only here about 1 or 2 hours at a time but I can't help but notice all these restaurants in here, if you're hungry and don't mind 'airport prices', never fear selection is here.  \\n\\nAlso be prepared to walk close to a mile to your connecting flight.  There's LONG hallways here. Don't worry, they have standing walking escalators.\",\n",
       "             'data/myreviews/review34.txt': 'This aiport is great. \\n\\nSecuirty is always a breeze dispite being in the top 10 busiest in the US.  Terminal 4 is great with multiple food options before and after secuirty. Terminal 2 and 3 are much smaller but still great and have food and lounges.  Terminal 2 has a military room and United Red Carpet Club.  Terminal 4 has 3 US Airways clubs there.  Best of all, FREE WI-FI.  They also have good shuttle service between terminals and the light rail to connect to PHX, Tempe and Mesa.',\n",
       "             'data/myreviews/review35.txt': 'Help with bags inbound does not exist until you are at the baggage claim.   All food so far is awful..especially for a metro airport!  Only upshot is they have a Brighton store..so when my purse strap broke..well I had no problem replacing it!',\n",
       "             'data/myreviews/review36.txt': 'As I sit a the gate 3, Terminal 2, UA1507 PHX-SFO in the plane with a 90 minute \"SFO Flow Control\" and \"Mechanical problem of rivets missing on the engine cone?!\"  delay, I write this review. \\n\\nSky Harbor used to be my home base for a couple of years. It is a remarkably good airport given the tremendous growth in the Valley of the Sun. \\n\\nThere are 3 terminals: \\nTerminal 2, the smallest and oldest, (United, Continental, others)\\nTerminal 3, next largest and oldest (Delta, Northwest and many others, including international flights)\\nTerminal 4, newest and bigger than the others combined, dominated by SouthWest and US AIrways (formerly America West)\\n\\nFor locals, there are the West and East long term parking lots. You can park in the West and walk to Terminal 2; East is much larger with an annex and hi-rise, and closer to terminal 4, but you need to take the shuttles. To help you remember which is east and west, PHX names the shuttles Gecko, RoadRunner, and one other I can\\'t remember! \\n\\nFor visitors, to get a round the sprawling valley, you need to rent a car. The recently added offsite Rental car Center is huge and well organized into 4 floors with different brands on each floor, and a lot of shuttle buses that are dedicated to each terminal. It is about 1 mile from the airport, but allow 10 minutes for shuttles and loading when you drop off your car. \\n\\nThey have recently upgraded Terminal 2, expanding the security area and remodeling the restaurant. Terminal 2 has little in the way of food and shops. Terminal 4, organized into 7 separate buildings of gates connected with long hallways and moving sidewalks, has more food and shopping choices, but not on the order of PDX, or DEN. Because of the sheer volume of flights, Term 4 can have a long security check-in line, so plan accordingly. \\n\\nIf you have questions, there are roaming information assistant volunteers, wearing blue sports coats and hats. Signage is decent and most monitors have been upgraded to flat screens. \\n\\nSky Harbor is located close to Tempe (ASU) and no too far from downtown PHX. The edge of Mesa and Scottsdale are about 5 miles away, but it is 20 or more miles from other parts of North Scottsdale, Deer Valley and North Phoenix. Overall, it is fairly well organized and a clean airport with a lot of flight options, especially on SouthWest or US Airways, who use it as a major hub. For other airlines with a smaller foothold, you have to often connect through LAX, DEN, SLC, ORD or SFO depending on your final destination.',\n",
       "             'data/myreviews/review37.txt': 'Free Wifi?  Redonkulous!\\n\\nSeems like every time I hit another airport, the places known for free wireless seem to fall down the wayside. Sky Harbor is a early decade throwback that still finds ways to give people a great experience without ripping them in the process.\\n\\nThe food options although not as varied as ATL per-se, they are much better than what you run into @ LAX or Dallas. I also appreciate that they at least try to keep the place decently clean.',\n",
       "             'data/myreviews/review38.txt': \"Stuck here for 3hrs on a layover.  What to do, what to do?  This airport is huge.  It seems to be the main hub for all flights in the southwest.  Stop off at the gift shop to scan the magazine racks.  OK, that keeps me busy for only 20 min.  What else to do?  Let's try to catch up on some reviews.  What's it gonna cost me to get online?  Hmmm...Sky Harbor Public WLAN?  Could it be?  YES!!!  FREE WI-FI!!!  Makes the layover that much more bearable.\",\n",
       "             'data/myreviews/review39.txt': \"Not a bad airport, and the transportation routing makes it easy to get in and out . My only beef is that most of the restaurants, certainly almost all of the good ones, are outside of security. However, it's not hideous, it doesn't smell terrible, and stuff runs reasonably on time. I guess that's the most you can really ask from air travel these days.\",\n",
       "             'data/myreviews/review4.txt': \"My home airport, so with work travel, I'm passing through here very often. I prefer Terminal 4 because of the variety of eating/drinking options for pre-flight enjoyment, and 2 and 3 are just OK and don't offer so much in amenities... but they're less crowded and that is a nice plus.  Also, free wifi!\\n\\nI rarely get lost in here and to be honest, security here has never been an issue... lines have been long going to gates in Term 4 but they move fairly quickly.\\n\\nI don't do body-scans (my personal choice), so if you choose to do the same, when you put your crap in the conveyor belt and you note they are only doing body scanners, alert the TSA person and let them know you'll need a pat-down (or a groping.. feel-up.... whatever you wanna call it ;)).  Electing to do this takes me longer to get through security, but I prefer it and plan ahead.\\n\\nAlso, if you have a digital boarding pass on your iPhone or Android and go through a *different* gate (they are mostly all connected via runways, etc) due to the line at the gate you're supposed to go through, note that they may not be able to scan your digital boarding pass... this happened to us once when we went to another gate with a significantly shorter line.. luckily they had the kiosk just there so I ran out of line and printed them out while hubby held my spot.  FYI!!\",\n",
       "             'data/myreviews/review40.txt': \"My girlfriend and I were sprinting from one side of the Airport to the other in order to make our connecting flight after US Airways did everything in their power to almost make us miss it when one of those golf carts pulled up next to us and asked us if we needed a ride. The driver cracked jokes, told us he accepted gratuities and drove us to our gate. We would have tipped him but all we had were $20 dollar bills and the service wasn't $20 worthy. \\n\\nThe airport itself was nice, it is clean and a complete contrast to LAX in every aspect. I do hope that I never find myself at this Airport again because after my experience with US Airways I will never be taking another connecting flight in my lifetime and I have no reason to be in Phoenix so chances are this airport will remain a memory. \\n\\nThe guys who checked our Passports, customs and the TSA moved quickly unlike LAX.\",\n",
       "             'data/myreviews/review41.txt': \"Easy airport to get to get to and navigate thru security, parking, your gate, etc, although the food selection is rather sparse once you get past security.\\n\\n The security lines are virtually non-existent, except for that morning after the Auburn National Championship game. Funny - I don't remember who they played, do you ever remember the loser of a title game? Anyways, the lines were practically out the door that morning.\",\n",
       "             'data/myreviews/review42.txt': 'Wi-fi rarely works. Parking bus system is slow and frustrating. The terminals need a makeover.',\n",
       "             'data/myreviews/review43.txt': \"I've had to travel through Phoenix a couple times recently because I was stupid enough to fly on US Air.\\n\\nCons:\\n1. It's huge and it seems like it takes forever to get from point A to B, which can be annoying when US Air cancels your flight and you're running around trying to find a way to get back to Seattle.\\n\\n2. I swear there are US Air employees hawking credit cards like every 10 feet.  It gets annoying.\\n\\nPros:\\n1. There is this place called the Blue Burrito Grill and it kicks the butt of all other airport food.  They're super fast and we had an amazingly good chicken burrito there last time.\",\n",
       "             'data/myreviews/review44.txt': 'Fast and Easy. Easy to get in and out of. It is a short drive from Ahwatukee. I wish the lightrail would cruise in there like they do in Orlando. HMS Host has a strong hold here, and a lot of the place is run by them. I would like to see more outlets for getting a quick cell phone charge. Overall Sky Harbor is very good at getting people in and out.',\n",
       "             'data/myreviews/review45.txt': \"Terminal 4\\n\\npros:\\n- organized and easy check in (though US Airways (in conjunction with AA) would not give me my second boarding pass so i have to check in again at my connection- that's a whole other airport's rant) \\n- complimentary plastic zip baggies provided \\n- 6 lines of security open (at check point B)!  so fast and easy!\\n- free wireless- is how i'm writing this!\\n\\ncons:\\n- not really nice for the driver dropping me off\\n- once you you get to the gate area, if you're thirsty, it's water or vitamin water\\n- public breast feeding, blecht!!  put that shit away, find a lounge or something!\\n- emergency alarm going off right now- loud, clear, and flashy!  \\n- while i appreciate thier attempt to mask any foul bathroom odors, they blast the restroom with a most powerful pink dental flouride gel scent that makes me gag more than i wanted to in the first place\\n\\ni guess it's better than it's not!\",\n",
       "             'data/myreviews/review46.txt': \"Sitting here waiting to be called to board on to my flight. I'm finding out that Phoenix Sky Harbor is a pretty nice airport compared to others that I've spent time in.\\n\\nI've found it easy to navigate around - and the best part of this place is the free wi-fi! Other airports I've spent time in make you pay for internet access.\\n\\nI know security lines can get horrendously long - but in my instance, they were quick and efficient taking only 15 minutes of my time to get through.\\n\\nI don't make it a habit to spend time at airports, but if you end having to spend time here, I could probably think of worse places to be.\",\n",
       "             'data/myreviews/review47.txt': 'It has been interesting seeing Sky Harbor airport grow over the years.... And there is a new airport train, and a new parking garage still being built.... Which adds to a little of the chaos trying to get around. Particularly on the weekend, when construction is in full swing.\\n\\nIdeally, if you fly out of Terminal 2 or Terminal 3 they are usually less crowded (shorter lines) than Terminal 4.',\n",
       "             'data/myreviews/review48.txt': 'It\\'s a pretty airport. But it\\'s pretty spread out. Maybe it\\'s just the US Airways gates or something ... I don\\'t like how both times I went through here on my connecting flights I had the walk of justice to get from one gate to another on the same airline, 1.5 hours apart. I don\\'t even have that problem at ATL.\\n\\nAlso - I can never hear when their employees speak over the loud speaker. It\\'s supposed to be LOUD isn\\'t it? I always stop and think, \"are they talking to me?\" You never know what they are saying.\\n\\nI haven\\'t had a problem with any delays or cancellations or anything. I just don\\'t like the layout.',\n",
       "             'data/myreviews/review49.txt': \"The airport itself is a fine smaller airport, not to many food options but the REAL down side are the TSA checkpoints.  It seems like the crammed them into a hallway that was not designed to hold even half that many people in a single area thus passengers and TSA workers are walking all over each other.  \\n\\nthis is the worst security check point I've ever seen, and for some reason they always have a second area for security that never looks like it gets used (at least when I've flow out of PHX).\",\n",
       "             'data/myreviews/review5.txt': \"Sky Harbor is one poor gateway to the city of Phoenix and the Valley of the Sun.  It is outdated, super crowded, it feels dirty and it is the home of US Airways, the biggest carrier in and out of this airport.\\n\\nTerminal 4 is configured rather poorly.  The terminal reminds me of a backwards E, like the second E in EMIN3M, except that there is another prong to the backwards E.  The concourses are not spacious at all, the seating limited, and consequently the crowds spill out into the walkway areas.\\n.  \\nTo go from one end of Terminal 4 to the other necessitates using really narrow moving walkways which are on the spine of the E.  It is really hard to maneuver if you want to pass the throngs given the limited space.  The distances are long, the bruises will be many, either to you but most likely given by you as you negotiate your way between flights.\\n\\nThe other thing that must be mentioned is that Sky Harbor is not a business person's airport but rather a tourist airport.  I think that contributes a lot to the chaos.  When an airport is full of amateurs, like Sky Harbor, there are bottlenecks of humanity in all the wrong places.  Further exacerbating the tourist nature of this airport are the snowbirds who flock here so that they can seek skin cancer in all months of the year, not just summer in their native habitats of the Upper Midwest.\\n\\nGet going on the remodel since it is long overdue and make sure you take in mind the tourists and the business traveler when updating this airport.\",\n",
       "             'data/myreviews/review50.txt': 'This place is chaotic, confusing, and the people who work here are just plain mean.  Hands down, it is the worst airport I have ever been to.',\n",
       "             'data/myreviews/review51.txt': 'The TSA was extremely friendly and understanding',\n",
       "             'data/myreviews/review52.txt': \"I've only had one arrival and departure at the Phoenix airport and found it to be fairly delightful. I didn't have problems with long walks to my gate as other travelers, so perhaps I was just lucky? \\n\\nWhat did stick out during my travels was the overall friendliness of the people I met who work at the airport. TSA was cool, the lady at Starbucks was awesome and the man at the information desk was super helpful! It's a little sad that we live in a world where you expect a high level of grumpiness at the airport, but I think every traveler can relate. I found the airport to be pleasant and I honestly wouldn't have minded hanging out for while but alas I did have a flight to catch!\\n\\nOne story which I will share (more for my own personal note taking) was that while I waited to check my luggage I observed a man openly berating his wife while they traveled with their four children. That dude was not cool and if I had my way, he would have been flying on the outside of the plane to his next destination. Could we make this a TSA security duty and have a douche or no douche scanner? Just sayin...\\n\\n31 Yelps Challenge: #25/31\",\n",
       "             'data/myreviews/review53.txt': \"It seems as if my experience was not the norm. It was pretty busy while I was there, and I managed to get through security in just a few minutes. That alone substantiates my 3 star review. I wish I didn't pay for a wifi account, bc it was free here. \\n\\nAside from wifi and my personal experience with security, it's not actually that great of an airport. I don't think it's very well laid out, the dining options suck, there isn't enough seating at many of the gates, my flight (along with several others) had to be moved to another gate.\",\n",
       "             'data/myreviews/review54.txt': 'I have a huge crush on Phoenix Sky Harbor!\\n\\nI was in security line last week. Note the fact that I said \"line\" because there is usually none when I come here. There were only 2 security checkpoint stations open. I don\\'t know, maybe 2 people called in sick because these things happen, right? \\n\\nThe only issue I had with this line was having to listen to this Alex P. Keaton wannabe complain about the line. You know the type- bright little bushy eyed college student, dressed in his suit, acting like know it all who somehow find a way to share with some poor travelers-his major, his goals, and his opinion on how the airport could improve this line process. \\n\\nAnyways, as I am sure many will agree there are some airports in this country that border on total anarchy at all times..... So, yeah there was a line in terminal 4, but it was orderly, efficient, and moved fast. \\n\\nThe airport offers booties and zip locks. Security smiles at me, asks me how my day is going all while maintaining order at the checkpoint.\\n\\nArriving at Sky Harbor and need to catch a cab-no problem, its easy and you leave with a comment card. Guess what? I had a bad cab experience, I filled out that comment card and mailed it off fully expecting it to go into a black hole. Nope, I got an apology letter in the mail the next week. It didn\\'t stop there! I got a follow up phone call to further investigate my complaint! Can you believe it- an airport that solicits feedback, and has a system in place to address issues that are brought to their attention?\\n\\nTo give those who dislike Sky Harbor the benefit of the doubt I will say that maybe the terminal I use functions better than the rest, or maybe my love for this airport is based off the fact that I am from RI where the checkpoint security system is nothing more than a inconvenient joke. However, thus far I have to agree its the friendliest airport I have been to in the US.',\n",
       "             'data/myreviews/review55.txt': \"I've never really had a problem at Sky Harbor. It's always been quick and easy. Airport is generally clean as well.\\n\\nPS - I hate the TSA and their feel-you-up searches.\",\n",
       "             'data/myreviews/review56.txt': \"I love this airport. Seriously people. My home airport is LAX. Do you know how much it sucks!! \\n\\nPhoenix has a lot of things going for it :\\n\\n- It is a relatively easy airport to navigate. It is spread out, so those of you with children or disabilities may have a little bit of a harder time but there are mobile walkways which are a big help. \\n\\n- FREE WIFI. Seriously. It's like one-click access too, I love it! \\n\\n- Plenty of places to eat. There are  little cafes, sports bars, kid friendly places, stores with snacks. There's tons of places to eat!\\n\\n- Childrens playground (international terminal), it's a nice little way to wear out kids who are going to be on long flights.\\n\\n- Plenty of restrooms (I never once encountered a line...)\\n\\n- Clearly marked TVs with flight information. \\n\\n-  Security moved quickly both times I was there (Christmas Eve and New Years Day).\\n\\n- Impressive baggage claim (as Heather said the TVs tell you where your bag is going to be, avoiding all confusion). \\n\\n- Lots of windows to view the amazing Arizona sunset.\",\n",
       "             'data/myreviews/review57.txt': \"Phoenix - do you ever turn on the air conditioning in your airport? *Sarcasm* There's nothing I love more than getting off a cramped, hot US Airlines flight with a pounding sinus headache and walking into a heatwave. *End Sarcasm*\\n\\nSeriously, it's old, it's dark in there (are they saving energy?), it smells like cigarette smoke, and it's hot & sweaty. And at 9:30 PM, just about everything in my terminal was closed. No food for me. Thank God I was just here for a quick 30 minute layover. The only thing redeeming about this place was the FREE WIFI! Now that's something I can get behind!\",\n",
       "             'data/myreviews/review58.txt': \"This airport has the nice walkway that have the nice trendy monitors that enable you to display announcements.  You can now display the names of the individuals you are looking for in addition to paging them.  They also provide the 1 quart plastic bags for you if you should have any liquids in your carry-on that you forgot about.  They also supply the hospital like footies so that you didn't want to be walking around in your socks or barefoot you would have a covering.  This airport seems to have the money....  The pick up area is slightly confusing because there is a South Side, and I'm not sure which side that really is...  If you are looking at the sign does it mean that it's the area in front of or behind that is the South Side area?!  There are the inner lanes where people can pick you up, and the outside lanes are where the buses and shuttles are located   This is the opposite of O'Hare and Midway where the closer lanes are for limo and bus and taxi pick up.  My friend picked me up on that side and the parking police was honking at us.  At least we didn't get ticketed.  It's interesting how each terminal has an arrival and departure ramp, as opposed to separating the arrivals and departures.  I really like how the seats at the airport terminals do not have arm rests.  I notice these things now, should I happen to have a layover I can spread out and lay on a few seats for more comfort.  They have a decent amount of restaurants as well.  I'm not sure if all the gates have a simllar set up and variety of restaurant vendors, but was the case for Gate A.\",\n",
       "             'data/myreviews/review59.txt': \"The following is a few reasons why I dig Sky Harbor Airport. \\n\\n-Security moves pretty quickly.\\n-There are quite a few restaurant options. \\n-Everything is carpeted and very clean. \\n- They have free transportation that will take you from one terminal to another. \\n-Clean restrooms\\n-Free Wifi \\n- It might just be a Phoenix thing, but even the TSA agents were hot.\\n\\nI'm sure there are some cons as well, but all in all my experiences have always been pleasant flying in or out of here.\",\n",
       "             'data/myreviews/review6.txt': \"I only did layovers in this airport to and from Colorado from California, but I liked it. There were a ton of places to eat which was fantastic. Their flights left on time, which was kinda annoying when we got in 10 minutes late and ended up getting stuck there for almost 3 hours. Free internet access helped with that though. It's an airport I don't mind being stuck in for a bit.\",\n",
       "             'data/myreviews/review60.txt': \"I am retracting my 4 stars for this airport.  Came in United with 3 hrs to spare.  Looked at tv monitor did not indicate what gate my flight to SJ was.  Thought I was too early so I just lounged around and chilled at the bar.  If it wasn't for the gentlemen serving me, I wouldn't have known that I needed to exit Terminal 2, go outside to the sidewalk and take a bus to Terminal 4 for US airways.  No where did it indicate that I needed to go to another terminal.  I do not know if this is United issue or the airport itself.  They should really spell it out to passengers where they need to go to catch their connecting flight.  After speaking with TSA officer and US airways employees, this is a common problem and many miss their flight because of this.  You need to go through security again when you arrive at another terminal.  Make sure you plan ahead and check you rlights constantly to avoid missed flights!!\\n\\nTerminal 2:  The airport is rather small and quiet.  Not necessarily a bad thing.  There are the usual stores with all your traveling needs and books/magazines.  I flew with United airlines located in Terminal 2.  There's a food court to get sandwiches, coffee.  Round table, Wendy's and a sit down place to eat  Allstars with a bar.  Not too bad.  With free wifi everywhere, who would complain?\",\n",
       "             'data/myreviews/review61.txt': \"It's an airport. Got it. And given that fact, I have allowed one star for the things that happen that they can not control. But boy oh boy, if I could give zero stars, I sure would. I have flown into this airport 4 times in the last 3 months. And just when I think the experience can't be any worse, Sky Harbor proves me wrong. \\n\\n1- Possibly the rudest employees ever. From TSA, to the newstand, to Starbucks, they are appalling. \\n2- This airport is filthy. Toilets are always out of paper or dirty. Floors are not clean, chairs for waiting are consistently dirty. \\n3-The wait to collect your baggage is atrocious. My average on my 4 visits is 1hour and 5 min each time. \\n4-The line for checking in is longer than any line I have seen in any airport in any country. If you know you have high volume, then increase your staff. \\n5-TSA is unhelpful \\n6-If an airport offers multiple 6 am flights, they may want to consider opening vendors prior to 5:30. \\n\\nI am not writing this review in a bubble. I travel every week and see other major cities get it pretty darn close to right. PHX has a long way to go.\",\n",
       "             'data/myreviews/review62.txt': \"A little confusing but I got where I needed to go. I like how they have a waiting area for you and your car, while you're waiting for the person your're picking up. So you can use your cell and watch the arrivals on a big screen, very cool! Need one  in OC!!\",\n",
       "             'data/myreviews/review63.txt': \"I don't mind the airport itself but the wait for baggage is ridiculous.  45 minute flight home from Vegas and 30+ minute wait on baggage. Insane!\",\n",
       "             'data/myreviews/review64.txt': 'I like Sky Harbor a lot. This could be because it\\'s my \"home\" airport, in that I\\'m from Phoenix and I fly back pretty regularly (every 2 months or so).\\n\\nI\\'m comparing it to 2 other airports I also fly/flew out of frequently: Denver, and Spokane. Denver: nightmare. Spokane: heaven.\\n\\nPhoenix/Sky Harbor falls in between those two. SH is definitely not as hard to navigate as Denver. If you get lost in SH, you\\'re pretty pathetic. No offense, but there are signs everywhere and you don\\'t have to take a train. Also, there are moving walkways everywhere too. And, when I\\'ve been there, those skycap guys who drive you around (if you ask) are always around too. So you could ask for directions, if you were that lost.\\n\\nOn the other hand, terminal 4 can be a nightmare... when it comes to parking/being dropped off. I\\'ve done both, many times, and hot damn. I\\'m really surprised more people don\\'t get into accidents at SH when they drop off people. Also, the security guys outside yell at you if you dare stay there longer for any more than 5 seconds. I mean, really. I was carrying a heavy bag walking to my boyfriend\\'s car when a security guy yelled at him to \"keep moving.\" Ummm... I\\'m right here dude!! Sorry I can\\'t run any faster to catch his car!\\n\\nI fly Southwest mostly, though I\\'ve flown Alaska (terminal 2). Terminal 2 is obviously a lot less bothersome than 4, because it\\'s less used. However, I don\\'t remember how good the food options are in Terminal 2 so... expect fast food.\\n\\nTerminal 4 has pretty great food options. They\\'ve got my requirements: Einstein\\'s and Starbucks. They also have some Mexican food restaurant options, and a Cinnabon! They really have a lot of options, so you won\\'t starve.\\n\\nFree wi-fi. YES!\\n\\nBags arrive quickly. YES! When Denver totally ruins your bag (thanks, DIA!) and it finally gets delivered in Phoenix, the Southwest front desk people are really nice and accommodating, no matter how pissed you are. I\\'m speaking from personal experience, in case you couldn\\'t tell! :)\\n\\nAll in all, I\\'m always pleased with my trips to Phoenix. It\\'s not as fabulous as Spokane but... it\\'s also not Spokane, thank god!',\n",
       "             'data/myreviews/review65.txt': 'Good airport, easy to navigate.  The food leaves something to be desired.  So try to eat before you arrive.  And if have to eat there Good Luck...  I travel to this airport a fair amount and for the most part it really is a good airport, security is generally quick... Car Rental is fairly easy as well, just plan on it taking some time to get to your car.  Just the food is the issue.  And that could be the Concourse I use as well, to be fair...',\n",
       "             'data/myreviews/review66.txt': \"I like PHX airport.\\n\\nI find it easy to get through and logically laid out.\\nBaggage is simple and I like that you can be picked up at each of the 4 Terminals instead of having to take a train to a main one.\\n\\nI wish they had a few better eateries, but, hey, it's an airport.\\n(Is there some kind of law that requires airports to provide shitty, over-priced food?)\\n\\nOverall, an easy place to navigate.\",\n",
       "             'data/myreviews/review67.txt': 'This is an average airport. From my brief visit, it appears pretty small. However, it is okay. The only downside is there are not many restaurants in certain sections of the airport. I was stuck with one of three choices and I got tired of eating hot dogs or burgers. I think that the airport is undergoing some changes. Hopefully, these changes upgrade the airport and its offering to travelers.',\n",
       "             'data/myreviews/review68.txt': \"Overall it's a really good airport for a city the size of Phoenix.  If you check in and print out your boarding pass beforehand and don't check any bags - you should be fine here.  The waits at security aren't that bad for the most part.  One of the highlights here is the award-winning art collection - noted as one of the best in an airport nationwide.\\n\\nOne reason this airport doesn't get 5 stars is the lack of access between terminals (all they offer is bus service) and between the airport and public transportation - supposedly a link with the future light rail system will come in 5 years or so. \\n\\nThe difference is terminals has been noted already - but personally I prefer using Terminals 2 and 3 to avoid the zoo that is Terminal 4 - especially to avoid the Southwest (Greyhound of the Skies) crowd.  But if you do have to deal with Terminal 4 - it is large and modern with people movers, offering almost anything you could possibly need. \\n\\nI especially like Terminal 2 because it is smaller and less frantic.   Downside is there are less eateries.  An Arizona Republic article recently noted that Terminal 4 eateries (Starbucks, for example) charge significantly more than in other terminals - even for the same exact food and drink!\",\n",
       "             'data/myreviews/review69.txt': \"Wow, what can I say that hasn't been said?\\n\\nThe airport seemed to be animal-friendly (always a plus when you're traveling with two pups) and the staff we encountered seemed nice as well. The TSA agent checking our boarding passes and licenses even joked around with us about how our ids must be fake since we didn't look that old.\\n\\nNot bad overall!\",\n",
       "             'data/myreviews/review7.txt': \"You are so clean, Sky Harbor. \\nI don't mind flying out of this airport. The flight attendants are nice.\\n\\nSecurity is fast and thorough. I really dislike one lady that works in security, because she was rude to me for no reason. It probably wouldn't have bugged me so much if it weren't for the fact that it was 11:45 PM, I had just worked a double, and I was being forced to fly to Ohio....where it was cold and still had snow on the ground.. Oh not to mention on my Spring Break. \\n\\nAnyway, the stores are nice and have a good amount of nice items to buy for your flight to keep you occupied. \\n\\nFlights are on time the majority of the time, and when they aren't they at least warn you.. *cough cough* Cleveland Hopkins International *cough cough*.\\n\\nI suppose it could use some remodeling.\",\n",
       "             'data/myreviews/review70.txt': \"I flew into the Phoenix airport on a Southwest flight. I had a connecting flight in another terminal but it was so frustrating to get to in this weird airport. Don't get me wrong, it's modern and very beautiful. There are gorgeous views of the red rocks and mountains of Phoenix. But all that beauty is overshadowed by the poorly organized airport. All of the information boards only provided flight information for that terminal. Which is great if you're staying in one terminal but when you have a connecting flight or you're switching carriers then it's really frustrating. There should be more information available. \\n\\nAlso, there was no way for me to find a way to another terminal. There are no information booths and if there was then it was well hidden from me. I finally asked a TSA security guy if he could help me find my flight. He told me I'd have to take a shuttle to another terminal. I was surprised that in 2012 this airport that seems so modern did not have a train that connected all of the terminals. My surprise quickly turned to anger because if you are switching terminals then you must go through security again! I had purchased jam at the airport and presented my receipt showing that it was a purchase within the airport but it was still confiscated. Dumb.\\n\\nPhoenix, please embrace all parts of modernity and build a freaking tram between terminals.\",\n",
       "             'data/myreviews/review71.txt': 'BAD\\n\\n* rental car bus to terminal\\n\\n* delayed flight back to SF\\n\\n* Uptight security\\n\\nGood\\n\\nbottle water $.89\\n\\nBoarded to Oakland Airport instead of SFO, (delayed 2 hours)\\nHad the last seat and compartment. WHEEWWWWW',\n",
       "             'data/myreviews/review72.txt': 'Standard airport, nothing special. If possible, I recommend booking one of the first flights of the morning to get past security as easily and non-stressful as possible. The TSA thugs tend to get crankier by the hour as the day goes by. Particularly in the international terminal.\\n\\nThe food selection is the standard overpriced, bland fair for the most part. There are a few good bars, particularly the one with the \"Western Theme\" in one of the domestic terminals that offers a free shot with your beer, which is something out of the ordinary.\\n\\nIt can get crowded during the afternoon, though. Not enough seating and a lot of people who do not understand not to stand in the middle of the corridor, blocking you from barely making your flight. But just shove past them, because these ninnies should know better.\\n\\nNot great, not terrible. Just another airport.',\n",
       "             'data/myreviews/review73.txt': 'VERY SLOW SECURITY CHECKPOINT\\n\\nThis airport has the worst baggage security checkpoint. Lines are inefficiently placed. X-ray watchers are overly cautious. Baggage check police when called up takes minutes to show up. Not only are they slow but they also seem to deliberately slow everybody down.\\n\\nOut of many many long waits at security over the last year, today, I encountered security slowness on my own baggage check. I did not take my computer off my bag since it does not have a magnetic drive. Computers without magnetic drive are supposed to be fine within bag since they don\\'t affect X-Rays. However, security watcher was overly cautious so he called the police for \"bag check\". Police guys didn\\'t show up for 10 minutes. Then they finally show up and say I simply needed to take the computer out and run it again The security watcher person could tell me to take the computer out which he didn\\'t have to and I wouldn\\'t miss my flight, neither would other people need to wait. There was also another 10 minutes wait for another passenger god knows why.\\n\\nThey also force everyone to go through this backscatter X-rays. I don\\'t know what it is and not sure how safe but it doesn\\'t look like we have an option.',\n",
       "             'data/myreviews/review74.txt': \"I like this airport, it's huge. I usually dislike oversized hubs but I like Phoenix. It's layout is friendly and organized, the long, flat, escalators make you feel like your super-human-power-walking, love it.\\n\\nIt has a ton of shopping and good bars. I think there is 11 jewelry stores in the airport alone, which would suck if it were anywhere else, but when your in Arizona your in the Mecca of awesome craft jewelry masters from all the local Native American tribes. That do amazing turquoise and silver work. \\n\\nHighly airconditioned so bring your hoodie. Barfly is a decent bar for a cold cocktail.\",\n",
       "             'data/myreviews/review75.txt': 'Last time I was hereof was sooooo hot IN the terminal. Today thankfully cooler. Not many food options. $2 bottled water vending machines. Crowded everywhere. Still, good hub for SW and Hawaii.',\n",
       "             'data/myreviews/review76.txt': \"It's a pretty big airport! Beware if flying in the Summer time, because of delays with the airplanes air-conditioning! I remember, a flight flying to the East Coast before me ended up having a 2-hour delay. The Airline, gave there Customers food while waiting at the airline because of the long delay. Other than that, the Airport has long walk-ways, so you will get plenty of exercise walking! (:\",\n",
       "             'data/myreviews/review8.txt': 'Rental car review.\\n\\n118 degrees.  Standing outside in the heat waiting for a bus.  10 minutes go by and I have seen 3 busses leave with out of service signs.  Another 10 minutes pass and no active duty busses.  Finally, a bus!  We have a packed bus and the driver is just standing outside.  5 minutes later he comes back on the bus and we drive 10 miles an hour the whole way to the terminal.\\n\\nPHX...pay attention.  Business travelers do not appreciate being left in the heat for 20 minutes watching out of service busses pass by.',\n",
       "             'data/myreviews/review9.txt': \"It's called America's friendliest airport for a reason- it truly embodies world class service to all. I love it here it's clean, great places to eat and smiling faces to great you esp at TSA!\"})"
      ]
     },
     "execution_count": 18,
     "metadata": {},
     "output_type": "execute_result"
    }
   ],
   "source": [
    "texts"
   ]
  },
  {
   "cell_type": "code",
   "execution_count": 19,
   "metadata": {
    "collapsed": true
   },
   "outputs": [],
   "source": [
    "tokenizedreviews = [nlp.tokenize_clean_stem(value) for key, value in texts.items()]\n",
    "sourcefilenames = [key for key in texts.keys()]"
   ]
  },
  {
   "cell_type": "code",
   "execution_count": 20,
   "metadata": {
    "collapsed": true
   },
   "outputs": [],
   "source": [
    "mergedreviews = list(itertools.chain.from_iterable(tokenizedreviews))"
   ]
  },
  {
   "cell_type": "code",
   "execution_count": 21,
   "metadata": {
    "collapsed": true
   },
   "outputs": [],
   "source": [
    "mylist = [\"'s\", \"n't\"]"
   ]
  },
  {
   "cell_type": "code",
   "execution_count": 22,
   "metadata": {
    "collapsed": true
   },
   "outputs": [],
   "source": [
    "def remove_custom(wordlist, mylist):\n",
    "    return [word for word in wordlist if word not in mylist]"
   ]
  },
  {
   "cell_type": "code",
   "execution_count": 23,
   "metadata": {
    "collapsed": true
   },
   "outputs": [],
   "source": [
    "clean_reviews = remove_custom(mergedreviews, mylist)"
   ]
  },
  {
   "cell_type": "code",
   "execution_count": 24,
   "metadata": {},
   "outputs": [
    {
     "data": {
      "text/plain": [
       "4814"
      ]
     },
     "execution_count": 24,
     "metadata": {},
     "output_type": "execute_result"
    }
   ],
   "source": [
    "len(clean_reviews)"
   ]
  },
  {
   "cell_type": "markdown",
   "metadata": {},
   "source": [
    "Now that the set is cleaned, let's work to interpret it. "
   ]
  },
  {
   "cell_type": "markdown",
   "metadata": {},
   "source": [
    "<h3><center><i> Common Words in the DataSet </i></center></h3>"
   ]
  },
  {
   "cell_type": "code",
   "execution_count": 105,
   "metadata": {
    "collapsed": true
   },
   "outputs": [],
   "source": [
    "def print_counts(tokens, count=10):\n",
    "    # Takes a list of words, counts, prints top \"count\" words.\n",
    "    from collections import Counter\n",
    "    mycounts = Counter(tokens)\n",
    "    print(\"Word\\tCount\")\n",
    "    for word,count in mycounts.most_common(count):\n",
    "        print(\"%s\\t%s\" % (word,count))"
   ]
  },
  {
   "cell_type": "code",
   "execution_count": 106,
   "metadata": {},
   "outputs": [
    {
     "name": "stdout",
     "output_type": "stream",
     "text": [
      "Word\tCount\n",
      "airport\t140\n",
      "termin\t92\n",
      "get\t59\n",
      "secur\t54\n",
      "flight\t47\n",
      "go\t38\n",
      "time\t35\n",
      "sky\t33\n",
      "like\t33\n",
      "us\t32\n"
     ]
    }
   ],
   "source": [
    "print_counts(clean_reviews)"
   ]
  },
  {
   "cell_type": "markdown",
   "metadata": {},
   "source": [
    "Terminal, Security seem to be 2 important topics of joy/complaints in this airport"
   ]
  },
  {
   "cell_type": "markdown",
   "metadata": {},
   "source": [
    "<h3><center><i> Most Common Bigrams </i></center></h3>"
   ]
  },
  {
   "cell_type": "code",
   "execution_count": 107,
   "metadata": {},
   "outputs": [
    {
     "data": {
      "text/plain": [
       "[(('sky', 'harbor'), 350.6195634827791),\n",
       " (('us', 'airway'), 114.58193001946721),\n",
       " (('free', 'wi-fi'), 89.85174909091864),\n",
       " (('free', 'wifi'), 75.79181220506207),\n",
       " (('connect', 'flight'), 67.28784532738443),\n",
       " (('light', 'rail'), 64.74058949747008),\n",
       " (('rental', 'car'), 55.966618276533616),\n",
       " (('peopl', 'mover'), 54.12973854963296),\n",
       " (('food', 'option'), 49.92189195471558),\n",
       " (('board', 'pass'), 48.54425430701205),\n",
       " (('point', 'b'), 41.96439187569954),\n",
       " (('place', 'eat'), 38.60194567796558),\n",
       " (('america', 'friendliest'), 37.46695837942891),\n",
       " (('*cough', 'cough*'), 35.14371472619207),\n",
       " (('park', 'garag'), 34.43818330574132),\n",
       " (('arriv', 'departur'), 34.328717956337414),\n",
       " (('tsa', 'agent'), 34.0619545232298),\n",
       " ((\"'m\", 'sure'), 33.9103924392775),\n",
       " (('park', 'lot'), 33.1761721620439),\n",
       " (('thing', 'happen'), 31.742331082700034),\n",
       " (('class', 'flyer'), 31.32462971642533),\n",
       " (('comment', 'card'), 31.32462971642533),\n",
       " (('conveni', 'economi'), 31.32462971642533),\n",
       " (('overli', 'cautiou'), 31.32462971642533),\n",
       " (('zip', 'lock'), 31.32462971642533),\n",
       " (('find', 'way'), 30.441502727146492),\n",
       " (('friendliest', 'airport'), 30.20217239865763),\n",
       " (('bottl', 'water'), 29.59853728171465),\n",
       " (('take', 'comput'), 28.56608918314359),\n",
       " (('move', 'walkway'), 28.479586701942893),\n",
       " (('magnet', 'drive'), 28.413598056101648),\n",
       " (('watcher', 'overli'), 27.505960420647902),\n",
       " (('south', 'side'), 26.767940485998473),\n",
       " (('secur', 'line'), 26.387143254159234),\n",
       " (('cell', 'phone'), 25.780283786356467),\n",
       " (('pay', 'attent'), 25.780283786356467),\n",
       " (('plan', 'ahead'), 25.780283786356467),\n",
       " (('smile', 'face'), 25.780283786356467),\n",
       " (('internet', 'access'), 25.60900314315643),\n",
       " (('baggag', 'claim'), 24.712649838921784),\n",
       " (('first', 'class'), 24.5957604476254),\n",
       " (('valley', 'sun'), 24.5957604476254),\n",
       " (('digit', 'board'), 24.33024571340076),\n",
       " (('rent', 'car'), 23.98131615599605),\n",
       " (('walk', 'walk'), 23.96051468606148),\n",
       " (('us', 'air'), 23.6639648826126),\n",
       " (('thank', 'god'), 22.870915673594332),\n",
       " (('great', 'food'), 22.771019000582697),\n",
       " (('tsa', 'offic'), 22.585759275842932),\n",
       " (('bu', 'proceed'), 22.356875938020604)]"
      ]
     },
     "execution_count": 107,
     "metadata": {},
     "output_type": "execute_result"
    }
   ],
   "source": [
    "bigram_measures = nltk.collocations.BigramAssocMeasures()\n",
    "\n",
    "word_fd = nltk.FreqDist(clean_reviews)\n",
    "bigram_fd = nltk.FreqDist(nltk.bigrams(clean_reviews))\n",
    "finder = BigramCollocationFinder(word_fd, bigram_fd)\n",
    "scored = finder.score_ngrams(bigram_measures.likelihood_ratio)\n",
    "scored[0:50]"
   ]
  },
  {
   "cell_type": "markdown",
   "metadata": {},
   "source": [
    "<h3><center><i> Collocations </i></center></h3>"
   ]
  },
  {
   "cell_type": "code",
   "execution_count": 34,
   "metadata": {
    "collapsed": true
   },
   "outputs": [],
   "source": [
    "textobject = Text(clean_reviews)"
   ]
  },
  {
   "cell_type": "code",
   "execution_count": 35,
   "metadata": {},
   "outputs": [
    {
     "name": "stdout",
     "output_type": "stream",
     "text": [
      "sky harbor; free wi-fi; free wifi; connect flight; light rail; rental\n",
      "car; peopl mover; food option; board pass; place eat; america\n",
      "friendliest; *cough cough*; park garag; arriv departur; tsa agent;\n",
      "park lot; thing happen; class flyer; comment card; conveni economi;\n",
      "overli cautiou; zip lock; find way; friendliest airport; bottl water\n"
     ]
    }
   ],
   "source": [
    "textobject.collocations(25)"
   ]
  },
  {
   "cell_type": "markdown",
   "metadata": {},
   "source": [
    "<h3><center><i> Concordances </i></center></h3>"
   ]
  },
  {
   "cell_type": "code",
   "execution_count": 180,
   "metadata": {},
   "outputs": [
    {
     "name": "stdout",
     "output_type": "stream",
     "text": [
      "Displaying 11 of 11 matches:\n",
      " minut layov thing redeem place free wifi someth get behind decent airport lim\n",
      "i sit place eat allstar bar bad free wifi everywher would complain america fri\n",
      "l restaur bar see done plu star free wifi woot everi airport free wifi 'm look\n",
      "ar free wifi woot everi airport free wifi 'm look sfo absolut fun connect airp\n",
      "e termin anoth -clean restroom -free wifi might phoenix thing even tsa agent h\n",
      "ine hallway peopl mover 've got free wifi oh work time well 'll clean-ish bath\n",
      " delay cancel anyth like layout free wifi redonkul seem like everi time hit an\n",
      " alon substanti star review wish pay wifi account bc free asid wifi person exp\n",
      "w wish pay wifi account bc free asid wifi person experi secur actual great air\n",
      "en 're less crowd nice plu also free wifi rare get lost honest secur never iss\n",
      "der time mobil walkway big help free wifi serious like one-click access love p\n"
     ]
    }
   ],
   "source": [
    "textobject.concordance(\"wifi\")"
   ]
  },
  {
   "cell_type": "code",
   "execution_count": 111,
   "metadata": {},
   "outputs": [
    {
     "name": "stdout",
     "output_type": "stream",
     "text": [
      "Displaying 4 of 4 matches:\n",
      "walk close mile connect flight long hallway worri stand walk escal 've flown ph\n",
      " mover one long long long long line hallway peopl mover 've got free wifi oh wo\n",
      " side tsa checkpoint seem like cram hallway design hold even half mani peopl si\n",
      "organ separ build gate connect long hallway move sidewalk food shop choic order\n"
     ]
    }
   ],
   "source": [
    "textobject.concordance(\"hallway\")"
   ]
  },
  {
   "cell_type": "markdown",
   "metadata": {},
   "source": [
    "The long hallway is a constant complain from customers"
   ]
  },
  {
   "cell_type": "code",
   "execution_count": 112,
   "metadata": {},
   "outputs": [
    {
     "name": "stdout",
     "output_type": "stream",
     "text": [
      "Displaying 18 of 18 matches:\n",
      "veral friendli peopl met work airport tsa cool ladi starbuck awesom man inform \n",
      "i outsid plane next destin could make tsa secur duti douch douch scanner sayin \n",
      "ng need go catch connect flight speak tsa offic us airway employe common proble\n",
      "river alway friendli small talk-readi tsa folk also seem smile play banter trav\n",
      "main memori guy check passport custom tsa move quickli unlik lax flew phoenix a\n",
      "in inform booth well hidden final ask tsa secur guy could help find flight told\n",
      " past secur easili non-stress possibl tsa thug tend get crankier hour day goe p\n",
      "m -free wifi might phoenix thing even tsa agent hot 'm sure con well experi alw\n",
      "t look secur painful- alway long line tsa agent regularli yell peopl pay attent\n",
      "ake gag want first place guess better tsa extrem friendli understand beach para\n",
      " great place eat smile face great esp tsa pretti airport pretti spread mayb us \n",
      "conveyor belt note bodi scanner alert tsa person let know 'll need pat-down gro\n",
      "rmin friendli left feel littl depress tsa offic confisc oz apparenli oz phx neu\n",
      "easi airport gener clean well ps hate tsa feel-you-up search slow secur checkpo\n",
      " two pup staff encount seem nice well tsa agent check board pass licens even jo\n",
      "ove wrong possibl rudest employe ever tsa newstand starbuck appal airport filth\n",
      "er airport mani food option real side tsa checkpoint seem like cram hallway des\n",
      "alf mani peopl singl area thu passeng tsa worker walk worst secur check point '\n"
     ]
    }
   ],
   "source": [
    "textobject.concordance(\"tsa\")"
   ]
  },
  {
   "cell_type": "markdown",
   "metadata": {},
   "source": [
    "Many travelers had issues with the TSA"
   ]
  },
  {
   "cell_type": "code",
   "execution_count": 113,
   "metadata": {},
   "outputs": [
    {
     "name": "stdout",
     "output_type": "stream",
     "text": [
      "Displaying 11 of 11 matches:\n",
      "o outsid sidewalk take bu termin us airway indic need go anoth termin know uni\n",
      "h connect flight speak tsa offic us airway employe common problem mani miss fl\n",
      "irport order make connect flight us airway everyth power almost make us miss o\n",
      "t hope never find airport experi us airway never take anoth connect flight lif\n",
      "tdat super crowd feel dirti home us airway biggest carrier airport termin conf\n",
      "dice zone load alway connect fli us airway la vega everytim stop major back tr\n",
      "rmin pro organ easi check though us airway conjunct aa would give second board\n",
      "retti airport pretti spread mayb us airway gate someth like time went connect \n",
      "room unit red carpet club termin us airway club best free wi-fi also good shut\n",
      "ger other combin domin southwest us airway formerli america west local west ea\n",
      "t flight option especi southwest us airway use major hub airlin smaller footho\n"
     ]
    }
   ],
   "source": [
    "textobject.concordance(\"airway\")"
   ]
  },
  {
   "cell_type": "markdown",
   "metadata": {},
   "source": [
    "Travelers complain about the company US Airways"
   ]
  },
  {
   "cell_type": "code",
   "execution_count": 170,
   "metadata": {},
   "outputs": [
    {
     "name": "stdout",
     "output_type": "stream",
     "text": [
      "Displaying 4 of 4 matches:\n",
      " one schedul run allow connect light rail offer new mode transport east econom\n",
      "ransport supposedli link futur light rail system come year differ termin note \n",
      " use 're stuck sky harbor hope light rail access complet help make user friend\n",
      "also good shuttl servic termin light rail connect phx temp mesa busi place eve\n"
     ]
    }
   ],
   "source": [
    "textobject.concordance(\"rail\")"
   ]
  },
  {
   "cell_type": "code",
   "execution_count": null,
   "metadata": {
    "collapsed": true
   },
   "outputs": [],
   "source": []
  },
  {
   "cell_type": "markdown",
   "metadata": {},
   "source": [
    "<h3><center><i> Similarities between the reviews (TF-IDF) </i></center></h3>"
   ]
  },
  {
   "cell_type": "code",
   "execution_count": 114,
   "metadata": {
    "collapsed": true
   },
   "outputs": [],
   "source": [
    "def tfidf(t, d, D):\n",
    "    # term freq is the count of term as percent of the doc's words\n",
    "    # d.count counts how many times t occurs in d.\n",
    "    tf = float(d.count(t)) / len(d) \n",
    "    # Note this version doesn't use +1 in denominator as many do.\n",
    "    idf = math.log( float(len(D)) / (len([doc for doc in D if t in doc])))\n",
    "    return tf * idf"
   ]
  },
  {
   "cell_type": "code",
   "execution_count": 115,
   "metadata": {
    "collapsed": true
   },
   "outputs": [],
   "source": [
    "def makeText_from_tokens(tokens):\n",
    "    return nltk.Text(tokens)"
   ]
  },
  {
   "cell_type": "code",
   "execution_count": 116,
   "metadata": {
    "collapsed": true
   },
   "outputs": [],
   "source": [
    "def makeTextCollection(tokenslist):\n",
    "    texts = [nltk.Text(doc) for doc in tokenslist]\n",
    "    collection = nltk.TextCollection(texts)\n",
    "    return collection, texts"
   ]
  },
  {
   "cell_type": "code",
   "execution_count": 117,
   "metadata": {
    "collapsed": true
   },
   "outputs": [],
   "source": [
    "def compute_tfidfs_by_doc(filenames):\n",
    "\n",
    "    from collections import defaultdict  # not the textcollection!\n",
    "    import nlp_utilities as nlp\n",
    "    \n",
    "\n",
    "    alltokens = []\n",
    "    textslist = nlp.load_texts_as_string(filenames)\n",
    "    for text in textslist.values():\n",
    "        alltokens.append(nltk.word_tokenize(text))\n",
    "    collection, textobjs = makeTextCollection(alltokens)\n",
    "    \n",
    "   \n",
    "    stats = defaultdict(list) \n",
    "    \n",
    "    for i, text in enumerate(textobjs):\n",
    "        for word in text.vocab().keys():  \n",
    "            \n",
    "            tfidfscore = collection.tf_idf(word, text)\n",
    "            tf = collection.tf(word, text) \n",
    "            count = text.count(word) \n",
    "            if tfidfscore > 0: \n",
    "                stats[filenames[i]].append({\n",
    "                    \"word\": word,\n",
    "                    \"tfidf\": tfidfscore,\n",
    "                    \"tf\": tf,\n",
    "                    \"count\": count\n",
    "                })\n",
    "    return stats"
   ]
  },
  {
   "cell_type": "code",
   "execution_count": 118,
   "metadata": {
    "collapsed": true
   },
   "outputs": [],
   "source": [
    "def top_n(list_of_dicts, field, n):\n",
    "    \"\"\" Sorts dicts by a field's value and returns N top results. \"\"\"\n",
    "    return sorted(list_of_dicts, key=lambda x: x[field], reverse=True)[0:n]"
   ]
  },
  {
   "cell_type": "code",
   "execution_count": 119,
   "metadata": {
    "collapsed": true
   },
   "outputs": [],
   "source": [
    "def myfunction(folder,output_file):\n",
    "    files = nlp.get_filenames(folder)\n",
    "    mycoll = compute_tfidfs_by_doc(files)\n",
    "    with open(output_file, \"w\") as handle:\n",
    "        for key, values in mycoll.items():\n",
    "            top_10 = top_n(values, 'tfidf', 10)   \n",
    "            for result in top_10:\n",
    "                result['word'] = str(result['word'])\n",
    "                result['tfidf'] = str(result['tfidf'])\n",
    "                result['count'] = str(result['count'])\n",
    "                result['tf'] = str(result['tf'])\n",
    "                handle.write(','.join([key, result['word'],result['tfidf'],result['count'],result['tf'], \"\\n\"]))"
   ]
  },
  {
   "cell_type": "code",
   "execution_count": 120,
   "metadata": {
    "collapsed": true
   },
   "outputs": [],
   "source": [
    "myfunction(\"data/myreviews/\",\"top10reviews\")"
   ]
  },
  {
   "cell_type": "code",
   "execution_count": 121,
   "metadata": {
    "collapsed": true
   },
   "outputs": [],
   "source": [
    "mydataframe = pd.read_csv(\"top10reviews\", names = ['Key','Word','TF-IDF','Count', 'TF' ,'NaN'])"
   ]
  },
  {
   "cell_type": "code",
   "execution_count": 122,
   "metadata": {},
   "outputs": [
    {
     "data": {
      "text/html": [
       "<div>\n",
       "<table border=\"1\" class=\"dataframe\">\n",
       "  <thead>\n",
       "    <tr style=\"text-align: right;\">\n",
       "      <th></th>\n",
       "      <th>Key</th>\n",
       "      <th>Word</th>\n",
       "      <th>TF-IDF</th>\n",
       "      <th>Count</th>\n",
       "      <th>TF</th>\n",
       "      <th>NaN</th>\n",
       "    </tr>\n",
       "  </thead>\n",
       "  <tbody>\n",
       "    <tr>\n",
       "      <th>0</th>\n",
       "      <td>data/myreviews/review24.txt</td>\n",
       "      <td>delay</td>\n",
       "      <td>0.090140</td>\n",
       "      <td>2</td>\n",
       "      <td>0.024691</td>\n",
       "      <td>NaN</td>\n",
       "    </tr>\n",
       "    <tr>\n",
       "      <th>1</th>\n",
       "      <td>data/myreviews/review24.txt</td>\n",
       "      <td>flying</td>\n",
       "      <td>0.059207</td>\n",
       "      <td>2</td>\n",
       "      <td>0.024691</td>\n",
       "      <td>NaN</td>\n",
       "    </tr>\n",
       "    <tr>\n",
       "      <th>2</th>\n",
       "      <td>data/myreviews/review24.txt</td>\n",
       "      <td>exercise</td>\n",
       "      <td>0.053627</td>\n",
       "      <td>1</td>\n",
       "      <td>0.012346</td>\n",
       "      <td>NaN</td>\n",
       "    </tr>\n",
       "    <tr>\n",
       "      <th>3</th>\n",
       "      <td>data/myreviews/review24.txt</td>\n",
       "      <td>Airline</td>\n",
       "      <td>0.053627</td>\n",
       "      <td>1</td>\n",
       "      <td>0.012346</td>\n",
       "      <td>NaN</td>\n",
       "    </tr>\n",
       "    <tr>\n",
       "      <th>4</th>\n",
       "      <td>data/myreviews/review24.txt</td>\n",
       "      <td>Beware</td>\n",
       "      <td>0.053627</td>\n",
       "      <td>1</td>\n",
       "      <td>0.012346</td>\n",
       "      <td>NaN</td>\n",
       "    </tr>\n",
       "  </tbody>\n",
       "</table>\n",
       "</div>"
      ],
      "text/plain": [
       "                           Key      Word    TF-IDF  Count        TF  NaN\n",
       "0  data/myreviews/review24.txt     delay  0.090140      2  0.024691  NaN\n",
       "1  data/myreviews/review24.txt    flying  0.059207      2  0.024691  NaN\n",
       "2  data/myreviews/review24.txt  exercise  0.053627      1  0.012346  NaN\n",
       "3  data/myreviews/review24.txt   Airline  0.053627      1  0.012346  NaN\n",
       "4  data/myreviews/review24.txt    Beware  0.053627      1  0.012346  NaN"
      ]
     },
     "execution_count": 122,
     "metadata": {},
     "output_type": "execute_result"
    }
   ],
   "source": [
    "mydataframe.head()"
   ]
  },
  {
   "cell_type": "code",
   "execution_count": 123,
   "metadata": {
    "collapsed": true
   },
   "outputs": [],
   "source": [
    "del mydataframe['NaN']"
   ]
  },
  {
   "cell_type": "markdown",
   "metadata": {},
   "source": [
    "<h3><center><i> Similarities between the reviews (K-Means) </i></center></h3>"
   ]
  },
  {
   "cell_type": "code",
   "execution_count": 124,
   "metadata": {
    "collapsed": true
   },
   "outputs": [],
   "source": [
    "texts = nlp.load_texts_as_string(filenames)"
   ]
  },
  {
   "cell_type": "code",
   "execution_count": 125,
   "metadata": {
    "collapsed": true
   },
   "outputs": [],
   "source": [
    "tfidf_vectorizer = TfidfVectorizer(max_df=0.8, min_df=0.2, tokenizer=nlp.tokenize_clean_stem)\n",
    "tfidf_matrix = tfidf_vectorizer.fit_transform(texts.values())\n",
    "terms = tfidf_vectorizer.get_feature_names()"
   ]
  },
  {
   "cell_type": "code",
   "execution_count": 126,
   "metadata": {
    "collapsed": true
   },
   "outputs": [],
   "source": [
    "num_clusters = 4\n",
    "km = KMeans(n_clusters=num_clusters)\n",
    "km.fit(tfidf_matrix)\n",
    "clusters = km.labels_.tolist()"
   ]
  },
  {
   "cell_type": "code",
   "execution_count": 134,
   "metadata": {
    "collapsed": true
   },
   "outputs": [],
   "source": [
    "def clean_filename(path):\n",
    "    import os\n",
    "    return os.path.basename(path).strip(\".txt\")"
   ]
  },
  {
   "cell_type": "code",
   "execution_count": 135,
   "metadata": {},
   "outputs": [
    {
     "name": "stdout",
     "output_type": "stream",
     "text": [
      "Top terms per cluster:\n",
      "Cluster 0 words:one,sky,harbor,tsa,'s,go,realli,us,n't,phoenix,\n",
      "\n",
      "Cluster 0 documents: review52, review11, review40, review5, review67, review38, review59, review18, review51, review55, review62, review54, review61,\n",
      "\n",
      "Cluster 1 words:'s,place,time,food,long,like,get,good,flight,peopl,\n",
      "\n",
      "Cluster 1 documents: review24, review19, review50, review57, review10, review32, review44, review0, review76, review43, review25, review39, review74, review14, review23, review66, review29, review1, review9, review37, review46, review3, review65, review16, review6, review56, review26, review35,\n",
      "\n",
      "Cluster 2 words:n't,secur,check,get,'s,go,flight,us,free,tsa,\n",
      "\n",
      "Cluster 2 documents: review2, review63, review20, review12, review33, review45, review41, review48, review22, review53, review4, review31, review28, review73, review69, review49, review15, review7,\n",
      "\n",
      "Cluster 3 words:termin,n't,get,food,go,'s,secur,flight,good,one,\n",
      "\n",
      "Cluster 3 documents: review17, review58, review60, review64, review70, review75, review72, review68, review27, review47, review30, review42, review34, review71, review13, review8, review21, review36,\n",
      "\n",
      "\n",
      "\n"
     ]
    }
   ],
   "source": [
    "print(\"Top terms per cluster:\")\n",
    "order_centroids = km.cluster_centers_.argsort()[:, ::-1] \n",
    "\n",
    "for cluster in range(num_clusters):\n",
    "    print(\"Cluster %d words:\" % cluster, end='')\n",
    "    \n",
    "    for ind in order_centroids[cluster, :10]: \n",
    "        print(terms[ind], end=',')\n",
    "    print()\n",
    "    print()\n",
    "    \n",
    "    print(\"Cluster %d documents:\" % cluster, end='')\n",
    "    \n",
    "\n",
    "    for item, filename in enumerate(list(texts.keys())):\n",
    "        if clusters[item] == cluster:\n",
    "            print(' %s,' % clean_filename(filename), end='')\n",
    "    print() \n",
    "    print()\n",
    "    \n",
    "print()\n",
    "print()"
   ]
  },
  {
   "cell_type": "code",
   "execution_count": 136,
   "metadata": {
    "collapsed": true
   },
   "outputs": [],
   "source": [
    "cluster_colors = {0: '#1b9e77', 1: '#d95f02', 2: '#7570b3', 3: '#e7298a'}\n",
    "\n",
    "#set up cluster names using a dict\n",
    "cluster_names = {3: 'Flight', \n",
    "                 1: 'Food', \n",
    "                 2: 'Security', \n",
    "                 0: 'Harbor'}"
   ]
  },
  {
   "cell_type": "code",
   "execution_count": 137,
   "metadata": {
    "collapsed": true
   },
   "outputs": [],
   "source": [
    "dist = 1 - cosine_similarity(tfidf_matrix)"
   ]
  },
  {
   "cell_type": "code",
   "execution_count": 138,
   "metadata": {
    "collapsed": true
   },
   "outputs": [],
   "source": [
    "mds = MDS(n_components=2, dissimilarity=\"precomputed\")\n",
    "pos = mds.fit_transform(dist)\n",
    "xs, ys = pos[:, 0], pos[:, 1]"
   ]
  },
  {
   "cell_type": "code",
   "execution_count": 140,
   "metadata": {
    "collapsed": true
   },
   "outputs": [],
   "source": [
    "def clean_filenames(paths):\n",
    "    # Makes labels for dots that are just the root filename minus .txt\n",
    "    import os\n",
    "    return [os.path.basename(path).strip(\".txt\") for path in paths]\n",
    "\n",
    "labels = clean_filenames(list(texts.keys()))"
   ]
  },
  {
   "cell_type": "code",
   "execution_count": 141,
   "metadata": {
    "collapsed": true
   },
   "outputs": [],
   "source": [
    "df = pd.DataFrame(dict(x=xs, y=ys, label=clusters, title=labels))"
   ]
  },
  {
   "cell_type": "code",
   "execution_count": 142,
   "metadata": {
    "collapsed": true
   },
   "outputs": [],
   "source": [
    "groups = df.groupby('label')"
   ]
  },
  {
   "cell_type": "code",
   "execution_count": 143,
   "metadata": {},
   "outputs": [
    {
     "data": {
      "image/png": "[encoded data removed]",
      "text/plain": [
       "<matplotlib.figure.Figure at 0x264f2db32b0>"
      ]
     },
     "metadata": {},
     "output_type": "display_data"
    }
   ],
   "source": [
    "fig, ax = plt.subplots(figsize=(17, 9)) \n",
    "ax.margins(0.05)\n",
    "\n",
    "for name, group in groups:\n",
    "    ax.plot(group.x, group.y, marker='o', linestyle='', ms=12, \n",
    "            label=cluster_names[name], color=cluster_colors[name], \n",
    "            mec='none')\n",
    "    ax.set_aspect('auto')\n",
    "    ax.tick_params(\\\n",
    "        axis= 'x',          \n",
    "        which='both',     \n",
    "        bottom='off',      \n",
    "        top='off',         \n",
    "        labelbottom='off')\n",
    "    ax.tick_params(\\\n",
    "        axis= 'y',         \n",
    "        which='both',      \n",
    "        left='off',      \n",
    "        top='off',         \n",
    "        labelleft='off')\n",
    "    \n",
    "ax.legend(numpoints=1)  \n",
    "\n",
    "for i in range(len(df)):\n",
    "    ax.text(df.ix[i]['x'], df.ix[i]['y'], df.ix[i]['title'], size=8) "
   ]
  },
  {
   "cell_type": "code",
   "execution_count": 144,
   "metadata": {},
   "outputs": [
    {
     "data": {
      "image/png": "[encoded data removed]",
      "text/plain": [
       "<matplotlib.figure.Figure at 0x264f2eeee80>"
      ]
     },
     "metadata": {},
     "output_type": "display_data"
    }
   ],
   "source": [
    "def get_years(labels):\n",
    "    return [label.split('_')[-1:][0] for label in labels]\n",
    "\n",
    "mds = MDS(n_components=3, dissimilarity=\"precomputed\", random_state=1)\n",
    "pos = mds.fit_transform(dist)\n",
    "from mpl_toolkits.mplot3d import Axes3D\n",
    "\n",
    "fig = plt.figure()\n",
    "\n",
    "ax = fig.add_subplot(111, projection='3d')\n",
    "ax.scatter(pos[:, 0], pos[:, 1], pos[:, 2])\n",
    "\n",
    "for x, y, z, s in zip(pos[:, 0], pos[:, 1], pos[:, 2], get_years(labels)):\n",
    "    ax.text(x, y, z, s, size=8)\n",
    "\n",
    "plt.show()"
   ]
  },
  {
   "cell_type": "markdown",
   "metadata": {},
   "source": [
    "<h3><center><i> Clustering & Topic Modeling </i></center></h3>"
   ]
  },
  {
   "cell_type": "code",
   "execution_count": 145,
   "metadata": {
    "collapsed": true
   },
   "outputs": [],
   "source": [
    "tfidf = TfidfVectorizer(tokenizer=nlp.tokenize_clean_stem).fit_transform(texts.values())"
   ]
  },
  {
   "cell_type": "code",
   "execution_count": 146,
   "metadata": {
    "collapsed": true
   },
   "outputs": [],
   "source": [
    "vectors = tfidf.toarray()"
   ]
  },
  {
   "cell_type": "code",
   "execution_count": 147,
   "metadata": {
    "collapsed": true
   },
   "outputs": [],
   "source": [
    "dist = pdist(vectors, metric='cosine') "
   ]
  },
  {
   "cell_type": "code",
   "execution_count": 148,
   "metadata": {
    "collapsed": true
   },
   "outputs": [],
   "source": [
    "link = linkage(dist, method=\"ward\")"
   ]
  },
  {
   "cell_type": "code",
   "execution_count": 149,
   "metadata": {
    "collapsed": true
   },
   "outputs": [],
   "source": [
    "def make_dend(data, method='ward', labels=None, height=8):\n",
    "    from pylab import rcParams\n",
    "    dist = pdist(data, metric='cosine')\n",
    "    link = linkage(dist, method=method)\n",
    "    rcParams['figure.figsize'] = 6, height\n",
    "    rcParams['axes.labelsize'] = 5\n",
    "    if not labels:\n",
    "        dend = dendrogram(link, orientation='right') #labels=names)\n",
    "    else:\n",
    "        # the label is actually the file + it's number \n",
    "        dend = dendrogram(link, orientation='right', labels=[str(i) + '_' + label for i, label in enumerate(labels)])\n",
    "    return dist\n",
    "\n",
    "def clean_filenames(paths):\n",
    "    # Makes labels that are just the root filename minus .txt\n",
    "    import os\n",
    "    return [os.path.basename(path).strip(\".txt\") for path in paths]"
   ]
  },
  {
   "cell_type": "code",
   "execution_count": 150,
   "metadata": {},
   "outputs": [
    {
     "data": {
      "image/png": "[encoded data removed]",
      "text/plain": [
       "<matplotlib.figure.Figure at 0x264f24a0e10>"
      ]
     },
     "metadata": {},
     "output_type": "display_data"
    }
   ],
   "source": [
    "dist = make_dend(vectors, method='complete', height=10, labels=clean_filenames(texts.keys()))"
   ]
  },
  {
   "cell_type": "code",
   "execution_count": 151,
   "metadata": {
    "collapsed": true
   },
   "outputs": [],
   "source": [
    "def make_heatmap_matrix(dist, method='complete'):\n",
    "    \"\"\" Pass in the distance matrix; method options are complete or single \"\"\"\n",
    "    # Compute and plot first dendrogram.\n",
    "    fig = plt.figure(figsize=(10,10))\n",
    "    # x y width height (left, bottom, w, h)\n",
    "    ax1 = fig.add_axes([0.05,0.1,0.2,0.6])\n",
    "    Y = linkage(dist, method=method)\n",
    "    Z1 = dendrogram(Y, orientation='right')\n",
    "    ax1.set_xticks([])  # suppress labels on height.\n",
    "    # yticks are the number labels, let them live.\n",
    "\n",
    "    # Compute and plot second dendrogram.\n",
    "    ax2 = fig.add_axes([0.3,0.74,0.6,0.2])\n",
    "    Z2 = dendrogram(Y)\n",
    "    #ax2.set_xticks([])\n",
    "    #ax2.set_yticks([])\n",
    "\n",
    "    #Compute and plot the heatmap\n",
    "    axmatrix = fig.add_axes([0.3,0.1,0.6,0.6])\n",
    "    idx1 = Z1['leaves']\n",
    "    idx2 = Z2['leaves']\n",
    "    D = squareform(dist)\n",
    "    D = D[idx1,:]\n",
    "    D = D[:,idx2]\n",
    "    im = axmatrix.matshow(D, aspect='auto', origin='lower', cmap=plt.cm.YlGnBu)\n",
    "    axmatrix.set_xticks([])\n",
    "    axmatrix.set_yticks([])\n",
    "\n",
    "    # Plot colorbar.\n",
    "    axcolor = fig.add_axes([0.91,0.1,0.02,0.6])\n",
    "    plt.colorbar(im, cax=axcolor)"
   ]
  },
  {
   "cell_type": "code",
   "execution_count": 152,
   "metadata": {},
   "outputs": [
    {
     "data": {
      "image/png": "[encoded data removed]",
      "text/plain": [
       "<matplotlib.figure.Figure at 0x264f4bf6940>"
      ]
     },
     "metadata": {},
     "output_type": "display_data"
    }
   ],
   "source": [
    "make_heatmap_matrix(dist, method='complete')"
   ]
  },
  {
   "cell_type": "markdown",
   "metadata": {},
   "source": [
    "<h3><center><i> Sentiment Analysis </i></center></h3>"
   ]
  },
  {
   "cell_type": "code",
   "execution_count": 153,
   "metadata": {
    "collapsed": true
   },
   "outputs": [],
   "source": [
    "def get_vader_sentiment(sentence, analyzer):\n",
    "    \"\"\" Pass in the setence to be analysed and the analyzer, e.g., sid.\n",
    "    Returns a dictionary of the scores.\n",
    "    \"\"\"\n",
    "    ss = analyzer.polarity_scores(sentence)\n",
    "    return ss"
   ]
  },
  {
   "cell_type": "code",
   "execution_count": 154,
   "metadata": {
    "collapsed": true
   },
   "outputs": [],
   "source": [
    "sid = SentimentIntensityAnalyzer()"
   ]
  },
  {
   "cell_type": "code",
   "execution_count": 155,
   "metadata": {
    "collapsed": true
   },
   "outputs": [],
   "source": [
    "scores = []\n",
    "\n",
    "for file in filenames:\n",
    "    with open(file, encoding=\"utf8\") as handle:\n",
    "        text = handle.read()\n",
    "        text = text.strip(\"\\n\")\n",
    "        sentences = nltk.sent_tokenize(text) \n",
    "        for i, sent in enumerate(sentences):\n",
    "            infos = {'Filename':file,'Text':sent,'Index':i}\n",
    "            myscores = get_vader_sentiment(sent,sid).copy()\n",
    "            mydict = {k : v for d in [infos, myscores] for k,v in d.items()}\n",
    "            scores.append(mydict)"
   ]
  },
  {
   "cell_type": "code",
   "execution_count": 156,
   "metadata": {
    "collapsed": true
   },
   "outputs": [],
   "source": [
    "Sentiment_Reviews = pd.DataFrame.from_records(scores)"
   ]
  },
  {
   "cell_type": "code",
   "execution_count": 157,
   "metadata": {},
   "outputs": [
    {
     "data": {
      "text/html": [
       "<div>\n",
       "<table border=\"1\" class=\"dataframe\">\n",
       "  <thead>\n",
       "    <tr style=\"text-align: right;\">\n",
       "      <th></th>\n",
       "      <th>Filename</th>\n",
       "      <th>Index</th>\n",
       "      <th>Text</th>\n",
       "      <th>compound</th>\n",
       "      <th>neg</th>\n",
       "      <th>neu</th>\n",
       "      <th>pos</th>\n",
       "    </tr>\n",
       "  </thead>\n",
       "  <tbody>\n",
       "    <tr>\n",
       "      <th>636</th>\n",
       "      <td>data/myreviews/review9.txt</td>\n",
       "      <td>1</td>\n",
       "      <td>I love it here it's clean, great places to eat...</td>\n",
       "      <td>0.9606</td>\n",
       "      <td>0.000</td>\n",
       "      <td>0.414</td>\n",
       "      <td>0.586</td>\n",
       "    </tr>\n",
       "    <tr>\n",
       "      <th>30</th>\n",
       "      <td>data/myreviews/review11.txt</td>\n",
       "      <td>22</td>\n",
       "      <td>The Fox Sports Grill at Sky Harbor is a true e...</td>\n",
       "      <td>0.9587</td>\n",
       "      <td>0.082</td>\n",
       "      <td>0.606</td>\n",
       "      <td>0.312</td>\n",
       "    </tr>\n",
       "    <tr>\n",
       "      <th>344</th>\n",
       "      <td>data/myreviews/review52.txt</td>\n",
       "      <td>3</td>\n",
       "      <td>TSA was cool, the lady at Starbucks was awesom...</td>\n",
       "      <td>0.9245</td>\n",
       "      <td>0.000</td>\n",
       "      <td>0.528</td>\n",
       "      <td>0.472</td>\n",
       "    </tr>\n",
       "    <tr>\n",
       "      <th>375</th>\n",
       "      <td>data/myreviews/review54.txt</td>\n",
       "      <td>18</td>\n",
       "      <td>To give those who dislike Sky Harbor the benef...</td>\n",
       "      <td>0.9023</td>\n",
       "      <td>0.078</td>\n",
       "      <td>0.658</td>\n",
       "      <td>0.263</td>\n",
       "    </tr>\n",
       "    <tr>\n",
       "      <th>191</th>\n",
       "      <td>data/myreviews/review31.txt</td>\n",
       "      <td>21</td>\n",
       "      <td>i don't know, but the free wi-fi certainly mad...</td>\n",
       "      <td>0.8955</td>\n",
       "      <td>0.056</td>\n",
       "      <td>0.470</td>\n",
       "      <td>0.474</td>\n",
       "    </tr>\n",
       "  </tbody>\n",
       "</table>\n",
       "</div>"
      ],
      "text/plain": [
       "                        Filename  Index  \\\n",
       "636   data/myreviews/review9.txt      1   \n",
       "30   data/myreviews/review11.txt     22   \n",
       "344  data/myreviews/review52.txt      3   \n",
       "375  data/myreviews/review54.txt     18   \n",
       "191  data/myreviews/review31.txt     21   \n",
       "\n",
       "                                                  Text  compound    neg  \\\n",
       "636  I love it here it's clean, great places to eat...    0.9606  0.000   \n",
       "30   The Fox Sports Grill at Sky Harbor is a true e...    0.9587  0.082   \n",
       "344  TSA was cool, the lady at Starbucks was awesom...    0.9245  0.000   \n",
       "375  To give those who dislike Sky Harbor the benef...    0.9023  0.078   \n",
       "191  i don't know, but the free wi-fi certainly mad...    0.8955  0.056   \n",
       "\n",
       "       neu    pos  \n",
       "636  0.414  0.586  \n",
       "30   0.606  0.312  \n",
       "344  0.528  0.472  \n",
       "375  0.658  0.263  \n",
       "191  0.470  0.474  "
      ]
     },
     "execution_count": 157,
     "metadata": {},
     "output_type": "execute_result"
    }
   ],
   "source": [
    "#Most positive reviews\n",
    "Sentiment_Reviews.sort_values(by ='compound', ascending = False).head()"
   ]
  },
  {
   "cell_type": "code",
   "execution_count": 158,
   "metadata": {},
   "outputs": [
    {
     "data": {
      "text/html": [
       "<div>\n",
       "<table border=\"1\" class=\"dataframe\">\n",
       "  <thead>\n",
       "    <tr style=\"text-align: right;\">\n",
       "      <th></th>\n",
       "      <th>Filename</th>\n",
       "      <th>Index</th>\n",
       "      <th>Text</th>\n",
       "      <th>compound</th>\n",
       "      <th>neg</th>\n",
       "      <th>neu</th>\n",
       "      <th>pos</th>\n",
       "    </tr>\n",
       "  </thead>\n",
       "  <tbody>\n",
       "    <tr>\n",
       "      <th>139</th>\n",
       "      <td>data/myreviews/review27.txt</td>\n",
       "      <td>5</td>\n",
       "      <td>However, it's the oldest terminal, smells bad ...</td>\n",
       "      <td>-0.8425</td>\n",
       "      <td>0.452</td>\n",
       "      <td>0.548</td>\n",
       "      <td>0.00</td>\n",
       "    </tr>\n",
       "    <tr>\n",
       "      <th>91</th>\n",
       "      <td>data/myreviews/review19.txt</td>\n",
       "      <td>9</td>\n",
       "      <td>Yeah I know it sounds crazy but as soon as peo...</td>\n",
       "      <td>-0.8248</td>\n",
       "      <td>0.232</td>\n",
       "      <td>0.728</td>\n",
       "      <td>0.04</td>\n",
       "    </tr>\n",
       "    <tr>\n",
       "      <th>562</th>\n",
       "      <td>data/myreviews/review70.txt</td>\n",
       "      <td>1</td>\n",
       "      <td>I had a connecting flight in another terminal ...</td>\n",
       "      <td>-0.8138</td>\n",
       "      <td>0.317</td>\n",
       "      <td>0.683</td>\n",
       "      <td>0.00</td>\n",
       "    </tr>\n",
       "    <tr>\n",
       "      <th>148</th>\n",
       "      <td>data/myreviews/review27.txt</td>\n",
       "      <td>14</td>\n",
       "      <td>It's way to difficult to navigate your lanes t...</td>\n",
       "      <td>-0.7724</td>\n",
       "      <td>0.179</td>\n",
       "      <td>0.821</td>\n",
       "      <td>0.00</td>\n",
       "    </tr>\n",
       "    <tr>\n",
       "      <th>516</th>\n",
       "      <td>data/myreviews/review64.txt</td>\n",
       "      <td>36</td>\n",
       "      <td>It's not as fabulous as Spokane but... it's al...</td>\n",
       "      <td>-0.7177</td>\n",
       "      <td>0.411</td>\n",
       "      <td>0.589</td>\n",
       "      <td>0.00</td>\n",
       "    </tr>\n",
       "  </tbody>\n",
       "</table>\n",
       "</div>"
      ],
      "text/plain": [
       "                        Filename  Index  \\\n",
       "139  data/myreviews/review27.txt      5   \n",
       "91   data/myreviews/review19.txt      9   \n",
       "562  data/myreviews/review70.txt      1   \n",
       "148  data/myreviews/review27.txt     14   \n",
       "516  data/myreviews/review64.txt     36   \n",
       "\n",
       "                                                  Text  compound    neg  \\\n",
       "139  However, it's the oldest terminal, smells bad ...   -0.8425  0.452   \n",
       "91   Yeah I know it sounds crazy but as soon as peo...   -0.8248  0.232   \n",
       "562  I had a connecting flight in another terminal ...   -0.8138  0.317   \n",
       "148  It's way to difficult to navigate your lanes t...   -0.7724  0.179   \n",
       "516  It's not as fabulous as Spokane but... it's al...   -0.7177  0.411   \n",
       "\n",
       "       neu   pos  \n",
       "139  0.548  0.00  \n",
       "91   0.728  0.04  \n",
       "562  0.683  0.00  \n",
       "148  0.821  0.00  \n",
       "516  0.589  0.00  "
      ]
     },
     "execution_count": 158,
     "metadata": {},
     "output_type": "execute_result"
    }
   ],
   "source": [
    "#Most negative reviews\n",
    "Sentiment_Reviews.sort_values(by ='compound', ascending = True).head()"
   ]
  },
  {
   "cell_type": "code",
   "execution_count": 159,
   "metadata": {
    "collapsed": true
   },
   "outputs": [],
   "source": [
    "NEGWORDS = \"data/sentiment_wordlists/negative-words.txt\"\n",
    "POSWORDS = \"data/sentiment_wordlists/positive-words.txt\"\n",
    "\n",
    "def load_words(path):\n",
    "    with open(path, encoding='utf-8', errors='replace') as handle:\n",
    "        words = handle.readlines()\n",
    "    words = [w.strip() for w in words if w[0] != ';']\n",
    "    words = [word for word in words if word]  # get rid of empty string\n",
    "    return words\n",
    "\n",
    "negwords = load_words(NEGWORDS)\n",
    "poswords = load_words(POSWORDS)"
   ]
  },
  {
   "cell_type": "code",
   "execution_count": 160,
   "metadata": {
    "collapsed": true
   },
   "outputs": [],
   "source": [
    "def get_overlap(list1, list2):\n",
    "    \"\"\" If you have a list of words (tokens) and you want to get the overlap with a second list, \n",
    "    like polarity words.\n",
    "    Returns the overlapping words and their counts as a tuple.\n",
    "    \"\"\"\n",
    "    from collections import Counter\n",
    "    list1_multiset = Counter(list1)\n",
    "    list2_multiset = Counter(list2)\n",
    "    overlap = list((list1_multiset & list2_multiset).elements())\n",
    "    totals = []\n",
    "    for word in overlap:\n",
    "        totals.append((word, list1_multiset[word]))\n",
    "    return totals"
   ]
  },
  {
   "cell_type": "code",
   "execution_count": 161,
   "metadata": {
    "collapsed": true
   },
   "outputs": [],
   "source": [
    "def get_sentiment_counts(text, filename, poswords=poswords, negwords=negwords):\n",
    "    \"\"\" This takes a text, a filename, and polarity wordlists and counts for you.\n",
    "    Returns a dictionary.\n",
    "    \"\"\"\n",
    "    from collections import Counter\n",
    "    count = dict()\n",
    "    overlap_pos = get_overlap(text, poswords)\n",
    "    overlap_neg = get_overlap(text, negwords)\n",
    "    count = {\n",
    "            \"file\": filename,\n",
    "            \"positive_total\": int(sum(Counter(dict(overlap_pos)).values())),\n",
    "            \"positive_words\": list(overlap_pos),\n",
    "            \"negative_total\": int(sum(Counter(dict(overlap_neg)).values())),\n",
    "            \"negative_words\": list(overlap_neg),\n",
    "            \"word_count\": int(len(text)),\n",
    "            \"text\": \" \".join(text)\n",
    "        }\n",
    "    count['net_score'] = count['positive_total'] - count['negative_total']\n",
    "    return count"
   ]
  },
  {
   "cell_type": "code",
   "execution_count": 162,
   "metadata": {
    "collapsed": true
   },
   "outputs": [],
   "source": [
    "myfields = ['file', 'positive_total', 'positive_words', 'negative_total', 'negative_words', 'net_score', 'word_count', 'text']\n",
    "\n",
    "def write_sentiment_results(output_file, filenames, fields):\n",
    "    \"\"\" Input args are the filename to write to, the files you are analying, and fields to write out. \n",
    "    The separator is a tab (\\t).\n",
    "    \"\"\"\n",
    "    import csv\n",
    "    with open(output_file, 'w', errors='ignore') as handle:\n",
    "        writer = csv.DictWriter(handle, fieldnames=fields, delimiter=\"\\t\")\n",
    "        writer.writeheader()\n",
    "        for input_file in filenames:\n",
    "            # here we do exactly what we did above, but for all of them.\n",
    "            tokens = nlp.tokenize_text(input_file)\n",
    "            tokens = nlp.clean_tokens(tokens)\n",
    "            dictversion = get_sentiment_counts(tokens, input_file)\n",
    "            writer.writerow(dictversion)"
   ]
  },
  {
   "cell_type": "code",
   "execution_count": 163,
   "metadata": {
    "collapsed": true
   },
   "outputs": [],
   "source": [
    "write_sentiment_results(\"reviews_airport.csv\", filenames, fields=myfields)"
   ]
  },
  {
   "cell_type": "code",
   "execution_count": 164,
   "metadata": {
    "collapsed": true
   },
   "outputs": [],
   "source": [
    "reviews_df = pd.read_csv(\"reviews_airport.csv\", sep=\"\\t\")"
   ]
  },
  {
   "cell_type": "code",
   "execution_count": 183,
   "metadata": {
    "collapsed": true
   },
   "outputs": [],
   "source": [
    "pos_df = reviews_df.sort_values(by='net_score', ascending = False)"
   ]
  },
  {
   "cell_type": "code",
   "execution_count": 188,
   "metadata": {},
   "outputs": [
    {
     "data": {
      "text/html": [
       "<div>\n",
       "<table border=\"1\" class=\"dataframe\">\n",
       "  <thead>\n",
       "    <tr style=\"text-align: right;\">\n",
       "      <th></th>\n",
       "      <th>file</th>\n",
       "      <th>positive_total</th>\n",
       "      <th>negative_total</th>\n",
       "      <th>net_score</th>\n",
       "      <th>word_count</th>\n",
       "    </tr>\n",
       "  </thead>\n",
       "  <tbody>\n",
       "    <tr>\n",
       "      <th>3</th>\n",
       "      <td>data/myreviews/review11.txt</td>\n",
       "      <td>18</td>\n",
       "      <td>8</td>\n",
       "      <td>10</td>\n",
       "      <td>223</td>\n",
       "    </tr>\n",
       "    <tr>\n",
       "      <th>62</th>\n",
       "      <td>data/myreviews/review65.txt</td>\n",
       "      <td>11</td>\n",
       "      <td>1</td>\n",
       "      <td>10</td>\n",
       "      <td>42</td>\n",
       "    </tr>\n",
       "    <tr>\n",
       "      <th>48</th>\n",
       "      <td>data/myreviews/review52.txt</td>\n",
       "      <td>12</td>\n",
       "      <td>2</td>\n",
       "      <td>10</td>\n",
       "      <td>97</td>\n",
       "    </tr>\n",
       "    <tr>\n",
       "      <th>54</th>\n",
       "      <td>data/myreviews/review58.txt</td>\n",
       "      <td>10</td>\n",
       "      <td>1</td>\n",
       "      <td>9</td>\n",
       "      <td>127</td>\n",
       "    </tr>\n",
       "    <tr>\n",
       "      <th>30</th>\n",
       "      <td>data/myreviews/review36.txt</td>\n",
       "      <td>11</td>\n",
       "      <td>2</td>\n",
       "      <td>9</td>\n",
       "      <td>238</td>\n",
       "    </tr>\n",
       "    <tr>\n",
       "      <th>52</th>\n",
       "      <td>data/myreviews/review56.txt</td>\n",
       "      <td>10</td>\n",
       "      <td>2</td>\n",
       "      <td>8</td>\n",
       "      <td>103</td>\n",
       "    </tr>\n",
       "    <tr>\n",
       "      <th>72</th>\n",
       "      <td>data/myreviews/review74.txt</td>\n",
       "      <td>11</td>\n",
       "      <td>3</td>\n",
       "      <td>8</td>\n",
       "      <td>58</td>\n",
       "    </tr>\n",
       "    <tr>\n",
       "      <th>25</th>\n",
       "      <td>data/myreviews/review31.txt</td>\n",
       "      <td>13</td>\n",
       "      <td>5</td>\n",
       "      <td>8</td>\n",
       "      <td>135</td>\n",
       "    </tr>\n",
       "    <tr>\n",
       "      <th>28</th>\n",
       "      <td>data/myreviews/review34.txt</td>\n",
       "      <td>8</td>\n",
       "      <td>1</td>\n",
       "      <td>7</td>\n",
       "      <td>47</td>\n",
       "    </tr>\n",
       "    <tr>\n",
       "      <th>39</th>\n",
       "      <td>data/myreviews/review44.txt</td>\n",
       "      <td>7</td>\n",
       "      <td>0</td>\n",
       "      <td>7</td>\n",
       "      <td>35</td>\n",
       "    </tr>\n",
       "    <tr>\n",
       "      <th>22</th>\n",
       "      <td>data/myreviews/review29.txt</td>\n",
       "      <td>7</td>\n",
       "      <td>0</td>\n",
       "      <td>7</td>\n",
       "      <td>65</td>\n",
       "    </tr>\n",
       "    <tr>\n",
       "      <th>40</th>\n",
       "      <td>data/myreviews/review45.txt</td>\n",
       "      <td>13</td>\n",
       "      <td>7</td>\n",
       "      <td>6</td>\n",
       "      <td>95</td>\n",
       "    </tr>\n",
       "    <tr>\n",
       "      <th>31</th>\n",
       "      <td>data/myreviews/review37.txt</td>\n",
       "      <td>7</td>\n",
       "      <td>1</td>\n",
       "      <td>6</td>\n",
       "      <td>51</td>\n",
       "    </tr>\n",
       "    <tr>\n",
       "      <th>26</th>\n",
       "      <td>data/myreviews/review32.txt</td>\n",
       "      <td>7</td>\n",
       "      <td>1</td>\n",
       "      <td>6</td>\n",
       "      <td>68</td>\n",
       "    </tr>\n",
       "    <tr>\n",
       "      <th>55</th>\n",
       "      <td>data/myreviews/review59.txt</td>\n",
       "      <td>6</td>\n",
       "      <td>1</td>\n",
       "      <td>5</td>\n",
       "      <td>42</td>\n",
       "    </tr>\n",
       "    <tr>\n",
       "      <th>34</th>\n",
       "      <td>data/myreviews/review4.txt</td>\n",
       "      <td>9</td>\n",
       "      <td>4</td>\n",
       "      <td>5</td>\n",
       "      <td>120</td>\n",
       "    </tr>\n",
       "    <tr>\n",
       "      <th>4</th>\n",
       "      <td>data/myreviews/review12.txt</td>\n",
       "      <td>8</td>\n",
       "      <td>3</td>\n",
       "      <td>5</td>\n",
       "      <td>212</td>\n",
       "    </tr>\n",
       "    <tr>\n",
       "      <th>76</th>\n",
       "      <td>data/myreviews/review9.txt</td>\n",
       "      <td>5</td>\n",
       "      <td>0</td>\n",
       "      <td>5</td>\n",
       "      <td>23</td>\n",
       "    </tr>\n",
       "    <tr>\n",
       "      <th>49</th>\n",
       "      <td>data/myreviews/review53.txt</td>\n",
       "      <td>5</td>\n",
       "      <td>1</td>\n",
       "      <td>4</td>\n",
       "      <td>49</td>\n",
       "    </tr>\n",
       "    <tr>\n",
       "      <th>61</th>\n",
       "      <td>data/myreviews/review64.txt</td>\n",
       "      <td>16</td>\n",
       "      <td>12</td>\n",
       "      <td>4</td>\n",
       "      <td>217</td>\n",
       "    </tr>\n",
       "    <tr>\n",
       "      <th>41</th>\n",
       "      <td>data/myreviews/review46.txt</td>\n",
       "      <td>6</td>\n",
       "      <td>2</td>\n",
       "      <td>4</td>\n",
       "      <td>63</td>\n",
       "    </tr>\n",
       "    <tr>\n",
       "      <th>63</th>\n",
       "      <td>data/myreviews/review66.txt</td>\n",
       "      <td>5</td>\n",
       "      <td>1</td>\n",
       "      <td>4</td>\n",
       "      <td>36</td>\n",
       "    </tr>\n",
       "    <tr>\n",
       "      <th>67</th>\n",
       "      <td>data/myreviews/review7.txt</td>\n",
       "      <td>8</td>\n",
       "      <td>4</td>\n",
       "      <td>4</td>\n",
       "      <td>73</td>\n",
       "    </tr>\n",
       "    <tr>\n",
       "      <th>38</th>\n",
       "      <td>data/myreviews/review43.txt</td>\n",
       "      <td>8</td>\n",
       "      <td>4</td>\n",
       "      <td>4</td>\n",
       "      <td>66</td>\n",
       "    </tr>\n",
       "    <tr>\n",
       "      <th>0</th>\n",
       "      <td>data/myreviews/review0.txt</td>\n",
       "      <td>3</td>\n",
       "      <td>0</td>\n",
       "      <td>3</td>\n",
       "      <td>24</td>\n",
       "    </tr>\n",
       "    <tr>\n",
       "      <th>70</th>\n",
       "      <td>data/myreviews/review72.txt</td>\n",
       "      <td>7</td>\n",
       "      <td>4</td>\n",
       "      <td>3</td>\n",
       "      <td>75</td>\n",
       "    </tr>\n",
       "    <tr>\n",
       "      <th>10</th>\n",
       "      <td>data/myreviews/review18.txt</td>\n",
       "      <td>3</td>\n",
       "      <td>0</td>\n",
       "      <td>3</td>\n",
       "      <td>31</td>\n",
       "    </tr>\n",
       "    <tr>\n",
       "      <th>1</th>\n",
       "      <td>data/myreviews/review1.txt</td>\n",
       "      <td>3</td>\n",
       "      <td>0</td>\n",
       "      <td>3</td>\n",
       "      <td>48</td>\n",
       "    </tr>\n",
       "    <tr>\n",
       "      <th>6</th>\n",
       "      <td>data/myreviews/review14.txt</td>\n",
       "      <td>5</td>\n",
       "      <td>2</td>\n",
       "      <td>3</td>\n",
       "      <td>65</td>\n",
       "    </tr>\n",
       "    <tr>\n",
       "      <th>18</th>\n",
       "      <td>data/myreviews/review25.txt</td>\n",
       "      <td>2</td>\n",
       "      <td>0</td>\n",
       "      <td>2</td>\n",
       "      <td>9</td>\n",
       "    </tr>\n",
       "    <tr>\n",
       "      <th>...</th>\n",
       "      <td>...</td>\n",
       "      <td>...</td>\n",
       "      <td>...</td>\n",
       "      <td>...</td>\n",
       "      <td>...</td>\n",
       "    </tr>\n",
       "    <tr>\n",
       "      <th>19</th>\n",
       "      <td>data/myreviews/review26.txt</td>\n",
       "      <td>4</td>\n",
       "      <td>3</td>\n",
       "      <td>1</td>\n",
       "      <td>58</td>\n",
       "    </tr>\n",
       "    <tr>\n",
       "      <th>35</th>\n",
       "      <td>data/myreviews/review40.txt</td>\n",
       "      <td>3</td>\n",
       "      <td>2</td>\n",
       "      <td>1</td>\n",
       "      <td>80</td>\n",
       "    </tr>\n",
       "    <tr>\n",
       "      <th>27</th>\n",
       "      <td>data/myreviews/review33.txt</td>\n",
       "      <td>2</td>\n",
       "      <td>2</td>\n",
       "      <td>0</td>\n",
       "      <td>59</td>\n",
       "    </tr>\n",
       "    <tr>\n",
       "      <th>2</th>\n",
       "      <td>data/myreviews/review10.txt</td>\n",
       "      <td>2</td>\n",
       "      <td>2</td>\n",
       "      <td>0</td>\n",
       "      <td>14</td>\n",
       "    </tr>\n",
       "    <tr>\n",
       "      <th>42</th>\n",
       "      <td>data/myreviews/review47.txt</td>\n",
       "      <td>2</td>\n",
       "      <td>2</td>\n",
       "      <td>0</td>\n",
       "      <td>36</td>\n",
       "    </tr>\n",
       "    <tr>\n",
       "      <th>15</th>\n",
       "      <td>data/myreviews/review22.txt</td>\n",
       "      <td>0</td>\n",
       "      <td>0</td>\n",
       "      <td>0</td>\n",
       "      <td>13</td>\n",
       "    </tr>\n",
       "    <tr>\n",
       "      <th>5</th>\n",
       "      <td>data/myreviews/review13.txt</td>\n",
       "      <td>1</td>\n",
       "      <td>1</td>\n",
       "      <td>0</td>\n",
       "      <td>26</td>\n",
       "    </tr>\n",
       "    <tr>\n",
       "      <th>32</th>\n",
       "      <td>data/myreviews/review38.txt</td>\n",
       "      <td>1</td>\n",
       "      <td>1</td>\n",
       "      <td>0</td>\n",
       "      <td>45</td>\n",
       "    </tr>\n",
       "    <tr>\n",
       "      <th>36</th>\n",
       "      <td>data/myreviews/review41.txt</td>\n",
       "      <td>1</td>\n",
       "      <td>2</td>\n",
       "      <td>-1</td>\n",
       "      <td>42</td>\n",
       "    </tr>\n",
       "    <tr>\n",
       "      <th>13</th>\n",
       "      <td>data/myreviews/review20.txt</td>\n",
       "      <td>4</td>\n",
       "      <td>5</td>\n",
       "      <td>-1</td>\n",
       "      <td>55</td>\n",
       "    </tr>\n",
       "    <tr>\n",
       "      <th>29</th>\n",
       "      <td>data/myreviews/review35.txt</td>\n",
       "      <td>0</td>\n",
       "      <td>1</td>\n",
       "      <td>-1</td>\n",
       "      <td>19</td>\n",
       "    </tr>\n",
       "    <tr>\n",
       "      <th>68</th>\n",
       "      <td>data/myreviews/review70.txt</td>\n",
       "      <td>8</td>\n",
       "      <td>9</td>\n",
       "      <td>-1</td>\n",
       "      <td>113</td>\n",
       "    </tr>\n",
       "    <tr>\n",
       "      <th>33</th>\n",
       "      <td>data/myreviews/review39.txt</td>\n",
       "      <td>3</td>\n",
       "      <td>4</td>\n",
       "      <td>-1</td>\n",
       "      <td>32</td>\n",
       "    </tr>\n",
       "    <tr>\n",
       "      <th>64</th>\n",
       "      <td>data/myreviews/review67.txt</td>\n",
       "      <td>2</td>\n",
       "      <td>3</td>\n",
       "      <td>-1</td>\n",
       "      <td>35</td>\n",
       "    </tr>\n",
       "    <tr>\n",
       "      <th>50</th>\n",
       "      <td>data/myreviews/review54.txt</td>\n",
       "      <td>12</td>\n",
       "      <td>13</td>\n",
       "      <td>-1</td>\n",
       "      <td>177</td>\n",
       "    </tr>\n",
       "    <tr>\n",
       "      <th>8</th>\n",
       "      <td>data/myreviews/review16.txt</td>\n",
       "      <td>0</td>\n",
       "      <td>1</td>\n",
       "      <td>-1</td>\n",
       "      <td>2</td>\n",
       "    </tr>\n",
       "    <tr>\n",
       "      <th>37</th>\n",
       "      <td>data/myreviews/review42.txt</td>\n",
       "      <td>1</td>\n",
       "      <td>2</td>\n",
       "      <td>-1</td>\n",
       "      <td>11</td>\n",
       "    </tr>\n",
       "    <tr>\n",
       "      <th>16</th>\n",
       "      <td>data/myreviews/review23.txt</td>\n",
       "      <td>0</td>\n",
       "      <td>1</td>\n",
       "      <td>-1</td>\n",
       "      <td>24</td>\n",
       "    </tr>\n",
       "    <tr>\n",
       "      <th>9</th>\n",
       "      <td>data/myreviews/review17.txt</td>\n",
       "      <td>3</td>\n",
       "      <td>4</td>\n",
       "      <td>-1</td>\n",
       "      <td>62</td>\n",
       "    </tr>\n",
       "    <tr>\n",
       "      <th>43</th>\n",
       "      <td>data/myreviews/review48.txt</td>\n",
       "      <td>4</td>\n",
       "      <td>5</td>\n",
       "      <td>-1</td>\n",
       "      <td>57</td>\n",
       "    </tr>\n",
       "    <tr>\n",
       "      <th>60</th>\n",
       "      <td>data/myreviews/review63.txt</td>\n",
       "      <td>0</td>\n",
       "      <td>2</td>\n",
       "      <td>-2</td>\n",
       "      <td>14</td>\n",
       "    </tr>\n",
       "    <tr>\n",
       "      <th>69</th>\n",
       "      <td>data/myreviews/review71.txt</td>\n",
       "      <td>1</td>\n",
       "      <td>3</td>\n",
       "      <td>-2</td>\n",
       "      <td>25</td>\n",
       "    </tr>\n",
       "    <tr>\n",
       "      <th>23</th>\n",
       "      <td>data/myreviews/review3.txt</td>\n",
       "      <td>0</td>\n",
       "      <td>2</td>\n",
       "      <td>-2</td>\n",
       "      <td>6</td>\n",
       "    </tr>\n",
       "    <tr>\n",
       "      <th>46</th>\n",
       "      <td>data/myreviews/review50.txt</td>\n",
       "      <td>1</td>\n",
       "      <td>3</td>\n",
       "      <td>-2</td>\n",
       "      <td>11</td>\n",
       "    </tr>\n",
       "    <tr>\n",
       "      <th>58</th>\n",
       "      <td>data/myreviews/review61.txt</td>\n",
       "      <td>5</td>\n",
       "      <td>8</td>\n",
       "      <td>-3</td>\n",
       "      <td>108</td>\n",
       "    </tr>\n",
       "    <tr>\n",
       "      <th>71</th>\n",
       "      <td>data/myreviews/review73.txt</td>\n",
       "      <td>3</td>\n",
       "      <td>6</td>\n",
       "      <td>-3</td>\n",
       "      <td>120</td>\n",
       "    </tr>\n",
       "    <tr>\n",
       "      <th>74</th>\n",
       "      <td>data/myreviews/review76.txt</td>\n",
       "      <td>1</td>\n",
       "      <td>4</td>\n",
       "      <td>-3</td>\n",
       "      <td>34</td>\n",
       "    </tr>\n",
       "    <tr>\n",
       "      <th>57</th>\n",
       "      <td>data/myreviews/review60.txt</td>\n",
       "      <td>2</td>\n",
       "      <td>7</td>\n",
       "      <td>-5</td>\n",
       "      <td>120</td>\n",
       "    </tr>\n",
       "    <tr>\n",
       "      <th>12</th>\n",
       "      <td>data/myreviews/review2.txt</td>\n",
       "      <td>4</td>\n",
       "      <td>9</td>\n",
       "      <td>-5</td>\n",
       "      <td>120</td>\n",
       "    </tr>\n",
       "    <tr>\n",
       "      <th>45</th>\n",
       "      <td>data/myreviews/review5.txt</td>\n",
       "      <td>4</td>\n",
       "      <td>12</td>\n",
       "      <td>-8</td>\n",
       "      <td>134</td>\n",
       "    </tr>\n",
       "  </tbody>\n",
       "</table>\n",
       "<p>77 rows × 5 columns</p>\n",
       "</div>"
      ],
      "text/plain": [
       "                           file  positive_total  negative_total  net_score  \\\n",
       "3   data/myreviews/review11.txt              18               8         10   \n",
       "62  data/myreviews/review65.txt              11               1         10   \n",
       "48  data/myreviews/review52.txt              12               2         10   \n",
       "54  data/myreviews/review58.txt              10               1          9   \n",
       "30  data/myreviews/review36.txt              11               2          9   \n",
       "52  data/myreviews/review56.txt              10               2          8   \n",
       "72  data/myreviews/review74.txt              11               3          8   \n",
       "25  data/myreviews/review31.txt              13               5          8   \n",
       "28  data/myreviews/review34.txt               8               1          7   \n",
       "39  data/myreviews/review44.txt               7               0          7   \n",
       "22  data/myreviews/review29.txt               7               0          7   \n",
       "40  data/myreviews/review45.txt              13               7          6   \n",
       "31  data/myreviews/review37.txt               7               1          6   \n",
       "26  data/myreviews/review32.txt               7               1          6   \n",
       "55  data/myreviews/review59.txt               6               1          5   \n",
       "34   data/myreviews/review4.txt               9               4          5   \n",
       "4   data/myreviews/review12.txt               8               3          5   \n",
       "76   data/myreviews/review9.txt               5               0          5   \n",
       "49  data/myreviews/review53.txt               5               1          4   \n",
       "61  data/myreviews/review64.txt              16              12          4   \n",
       "41  data/myreviews/review46.txt               6               2          4   \n",
       "63  data/myreviews/review66.txt               5               1          4   \n",
       "67   data/myreviews/review7.txt               8               4          4   \n",
       "38  data/myreviews/review43.txt               8               4          4   \n",
       "0    data/myreviews/review0.txt               3               0          3   \n",
       "70  data/myreviews/review72.txt               7               4          3   \n",
       "10  data/myreviews/review18.txt               3               0          3   \n",
       "1    data/myreviews/review1.txt               3               0          3   \n",
       "6   data/myreviews/review14.txt               5               2          3   \n",
       "18  data/myreviews/review25.txt               2               0          2   \n",
       "..                          ...             ...             ...        ...   \n",
       "19  data/myreviews/review26.txt               4               3          1   \n",
       "35  data/myreviews/review40.txt               3               2          1   \n",
       "27  data/myreviews/review33.txt               2               2          0   \n",
       "2   data/myreviews/review10.txt               2               2          0   \n",
       "42  data/myreviews/review47.txt               2               2          0   \n",
       "15  data/myreviews/review22.txt               0               0          0   \n",
       "5   data/myreviews/review13.txt               1               1          0   \n",
       "32  data/myreviews/review38.txt               1               1          0   \n",
       "36  data/myreviews/review41.txt               1               2         -1   \n",
       "13  data/myreviews/review20.txt               4               5         -1   \n",
       "29  data/myreviews/review35.txt               0               1         -1   \n",
       "68  data/myreviews/review70.txt               8               9         -1   \n",
       "33  data/myreviews/review39.txt               3               4         -1   \n",
       "64  data/myreviews/review67.txt               2               3         -1   \n",
       "50  data/myreviews/review54.txt              12              13         -1   \n",
       "8   data/myreviews/review16.txt               0               1         -1   \n",
       "37  data/myreviews/review42.txt               1               2         -1   \n",
       "16  data/myreviews/review23.txt               0               1         -1   \n",
       "9   data/myreviews/review17.txt               3               4         -1   \n",
       "43  data/myreviews/review48.txt               4               5         -1   \n",
       "60  data/myreviews/review63.txt               0               2         -2   \n",
       "69  data/myreviews/review71.txt               1               3         -2   \n",
       "23   data/myreviews/review3.txt               0               2         -2   \n",
       "46  data/myreviews/review50.txt               1               3         -2   \n",
       "58  data/myreviews/review61.txt               5               8         -3   \n",
       "71  data/myreviews/review73.txt               3               6         -3   \n",
       "74  data/myreviews/review76.txt               1               4         -3   \n",
       "57  data/myreviews/review60.txt               2               7         -5   \n",
       "12   data/myreviews/review2.txt               4               9         -5   \n",
       "45   data/myreviews/review5.txt               4              12         -8   \n",
       "\n",
       "    word_count  \n",
       "3          223  \n",
       "62          42  \n",
       "48          97  \n",
       "54         127  \n",
       "30         238  \n",
       "52         103  \n",
       "72          58  \n",
       "25         135  \n",
       "28          47  \n",
       "39          35  \n",
       "22          65  \n",
       "40          95  \n",
       "31          51  \n",
       "26          68  \n",
       "55          42  \n",
       "34         120  \n",
       "4          212  \n",
       "76          23  \n",
       "49          49  \n",
       "61         217  \n",
       "41          63  \n",
       "63          36  \n",
       "67          73  \n",
       "38          66  \n",
       "0           24  \n",
       "70          75  \n",
       "10          31  \n",
       "1           48  \n",
       "6           65  \n",
       "18           9  \n",
       "..         ...  \n",
       "19          58  \n",
       "35          80  \n",
       "27          59  \n",
       "2           14  \n",
       "42          36  \n",
       "15          13  \n",
       "5           26  \n",
       "32          45  \n",
       "36          42  \n",
       "13          55  \n",
       "29          19  \n",
       "68         113  \n",
       "33          32  \n",
       "64          35  \n",
       "50         177  \n",
       "8            2  \n",
       "37          11  \n",
       "16          24  \n",
       "9           62  \n",
       "43          57  \n",
       "60          14  \n",
       "69          25  \n",
       "23           6  \n",
       "46          11  \n",
       "58         108  \n",
       "71         120  \n",
       "74          34  \n",
       "57         120  \n",
       "12         120  \n",
       "45         134  \n",
       "\n",
       "[77 rows x 5 columns]"
      ]
     },
     "execution_count": 188,
     "metadata": {},
     "output_type": "execute_result"
    }
   ],
   "source": [
    "pos_df[['file', 'positive_total', 'negative_total', 'net_score', 'word_count']]"
   ]
  },
  {
   "cell_type": "code",
   "execution_count": 189,
   "metadata": {
    "collapsed": true
   },
   "outputs": [],
   "source": [
    "neg_df = reviews_df.sort_values(by='net_score', ascending = True)"
   ]
  },
  {
   "cell_type": "code",
   "execution_count": 191,
   "metadata": {},
   "outputs": [
    {
     "data": {
      "text/html": [
       "<div>\n",
       "<table border=\"1\" class=\"dataframe\">\n",
       "  <thead>\n",
       "    <tr style=\"text-align: right;\">\n",
       "      <th></th>\n",
       "      <th>file</th>\n",
       "      <th>positive_total</th>\n",
       "      <th>negative_total</th>\n",
       "      <th>net_score</th>\n",
       "      <th>word_count</th>\n",
       "    </tr>\n",
       "  </thead>\n",
       "  <tbody>\n",
       "    <tr>\n",
       "      <th>45</th>\n",
       "      <td>data/myreviews/review5.txt</td>\n",
       "      <td>4</td>\n",
       "      <td>12</td>\n",
       "      <td>-8</td>\n",
       "      <td>134</td>\n",
       "    </tr>\n",
       "    <tr>\n",
       "      <th>12</th>\n",
       "      <td>data/myreviews/review2.txt</td>\n",
       "      <td>4</td>\n",
       "      <td>9</td>\n",
       "      <td>-5</td>\n",
       "      <td>120</td>\n",
       "    </tr>\n",
       "    <tr>\n",
       "      <th>57</th>\n",
       "      <td>data/myreviews/review60.txt</td>\n",
       "      <td>2</td>\n",
       "      <td>7</td>\n",
       "      <td>-5</td>\n",
       "      <td>120</td>\n",
       "    </tr>\n",
       "    <tr>\n",
       "      <th>74</th>\n",
       "      <td>data/myreviews/review76.txt</td>\n",
       "      <td>1</td>\n",
       "      <td>4</td>\n",
       "      <td>-3</td>\n",
       "      <td>34</td>\n",
       "    </tr>\n",
       "    <tr>\n",
       "      <th>58</th>\n",
       "      <td>data/myreviews/review61.txt</td>\n",
       "      <td>5</td>\n",
       "      <td>8</td>\n",
       "      <td>-3</td>\n",
       "      <td>108</td>\n",
       "    </tr>\n",
       "    <tr>\n",
       "      <th>71</th>\n",
       "      <td>data/myreviews/review73.txt</td>\n",
       "      <td>3</td>\n",
       "      <td>6</td>\n",
       "      <td>-3</td>\n",
       "      <td>120</td>\n",
       "    </tr>\n",
       "    <tr>\n",
       "      <th>46</th>\n",
       "      <td>data/myreviews/review50.txt</td>\n",
       "      <td>1</td>\n",
       "      <td>3</td>\n",
       "      <td>-2</td>\n",
       "      <td>11</td>\n",
       "    </tr>\n",
       "    <tr>\n",
       "      <th>69</th>\n",
       "      <td>data/myreviews/review71.txt</td>\n",
       "      <td>1</td>\n",
       "      <td>3</td>\n",
       "      <td>-2</td>\n",
       "      <td>25</td>\n",
       "    </tr>\n",
       "    <tr>\n",
       "      <th>23</th>\n",
       "      <td>data/myreviews/review3.txt</td>\n",
       "      <td>0</td>\n",
       "      <td>2</td>\n",
       "      <td>-2</td>\n",
       "      <td>6</td>\n",
       "    </tr>\n",
       "    <tr>\n",
       "      <th>60</th>\n",
       "      <td>data/myreviews/review63.txt</td>\n",
       "      <td>0</td>\n",
       "      <td>2</td>\n",
       "      <td>-2</td>\n",
       "      <td>14</td>\n",
       "    </tr>\n",
       "    <tr>\n",
       "      <th>43</th>\n",
       "      <td>data/myreviews/review48.txt</td>\n",
       "      <td>4</td>\n",
       "      <td>5</td>\n",
       "      <td>-1</td>\n",
       "      <td>57</td>\n",
       "    </tr>\n",
       "    <tr>\n",
       "      <th>64</th>\n",
       "      <td>data/myreviews/review67.txt</td>\n",
       "      <td>2</td>\n",
       "      <td>3</td>\n",
       "      <td>-1</td>\n",
       "      <td>35</td>\n",
       "    </tr>\n",
       "    <tr>\n",
       "      <th>16</th>\n",
       "      <td>data/myreviews/review23.txt</td>\n",
       "      <td>0</td>\n",
       "      <td>1</td>\n",
       "      <td>-1</td>\n",
       "      <td>24</td>\n",
       "    </tr>\n",
       "    <tr>\n",
       "      <th>29</th>\n",
       "      <td>data/myreviews/review35.txt</td>\n",
       "      <td>0</td>\n",
       "      <td>1</td>\n",
       "      <td>-1</td>\n",
       "      <td>19</td>\n",
       "    </tr>\n",
       "    <tr>\n",
       "      <th>36</th>\n",
       "      <td>data/myreviews/review41.txt</td>\n",
       "      <td>1</td>\n",
       "      <td>2</td>\n",
       "      <td>-1</td>\n",
       "      <td>42</td>\n",
       "    </tr>\n",
       "    <tr>\n",
       "      <th>68</th>\n",
       "      <td>data/myreviews/review70.txt</td>\n",
       "      <td>8</td>\n",
       "      <td>9</td>\n",
       "      <td>-1</td>\n",
       "      <td>113</td>\n",
       "    </tr>\n",
       "    <tr>\n",
       "      <th>37</th>\n",
       "      <td>data/myreviews/review42.txt</td>\n",
       "      <td>1</td>\n",
       "      <td>2</td>\n",
       "      <td>-1</td>\n",
       "      <td>11</td>\n",
       "    </tr>\n",
       "    <tr>\n",
       "      <th>33</th>\n",
       "      <td>data/myreviews/review39.txt</td>\n",
       "      <td>3</td>\n",
       "      <td>4</td>\n",
       "      <td>-1</td>\n",
       "      <td>32</td>\n",
       "    </tr>\n",
       "    <tr>\n",
       "      <th>13</th>\n",
       "      <td>data/myreviews/review20.txt</td>\n",
       "      <td>4</td>\n",
       "      <td>5</td>\n",
       "      <td>-1</td>\n",
       "      <td>55</td>\n",
       "    </tr>\n",
       "    <tr>\n",
       "      <th>9</th>\n",
       "      <td>data/myreviews/review17.txt</td>\n",
       "      <td>3</td>\n",
       "      <td>4</td>\n",
       "      <td>-1</td>\n",
       "      <td>62</td>\n",
       "    </tr>\n",
       "    <tr>\n",
       "      <th>8</th>\n",
       "      <td>data/myreviews/review16.txt</td>\n",
       "      <td>0</td>\n",
       "      <td>1</td>\n",
       "      <td>-1</td>\n",
       "      <td>2</td>\n",
       "    </tr>\n",
       "    <tr>\n",
       "      <th>50</th>\n",
       "      <td>data/myreviews/review54.txt</td>\n",
       "      <td>12</td>\n",
       "      <td>13</td>\n",
       "      <td>-1</td>\n",
       "      <td>177</td>\n",
       "    </tr>\n",
       "    <tr>\n",
       "      <th>15</th>\n",
       "      <td>data/myreviews/review22.txt</td>\n",
       "      <td>0</td>\n",
       "      <td>0</td>\n",
       "      <td>0</td>\n",
       "      <td>13</td>\n",
       "    </tr>\n",
       "    <tr>\n",
       "      <th>42</th>\n",
       "      <td>data/myreviews/review47.txt</td>\n",
       "      <td>2</td>\n",
       "      <td>2</td>\n",
       "      <td>0</td>\n",
       "      <td>36</td>\n",
       "    </tr>\n",
       "    <tr>\n",
       "      <th>5</th>\n",
       "      <td>data/myreviews/review13.txt</td>\n",
       "      <td>1</td>\n",
       "      <td>1</td>\n",
       "      <td>0</td>\n",
       "      <td>26</td>\n",
       "    </tr>\n",
       "    <tr>\n",
       "      <th>2</th>\n",
       "      <td>data/myreviews/review10.txt</td>\n",
       "      <td>2</td>\n",
       "      <td>2</td>\n",
       "      <td>0</td>\n",
       "      <td>14</td>\n",
       "    </tr>\n",
       "    <tr>\n",
       "      <th>32</th>\n",
       "      <td>data/myreviews/review38.txt</td>\n",
       "      <td>1</td>\n",
       "      <td>1</td>\n",
       "      <td>0</td>\n",
       "      <td>45</td>\n",
       "    </tr>\n",
       "    <tr>\n",
       "      <th>27</th>\n",
       "      <td>data/myreviews/review33.txt</td>\n",
       "      <td>2</td>\n",
       "      <td>2</td>\n",
       "      <td>0</td>\n",
       "      <td>59</td>\n",
       "    </tr>\n",
       "    <tr>\n",
       "      <th>47</th>\n",
       "      <td>data/myreviews/review51.txt</td>\n",
       "      <td>1</td>\n",
       "      <td>0</td>\n",
       "      <td>1</td>\n",
       "      <td>4</td>\n",
       "    </tr>\n",
       "    <tr>\n",
       "      <th>59</th>\n",
       "      <td>data/myreviews/review62.txt</td>\n",
       "      <td>2</td>\n",
       "      <td>1</td>\n",
       "      <td>1</td>\n",
       "      <td>24</td>\n",
       "    </tr>\n",
       "    <tr>\n",
       "      <th>...</th>\n",
       "      <td>...</td>\n",
       "      <td>...</td>\n",
       "      <td>...</td>\n",
       "      <td>...</td>\n",
       "      <td>...</td>\n",
       "    </tr>\n",
       "    <tr>\n",
       "      <th>44</th>\n",
       "      <td>data/myreviews/review49.txt</td>\n",
       "      <td>3</td>\n",
       "      <td>1</td>\n",
       "      <td>2</td>\n",
       "      <td>49</td>\n",
       "    </tr>\n",
       "    <tr>\n",
       "      <th>10</th>\n",
       "      <td>data/myreviews/review18.txt</td>\n",
       "      <td>3</td>\n",
       "      <td>0</td>\n",
       "      <td>3</td>\n",
       "      <td>31</td>\n",
       "    </tr>\n",
       "    <tr>\n",
       "      <th>70</th>\n",
       "      <td>data/myreviews/review72.txt</td>\n",
       "      <td>7</td>\n",
       "      <td>4</td>\n",
       "      <td>3</td>\n",
       "      <td>75</td>\n",
       "    </tr>\n",
       "    <tr>\n",
       "      <th>6</th>\n",
       "      <td>data/myreviews/review14.txt</td>\n",
       "      <td>5</td>\n",
       "      <td>2</td>\n",
       "      <td>3</td>\n",
       "      <td>65</td>\n",
       "    </tr>\n",
       "    <tr>\n",
       "      <th>1</th>\n",
       "      <td>data/myreviews/review1.txt</td>\n",
       "      <td>3</td>\n",
       "      <td>0</td>\n",
       "      <td>3</td>\n",
       "      <td>48</td>\n",
       "    </tr>\n",
       "    <tr>\n",
       "      <th>0</th>\n",
       "      <td>data/myreviews/review0.txt</td>\n",
       "      <td>3</td>\n",
       "      <td>0</td>\n",
       "      <td>3</td>\n",
       "      <td>24</td>\n",
       "    </tr>\n",
       "    <tr>\n",
       "      <th>61</th>\n",
       "      <td>data/myreviews/review64.txt</td>\n",
       "      <td>16</td>\n",
       "      <td>12</td>\n",
       "      <td>4</td>\n",
       "      <td>217</td>\n",
       "    </tr>\n",
       "    <tr>\n",
       "      <th>63</th>\n",
       "      <td>data/myreviews/review66.txt</td>\n",
       "      <td>5</td>\n",
       "      <td>1</td>\n",
       "      <td>4</td>\n",
       "      <td>36</td>\n",
       "    </tr>\n",
       "    <tr>\n",
       "      <th>67</th>\n",
       "      <td>data/myreviews/review7.txt</td>\n",
       "      <td>8</td>\n",
       "      <td>4</td>\n",
       "      <td>4</td>\n",
       "      <td>73</td>\n",
       "    </tr>\n",
       "    <tr>\n",
       "      <th>38</th>\n",
       "      <td>data/myreviews/review43.txt</td>\n",
       "      <td>8</td>\n",
       "      <td>4</td>\n",
       "      <td>4</td>\n",
       "      <td>66</td>\n",
       "    </tr>\n",
       "    <tr>\n",
       "      <th>49</th>\n",
       "      <td>data/myreviews/review53.txt</td>\n",
       "      <td>5</td>\n",
       "      <td>1</td>\n",
       "      <td>4</td>\n",
       "      <td>49</td>\n",
       "    </tr>\n",
       "    <tr>\n",
       "      <th>41</th>\n",
       "      <td>data/myreviews/review46.txt</td>\n",
       "      <td>6</td>\n",
       "      <td>2</td>\n",
       "      <td>4</td>\n",
       "      <td>63</td>\n",
       "    </tr>\n",
       "    <tr>\n",
       "      <th>76</th>\n",
       "      <td>data/myreviews/review9.txt</td>\n",
       "      <td>5</td>\n",
       "      <td>0</td>\n",
       "      <td>5</td>\n",
       "      <td>23</td>\n",
       "    </tr>\n",
       "    <tr>\n",
       "      <th>4</th>\n",
       "      <td>data/myreviews/review12.txt</td>\n",
       "      <td>8</td>\n",
       "      <td>3</td>\n",
       "      <td>5</td>\n",
       "      <td>212</td>\n",
       "    </tr>\n",
       "    <tr>\n",
       "      <th>55</th>\n",
       "      <td>data/myreviews/review59.txt</td>\n",
       "      <td>6</td>\n",
       "      <td>1</td>\n",
       "      <td>5</td>\n",
       "      <td>42</td>\n",
       "    </tr>\n",
       "    <tr>\n",
       "      <th>34</th>\n",
       "      <td>data/myreviews/review4.txt</td>\n",
       "      <td>9</td>\n",
       "      <td>4</td>\n",
       "      <td>5</td>\n",
       "      <td>120</td>\n",
       "    </tr>\n",
       "    <tr>\n",
       "      <th>26</th>\n",
       "      <td>data/myreviews/review32.txt</td>\n",
       "      <td>7</td>\n",
       "      <td>1</td>\n",
       "      <td>6</td>\n",
       "      <td>68</td>\n",
       "    </tr>\n",
       "    <tr>\n",
       "      <th>31</th>\n",
       "      <td>data/myreviews/review37.txt</td>\n",
       "      <td>7</td>\n",
       "      <td>1</td>\n",
       "      <td>6</td>\n",
       "      <td>51</td>\n",
       "    </tr>\n",
       "    <tr>\n",
       "      <th>40</th>\n",
       "      <td>data/myreviews/review45.txt</td>\n",
       "      <td>13</td>\n",
       "      <td>7</td>\n",
       "      <td>6</td>\n",
       "      <td>95</td>\n",
       "    </tr>\n",
       "    <tr>\n",
       "      <th>28</th>\n",
       "      <td>data/myreviews/review34.txt</td>\n",
       "      <td>8</td>\n",
       "      <td>1</td>\n",
       "      <td>7</td>\n",
       "      <td>47</td>\n",
       "    </tr>\n",
       "    <tr>\n",
       "      <th>22</th>\n",
       "      <td>data/myreviews/review29.txt</td>\n",
       "      <td>7</td>\n",
       "      <td>0</td>\n",
       "      <td>7</td>\n",
       "      <td>65</td>\n",
       "    </tr>\n",
       "    <tr>\n",
       "      <th>39</th>\n",
       "      <td>data/myreviews/review44.txt</td>\n",
       "      <td>7</td>\n",
       "      <td>0</td>\n",
       "      <td>7</td>\n",
       "      <td>35</td>\n",
       "    </tr>\n",
       "    <tr>\n",
       "      <th>25</th>\n",
       "      <td>data/myreviews/review31.txt</td>\n",
       "      <td>13</td>\n",
       "      <td>5</td>\n",
       "      <td>8</td>\n",
       "      <td>135</td>\n",
       "    </tr>\n",
       "    <tr>\n",
       "      <th>72</th>\n",
       "      <td>data/myreviews/review74.txt</td>\n",
       "      <td>11</td>\n",
       "      <td>3</td>\n",
       "      <td>8</td>\n",
       "      <td>58</td>\n",
       "    </tr>\n",
       "    <tr>\n",
       "      <th>52</th>\n",
       "      <td>data/myreviews/review56.txt</td>\n",
       "      <td>10</td>\n",
       "      <td>2</td>\n",
       "      <td>8</td>\n",
       "      <td>103</td>\n",
       "    </tr>\n",
       "    <tr>\n",
       "      <th>30</th>\n",
       "      <td>data/myreviews/review36.txt</td>\n",
       "      <td>11</td>\n",
       "      <td>2</td>\n",
       "      <td>9</td>\n",
       "      <td>238</td>\n",
       "    </tr>\n",
       "    <tr>\n",
       "      <th>54</th>\n",
       "      <td>data/myreviews/review58.txt</td>\n",
       "      <td>10</td>\n",
       "      <td>1</td>\n",
       "      <td>9</td>\n",
       "      <td>127</td>\n",
       "    </tr>\n",
       "    <tr>\n",
       "      <th>62</th>\n",
       "      <td>data/myreviews/review65.txt</td>\n",
       "      <td>11</td>\n",
       "      <td>1</td>\n",
       "      <td>10</td>\n",
       "      <td>42</td>\n",
       "    </tr>\n",
       "    <tr>\n",
       "      <th>48</th>\n",
       "      <td>data/myreviews/review52.txt</td>\n",
       "      <td>12</td>\n",
       "      <td>2</td>\n",
       "      <td>10</td>\n",
       "      <td>97</td>\n",
       "    </tr>\n",
       "    <tr>\n",
       "      <th>3</th>\n",
       "      <td>data/myreviews/review11.txt</td>\n",
       "      <td>18</td>\n",
       "      <td>8</td>\n",
       "      <td>10</td>\n",
       "      <td>223</td>\n",
       "    </tr>\n",
       "  </tbody>\n",
       "</table>\n",
       "<p>77 rows × 5 columns</p>\n",
       "</div>"
      ],
      "text/plain": [
       "                           file  positive_total  negative_total  net_score  \\\n",
       "45   data/myreviews/review5.txt               4              12         -8   \n",
       "12   data/myreviews/review2.txt               4               9         -5   \n",
       "57  data/myreviews/review60.txt               2               7         -5   \n",
       "74  data/myreviews/review76.txt               1               4         -3   \n",
       "58  data/myreviews/review61.txt               5               8         -3   \n",
       "71  data/myreviews/review73.txt               3               6         -3   \n",
       "46  data/myreviews/review50.txt               1               3         -2   \n",
       "69  data/myreviews/review71.txt               1               3         -2   \n",
       "23   data/myreviews/review3.txt               0               2         -2   \n",
       "60  data/myreviews/review63.txt               0               2         -2   \n",
       "43  data/myreviews/review48.txt               4               5         -1   \n",
       "64  data/myreviews/review67.txt               2               3         -1   \n",
       "16  data/myreviews/review23.txt               0               1         -1   \n",
       "29  data/myreviews/review35.txt               0               1         -1   \n",
       "36  data/myreviews/review41.txt               1               2         -1   \n",
       "68  data/myreviews/review70.txt               8               9         -1   \n",
       "37  data/myreviews/review42.txt               1               2         -1   \n",
       "33  data/myreviews/review39.txt               3               4         -1   \n",
       "13  data/myreviews/review20.txt               4               5         -1   \n",
       "9   data/myreviews/review17.txt               3               4         -1   \n",
       "8   data/myreviews/review16.txt               0               1         -1   \n",
       "50  data/myreviews/review54.txt              12              13         -1   \n",
       "15  data/myreviews/review22.txt               0               0          0   \n",
       "42  data/myreviews/review47.txt               2               2          0   \n",
       "5   data/myreviews/review13.txt               1               1          0   \n",
       "2   data/myreviews/review10.txt               2               2          0   \n",
       "32  data/myreviews/review38.txt               1               1          0   \n",
       "27  data/myreviews/review33.txt               2               2          0   \n",
       "47  data/myreviews/review51.txt               1               0          1   \n",
       "59  data/myreviews/review62.txt               2               1          1   \n",
       "..                          ...             ...             ...        ...   \n",
       "44  data/myreviews/review49.txt               3               1          2   \n",
       "10  data/myreviews/review18.txt               3               0          3   \n",
       "70  data/myreviews/review72.txt               7               4          3   \n",
       "6   data/myreviews/review14.txt               5               2          3   \n",
       "1    data/myreviews/review1.txt               3               0          3   \n",
       "0    data/myreviews/review0.txt               3               0          3   \n",
       "61  data/myreviews/review64.txt              16              12          4   \n",
       "63  data/myreviews/review66.txt               5               1          4   \n",
       "67   data/myreviews/review7.txt               8               4          4   \n",
       "38  data/myreviews/review43.txt               8               4          4   \n",
       "49  data/myreviews/review53.txt               5               1          4   \n",
       "41  data/myreviews/review46.txt               6               2          4   \n",
       "76   data/myreviews/review9.txt               5               0          5   \n",
       "4   data/myreviews/review12.txt               8               3          5   \n",
       "55  data/myreviews/review59.txt               6               1          5   \n",
       "34   data/myreviews/review4.txt               9               4          5   \n",
       "26  data/myreviews/review32.txt               7               1          6   \n",
       "31  data/myreviews/review37.txt               7               1          6   \n",
       "40  data/myreviews/review45.txt              13               7          6   \n",
       "28  data/myreviews/review34.txt               8               1          7   \n",
       "22  data/myreviews/review29.txt               7               0          7   \n",
       "39  data/myreviews/review44.txt               7               0          7   \n",
       "25  data/myreviews/review31.txt              13               5          8   \n",
       "72  data/myreviews/review74.txt              11               3          8   \n",
       "52  data/myreviews/review56.txt              10               2          8   \n",
       "30  data/myreviews/review36.txt              11               2          9   \n",
       "54  data/myreviews/review58.txt              10               1          9   \n",
       "62  data/myreviews/review65.txt              11               1         10   \n",
       "48  data/myreviews/review52.txt              12               2         10   \n",
       "3   data/myreviews/review11.txt              18               8         10   \n",
       "\n",
       "    word_count  \n",
       "45         134  \n",
       "12         120  \n",
       "57         120  \n",
       "74          34  \n",
       "58         108  \n",
       "71         120  \n",
       "46          11  \n",
       "69          25  \n",
       "23           6  \n",
       "60          14  \n",
       "43          57  \n",
       "64          35  \n",
       "16          24  \n",
       "29          19  \n",
       "36          42  \n",
       "68         113  \n",
       "37          11  \n",
       "33          32  \n",
       "13          55  \n",
       "9           62  \n",
       "8            2  \n",
       "50         177  \n",
       "15          13  \n",
       "42          36  \n",
       "5           26  \n",
       "2           14  \n",
       "32          45  \n",
       "27          59  \n",
       "47           4  \n",
       "59          24  \n",
       "..         ...  \n",
       "44          49  \n",
       "10          31  \n",
       "70          75  \n",
       "6           65  \n",
       "1           48  \n",
       "0           24  \n",
       "61         217  \n",
       "63          36  \n",
       "67          73  \n",
       "38          66  \n",
       "49          49  \n",
       "41          63  \n",
       "76          23  \n",
       "4          212  \n",
       "55          42  \n",
       "34         120  \n",
       "26          68  \n",
       "31          51  \n",
       "40          95  \n",
       "28          47  \n",
       "22          65  \n",
       "39          35  \n",
       "25         135  \n",
       "72          58  \n",
       "52         103  \n",
       "30         238  \n",
       "54         127  \n",
       "62          42  \n",
       "48          97  \n",
       "3          223  \n",
       "\n",
       "[77 rows x 5 columns]"
      ]
     },
     "execution_count": 191,
     "metadata": {},
     "output_type": "execute_result"
    }
   ],
   "source": [
    "neg_df[['file', 'positive_total', 'negative_total', 'net_score', 'word_count']]"
   ]
  },
  {
   "cell_type": "code",
   "execution_count": 166,
   "metadata": {},
   "outputs": [
    {
     "data": {
      "text/plain": [
       "<matplotlib.axes._subplots.AxesSubplot at 0x264f4f4b518>"
      ]
     },
     "execution_count": 166,
     "metadata": {},
     "output_type": "execute_result"
    },
    {
     "data": {
      "image/png": "[encoded data removed]",
      "text/plain": [
       "<matplotlib.figure.Figure at 0x264f2dac9e8>"
      ]
     },
     "metadata": {},
     "output_type": "display_data"
    }
   ],
   "source": [
    "reviews_df[[\"positive_total\", \"negative_total\"]].plot(kind=\"bar\")"
   ]
  },
  {
   "cell_type": "code",
   "execution_count": 178,
   "metadata": {},
   "outputs": [
    {
     "data": {
      "image/png": "[encoded data removed]",
      "text/plain": [
       "<matplotlib.figure.Figure at 0x264f2ab1d30>"
      ]
     },
     "metadata": {},
     "output_type": "display_data"
    }
   ],
   "source": [
    "reviews_size = reviews_df.plot(x=\"word_count\", y=\"net_score\", kind=\"scatter\")\n",
    "plt.savefig('reviews.png')"
   ]
  },
  {
   "cell_type": "markdown",
   "metadata": {},
   "source": [
    "Long reviews tend to be rather positive than negative such as the shortest ones"
   ]
  },
  {
   "cell_type": "code",
   "execution_count": 168,
   "metadata": {},
   "outputs": [
    {
     "data": {
      "text/plain": [
       "<matplotlib.axes._subplots.AxesSubplot at 0x264f4e53898>"
      ]
     },
     "execution_count": 168,
     "metadata": {},
     "output_type": "execute_result"
    },
    {
     "data": {
      "image/png": "[encoded data removed]",
      "text/plain": [
       "<matplotlib.figure.Figure at 0x264f4d47240>"
      ]
     },
     "metadata": {},
     "output_type": "display_data"
    }
   ],
   "source": [
    "reviews_df['net_score'].plot(kind=\"bar\")"
   ]
  },
  {
   "cell_type": "code",
   "execution_count": null,
   "metadata": {
    "collapsed": true
   },
   "outputs": [],
   "source": []
  }
 ],
 "metadata": {
  "anaconda-cloud": {},
  "kernelspec": {
   "display_name": "Python 3",
   "language": "python",
   "name": "python3"
  },
  "language_info": {
   "codemirror_mode": {
    "name": "ipython",
    "version": 3
   },
   "file_extension": ".py",
   "mimetype": "text/x-python",
   "name": "python",
   "nbconvert_exporter": "python",
   "pygments_lexer": "ipython3",
   "version": "3.6.1"
  }
 },
 "nbformat": 4,
 "nbformat_minor": 1
}
