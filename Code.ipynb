

# Librairies import

get_ipython().magic('matplotlib inline')
import pandas as pd
import numpy as np
import matplotlib.pyplot as plt
import seaborn as sns
import itertools
import nltk
import string
import nlp_utilities as nlp
from nltk.text import Text
from matplotlib import pyplot
import pymysql
nltk.download()


# Data Import

server = "analyst-toolbelt.cn119w37trlg.eu-west-1.rds.amazonaws.com"
username = "*****"
password = "*****"

connection = pymysql.connect(host=server,
                             user=username,
                             password=password,
                             db='yelp',
                             charset='utf8')

QUERY = """
select * from review
where business_id = 'hW0Ne_HTHEAgGF1rAdmR-g';
"""

myreviews = pd.read_sql(QUERY, connection)

myreviews.head()


# Data Aalysis 
len(myreviews)

# Types of the columns
myreviews.dtypes


# Analysis of the Time Period

SQL1 = "SELECT b.name, a.business_id, a.date, user_id, a.stars, useful_votes, funny_votes, cool_votes, text FROM review a INNER JOIN business b on a.business_id = b.business_id WHERE a.business_id = 'hW0Ne_HTHEAgGF1rAdmR-g' ORDER BY a.date ASC"

firstreview = pd.read_sql(SQL1, connection)
firstreview[:1]

SQL2 = "SELECT b.name, a.business_id, a.date, user_id, a.stars, useful_votes, funny_votes, cool_votes, text FROM review a INNER JOIN business b on a.business_id = b.business_id WHERE a.business_id = 'hW0Ne_HTHEAgGF1rAdmR-g' ORDER BY a.date DESC"

lastreview = pd.read_sql(SQL2, connection)

lastreview[:1]

SQL3 = "SELECT a.stars, count(user_id) FROM review a INNER JOIN business b on a.business_id = b.business_id WHERE a.business_id = 'hW0Ne_HTHEAgGF1rAdmR-g' GROUP BY a.stars"

stars = pd.read_sql(SQL3, connection)

stars

stars.plot.bar(x='stars', rot=0, title='Ratings', figsize=(7,3), fontsize=12)


# Let's check the time period of these ratings 

SQL4 = "SELECT a.date, user_id, a.stars, useful_votes, funny_votes, cool_votes, text FROM review a INNER JOIN business b on a.business_id = b.business_id WHERE a.business_id = 'hW0Ne_HTHEAgGF1rAdmR-g' AND a.stars = '5' ORDER BY 1 ASC"

five_stars = pd.read_sql(SQL4, connection)
len(five_stars)
five_stars[:1]
five_stars[9:10]

get_ipython().magic('matplotlib inline')
myreviews.sort_values(by="date", ascending=True).plot(x="date", y="stars")


# Reviews per user
SQL5 = "SELECT user_id, count(text) FROM review a INNER JOIN business b on a.business_id = b.business_id WHERE a.business_id = 'hW0Ne_HTHEAgGF1rAdmR-g' GROUP BY user_id"

review_per_user = pd.read_sql(SQL5, connection)
review_per_user

SQL6 = "SELECT b.name, a.business_id, a.date, user_id, a.stars, useful_votes, funny_votes, cool_votes, text FROM review a INNER JOIN business b on a.business_id = b.business_id WHERE a.business_id = 'hW0Ne_HTHEAgGF1rAdmR-g' AND funny_votes > '5' ORDER BY funny_votes DESC"

funny_votes = pd.read_sql(SQL6, connection)
funny_votes
funniest = funny_votes[0:1]
funniest['text']


def write_review_files(path, reviewlist):
    """ Takes a directory path to write files into, and a list of review text."""
    if not path.endswith("/"):
        path = path + "/"
    try:
        for i, row in enumerate(reviewlist):
            filename = "review" + str(i) + ".txt"
            with open(path + filename, "w") as handle:
                handle.write(row)
    except:
        print("Something wrong with the path or file list. Does the directory exist?")
    print("Wrote %s files to %s." % (len(reviewlist), path))

write_review_files("data/funnyreview", funniest['text'])



